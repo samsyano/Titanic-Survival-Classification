{
  "nbformat": 4,
  "nbformat_minor": 0,
  "metadata": {
    "colab": {
      "name": "Titanic Classification.ipynb",
      "provenance": [],
      "collapsed_sections": [],
      "authorship_tag": "ABX9TyMo+1YsqIQwuheIF5rCMdhJ",
      "include_colab_link": true
    },
    "kernelspec": {
      "name": "python3",
      "display_name": "Python 3"
    },
    "language_info": {
      "name": "python"
    }
  },
  "cells": [
    {
      "cell_type": "markdown",
      "metadata": {
        "id": "view-in-github",
        "colab_type": "text"
      },
      "source": [
        "<a href=\"https://colab.research.google.com/github/samsyano/Titanic-Survival-Classification/blob/master/Titanic_Classification.ipynb\" target=\"_parent\"><img src=\"https://colab.research.google.com/assets/colab-badge.svg\" alt=\"Open In Colab\"/></a>"
      ]
    },
    {
      "cell_type": "code",
      "execution_count": null,
      "metadata": {
        "id": "fSBlzIgBTOi1"
      },
      "outputs": [],
      "source": [
        "# Import Libraries\n",
        "\n",
        "import numpy as np\n",
        "import pandas as pd\n",
        "import seaborn as sns\n",
        "import matplotlib.pyplot as plt\n"
      ]
    },
    {
      "cell_type": "code",
      "source": [
        "\n",
        "dataset = sns.load_dataset('titanic')\n",
        "# dataset = pd.read_csv(\"train_and_test2.csv\")\n",
        "dataset.head(5)"
      ],
      "metadata": {
        "colab": {
          "base_uri": "https://localhost:8080/",
          "height": 270
        },
        "id": "ED1IDeJ9Wy1x",
        "outputId": "55428c48-5f1e-4ab0-af7d-87a15f53ae63"
      },
      "execution_count": null,
      "outputs": [
        {
          "output_type": "execute_result",
          "data": {
            "text/plain": [
              "   survived  pclass     sex   age  sibsp  parch     fare embarked  class  \\\n",
              "0         0       3    male  22.0      1      0   7.2500        S  Third   \n",
              "1         1       1  female  38.0      1      0  71.2833        C  First   \n",
              "2         1       3  female  26.0      0      0   7.9250        S  Third   \n",
              "3         1       1  female  35.0      1      0  53.1000        S  First   \n",
              "4         0       3    male  35.0      0      0   8.0500        S  Third   \n",
              "\n",
              "     who  adult_male deck  embark_town alive  alone  \n",
              "0    man        True  NaN  Southampton    no  False  \n",
              "1  woman       False    C    Cherbourg   yes  False  \n",
              "2  woman       False  NaN  Southampton   yes   True  \n",
              "3  woman       False    C  Southampton   yes  False  \n",
              "4    man        True  NaN  Southampton    no   True  "
            ],
            "text/html": [
              "\n",
              "  <div id=\"df-2b6a9087-92ed-48bb-94d3-5e8081b7c86a\">\n",
              "    <div class=\"colab-df-container\">\n",
              "      <div>\n",
              "<style scoped>\n",
              "    .dataframe tbody tr th:only-of-type {\n",
              "        vertical-align: middle;\n",
              "    }\n",
              "\n",
              "    .dataframe tbody tr th {\n",
              "        vertical-align: top;\n",
              "    }\n",
              "\n",
              "    .dataframe thead th {\n",
              "        text-align: right;\n",
              "    }\n",
              "</style>\n",
              "<table border=\"1\" class=\"dataframe\">\n",
              "  <thead>\n",
              "    <tr style=\"text-align: right;\">\n",
              "      <th></th>\n",
              "      <th>survived</th>\n",
              "      <th>pclass</th>\n",
              "      <th>sex</th>\n",
              "      <th>age</th>\n",
              "      <th>sibsp</th>\n",
              "      <th>parch</th>\n",
              "      <th>fare</th>\n",
              "      <th>embarked</th>\n",
              "      <th>class</th>\n",
              "      <th>who</th>\n",
              "      <th>adult_male</th>\n",
              "      <th>deck</th>\n",
              "      <th>embark_town</th>\n",
              "      <th>alive</th>\n",
              "      <th>alone</th>\n",
              "    </tr>\n",
              "  </thead>\n",
              "  <tbody>\n",
              "    <tr>\n",
              "      <th>0</th>\n",
              "      <td>0</td>\n",
              "      <td>3</td>\n",
              "      <td>male</td>\n",
              "      <td>22.0</td>\n",
              "      <td>1</td>\n",
              "      <td>0</td>\n",
              "      <td>7.2500</td>\n",
              "      <td>S</td>\n",
              "      <td>Third</td>\n",
              "      <td>man</td>\n",
              "      <td>True</td>\n",
              "      <td>NaN</td>\n",
              "      <td>Southampton</td>\n",
              "      <td>no</td>\n",
              "      <td>False</td>\n",
              "    </tr>\n",
              "    <tr>\n",
              "      <th>1</th>\n",
              "      <td>1</td>\n",
              "      <td>1</td>\n",
              "      <td>female</td>\n",
              "      <td>38.0</td>\n",
              "      <td>1</td>\n",
              "      <td>0</td>\n",
              "      <td>71.2833</td>\n",
              "      <td>C</td>\n",
              "      <td>First</td>\n",
              "      <td>woman</td>\n",
              "      <td>False</td>\n",
              "      <td>C</td>\n",
              "      <td>Cherbourg</td>\n",
              "      <td>yes</td>\n",
              "      <td>False</td>\n",
              "    </tr>\n",
              "    <tr>\n",
              "      <th>2</th>\n",
              "      <td>1</td>\n",
              "      <td>3</td>\n",
              "      <td>female</td>\n",
              "      <td>26.0</td>\n",
              "      <td>0</td>\n",
              "      <td>0</td>\n",
              "      <td>7.9250</td>\n",
              "      <td>S</td>\n",
              "      <td>Third</td>\n",
              "      <td>woman</td>\n",
              "      <td>False</td>\n",
              "      <td>NaN</td>\n",
              "      <td>Southampton</td>\n",
              "      <td>yes</td>\n",
              "      <td>True</td>\n",
              "    </tr>\n",
              "    <tr>\n",
              "      <th>3</th>\n",
              "      <td>1</td>\n",
              "      <td>1</td>\n",
              "      <td>female</td>\n",
              "      <td>35.0</td>\n",
              "      <td>1</td>\n",
              "      <td>0</td>\n",
              "      <td>53.1000</td>\n",
              "      <td>S</td>\n",
              "      <td>First</td>\n",
              "      <td>woman</td>\n",
              "      <td>False</td>\n",
              "      <td>C</td>\n",
              "      <td>Southampton</td>\n",
              "      <td>yes</td>\n",
              "      <td>False</td>\n",
              "    </tr>\n",
              "    <tr>\n",
              "      <th>4</th>\n",
              "      <td>0</td>\n",
              "      <td>3</td>\n",
              "      <td>male</td>\n",
              "      <td>35.0</td>\n",
              "      <td>0</td>\n",
              "      <td>0</td>\n",
              "      <td>8.0500</td>\n",
              "      <td>S</td>\n",
              "      <td>Third</td>\n",
              "      <td>man</td>\n",
              "      <td>True</td>\n",
              "      <td>NaN</td>\n",
              "      <td>Southampton</td>\n",
              "      <td>no</td>\n",
              "      <td>True</td>\n",
              "    </tr>\n",
              "  </tbody>\n",
              "</table>\n",
              "</div>\n",
              "      <button class=\"colab-df-convert\" onclick=\"convertToInteractive('df-2b6a9087-92ed-48bb-94d3-5e8081b7c86a')\"\n",
              "              title=\"Convert this dataframe to an interactive table.\"\n",
              "              style=\"display:none;\">\n",
              "        \n",
              "  <svg xmlns=\"http://www.w3.org/2000/svg\" height=\"24px\"viewBox=\"0 0 24 24\"\n",
              "       width=\"24px\">\n",
              "    <path d=\"M0 0h24v24H0V0z\" fill=\"none\"/>\n",
              "    <path d=\"M18.56 5.44l.94 2.06.94-2.06 2.06-.94-2.06-.94-.94-2.06-.94 2.06-2.06.94zm-11 1L8.5 8.5l.94-2.06 2.06-.94-2.06-.94L8.5 2.5l-.94 2.06-2.06.94zm10 10l.94 2.06.94-2.06 2.06-.94-2.06-.94-.94-2.06-.94 2.06-2.06.94z\"/><path d=\"M17.41 7.96l-1.37-1.37c-.4-.4-.92-.59-1.43-.59-.52 0-1.04.2-1.43.59L10.3 9.45l-7.72 7.72c-.78.78-.78 2.05 0 2.83L4 21.41c.39.39.9.59 1.41.59.51 0 1.02-.2 1.41-.59l7.78-7.78 2.81-2.81c.8-.78.8-2.07 0-2.86zM5.41 20L4 18.59l7.72-7.72 1.47 1.35L5.41 20z\"/>\n",
              "  </svg>\n",
              "      </button>\n",
              "      \n",
              "  <style>\n",
              "    .colab-df-container {\n",
              "      display:flex;\n",
              "      flex-wrap:wrap;\n",
              "      gap: 12px;\n",
              "    }\n",
              "\n",
              "    .colab-df-convert {\n",
              "      background-color: #E8F0FE;\n",
              "      border: none;\n",
              "      border-radius: 50%;\n",
              "      cursor: pointer;\n",
              "      display: none;\n",
              "      fill: #1967D2;\n",
              "      height: 32px;\n",
              "      padding: 0 0 0 0;\n",
              "      width: 32px;\n",
              "    }\n",
              "\n",
              "    .colab-df-convert:hover {\n",
              "      background-color: #E2EBFA;\n",
              "      box-shadow: 0px 1px 2px rgba(60, 64, 67, 0.3), 0px 1px 3px 1px rgba(60, 64, 67, 0.15);\n",
              "      fill: #174EA6;\n",
              "    }\n",
              "\n",
              "    [theme=dark] .colab-df-convert {\n",
              "      background-color: #3B4455;\n",
              "      fill: #D2E3FC;\n",
              "    }\n",
              "\n",
              "    [theme=dark] .colab-df-convert:hover {\n",
              "      background-color: #434B5C;\n",
              "      box-shadow: 0px 1px 3px 1px rgba(0, 0, 0, 0.15);\n",
              "      filter: drop-shadow(0px 1px 2px rgba(0, 0, 0, 0.3));\n",
              "      fill: #FFFFFF;\n",
              "    }\n",
              "  </style>\n",
              "\n",
              "      <script>\n",
              "        const buttonEl =\n",
              "          document.querySelector('#df-2b6a9087-92ed-48bb-94d3-5e8081b7c86a button.colab-df-convert');\n",
              "        buttonEl.style.display =\n",
              "          google.colab.kernel.accessAllowed ? 'block' : 'none';\n",
              "\n",
              "        async function convertToInteractive(key) {\n",
              "          const element = document.querySelector('#df-2b6a9087-92ed-48bb-94d3-5e8081b7c86a');\n",
              "          const dataTable =\n",
              "            await google.colab.kernel.invokeFunction('convertToInteractive',\n",
              "                                                     [key], {});\n",
              "          if (!dataTable) return;\n",
              "\n",
              "          const docLinkHtml = 'Like what you see? Visit the ' +\n",
              "            '<a target=\"_blank\" href=https://colab.research.google.com/notebooks/data_table.ipynb>data table notebook</a>'\n",
              "            + ' to learn more about interactive tables.';\n",
              "          element.innerHTML = '';\n",
              "          dataTable['output_type'] = 'display_data';\n",
              "          await google.colab.output.renderOutput(dataTable, element);\n",
              "          const docLink = document.createElement('div');\n",
              "          docLink.innerHTML = docLinkHtml;\n",
              "          element.appendChild(docLink);\n",
              "        }\n",
              "      </script>\n",
              "    </div>\n",
              "  </div>\n",
              "  "
            ]
          },
          "metadata": {},
          "execution_count": 148
        }
      ]
    },
    {
      "cell_type": "code",
      "source": [
        "dataset.shape"
      ],
      "metadata": {
        "colab": {
          "base_uri": "https://localhost:8080/"
        },
        "id": "-omOUkpiYG5l",
        "outputId": "47039b70-d09a-4946-afa6-0ec58a571df1"
      },
      "execution_count": null,
      "outputs": [
        {
          "output_type": "execute_result",
          "data": {
            "text/plain": [
              "(891, 15)"
            ]
          },
          "metadata": {},
          "execution_count": 149
        }
      ]
    },
    {
      "cell_type": "code",
      "source": [
        "dataset.describe()"
      ],
      "metadata": {
        "colab": {
          "base_uri": "https://localhost:8080/",
          "height": 300
        },
        "id": "FDJpWSISYbhc",
        "outputId": "367f8f2c-6486-4dcd-a29b-7f18b049ecf6"
      },
      "execution_count": null,
      "outputs": [
        {
          "output_type": "execute_result",
          "data": {
            "text/plain": [
              "         survived      pclass         age       sibsp       parch        fare\n",
              "count  891.000000  891.000000  714.000000  891.000000  891.000000  891.000000\n",
              "mean     0.383838    2.308642   29.699118    0.523008    0.381594   32.204208\n",
              "std      0.486592    0.836071   14.526497    1.102743    0.806057   49.693429\n",
              "min      0.000000    1.000000    0.420000    0.000000    0.000000    0.000000\n",
              "25%      0.000000    2.000000   20.125000    0.000000    0.000000    7.910400\n",
              "50%      0.000000    3.000000   28.000000    0.000000    0.000000   14.454200\n",
              "75%      1.000000    3.000000   38.000000    1.000000    0.000000   31.000000\n",
              "max      1.000000    3.000000   80.000000    8.000000    6.000000  512.329200"
            ],
            "text/html": [
              "\n",
              "  <div id=\"df-cab00136-a4e1-4257-a655-1b601d357801\">\n",
              "    <div class=\"colab-df-container\">\n",
              "      <div>\n",
              "<style scoped>\n",
              "    .dataframe tbody tr th:only-of-type {\n",
              "        vertical-align: middle;\n",
              "    }\n",
              "\n",
              "    .dataframe tbody tr th {\n",
              "        vertical-align: top;\n",
              "    }\n",
              "\n",
              "    .dataframe thead th {\n",
              "        text-align: right;\n",
              "    }\n",
              "</style>\n",
              "<table border=\"1\" class=\"dataframe\">\n",
              "  <thead>\n",
              "    <tr style=\"text-align: right;\">\n",
              "      <th></th>\n",
              "      <th>survived</th>\n",
              "      <th>pclass</th>\n",
              "      <th>age</th>\n",
              "      <th>sibsp</th>\n",
              "      <th>parch</th>\n",
              "      <th>fare</th>\n",
              "    </tr>\n",
              "  </thead>\n",
              "  <tbody>\n",
              "    <tr>\n",
              "      <th>count</th>\n",
              "      <td>891.000000</td>\n",
              "      <td>891.000000</td>\n",
              "      <td>714.000000</td>\n",
              "      <td>891.000000</td>\n",
              "      <td>891.000000</td>\n",
              "      <td>891.000000</td>\n",
              "    </tr>\n",
              "    <tr>\n",
              "      <th>mean</th>\n",
              "      <td>0.383838</td>\n",
              "      <td>2.308642</td>\n",
              "      <td>29.699118</td>\n",
              "      <td>0.523008</td>\n",
              "      <td>0.381594</td>\n",
              "      <td>32.204208</td>\n",
              "    </tr>\n",
              "    <tr>\n",
              "      <th>std</th>\n",
              "      <td>0.486592</td>\n",
              "      <td>0.836071</td>\n",
              "      <td>14.526497</td>\n",
              "      <td>1.102743</td>\n",
              "      <td>0.806057</td>\n",
              "      <td>49.693429</td>\n",
              "    </tr>\n",
              "    <tr>\n",
              "      <th>min</th>\n",
              "      <td>0.000000</td>\n",
              "      <td>1.000000</td>\n",
              "      <td>0.420000</td>\n",
              "      <td>0.000000</td>\n",
              "      <td>0.000000</td>\n",
              "      <td>0.000000</td>\n",
              "    </tr>\n",
              "    <tr>\n",
              "      <th>25%</th>\n",
              "      <td>0.000000</td>\n",
              "      <td>2.000000</td>\n",
              "      <td>20.125000</td>\n",
              "      <td>0.000000</td>\n",
              "      <td>0.000000</td>\n",
              "      <td>7.910400</td>\n",
              "    </tr>\n",
              "    <tr>\n",
              "      <th>50%</th>\n",
              "      <td>0.000000</td>\n",
              "      <td>3.000000</td>\n",
              "      <td>28.000000</td>\n",
              "      <td>0.000000</td>\n",
              "      <td>0.000000</td>\n",
              "      <td>14.454200</td>\n",
              "    </tr>\n",
              "    <tr>\n",
              "      <th>75%</th>\n",
              "      <td>1.000000</td>\n",
              "      <td>3.000000</td>\n",
              "      <td>38.000000</td>\n",
              "      <td>1.000000</td>\n",
              "      <td>0.000000</td>\n",
              "      <td>31.000000</td>\n",
              "    </tr>\n",
              "    <tr>\n",
              "      <th>max</th>\n",
              "      <td>1.000000</td>\n",
              "      <td>3.000000</td>\n",
              "      <td>80.000000</td>\n",
              "      <td>8.000000</td>\n",
              "      <td>6.000000</td>\n",
              "      <td>512.329200</td>\n",
              "    </tr>\n",
              "  </tbody>\n",
              "</table>\n",
              "</div>\n",
              "      <button class=\"colab-df-convert\" onclick=\"convertToInteractive('df-cab00136-a4e1-4257-a655-1b601d357801')\"\n",
              "              title=\"Convert this dataframe to an interactive table.\"\n",
              "              style=\"display:none;\">\n",
              "        \n",
              "  <svg xmlns=\"http://www.w3.org/2000/svg\" height=\"24px\"viewBox=\"0 0 24 24\"\n",
              "       width=\"24px\">\n",
              "    <path d=\"M0 0h24v24H0V0z\" fill=\"none\"/>\n",
              "    <path d=\"M18.56 5.44l.94 2.06.94-2.06 2.06-.94-2.06-.94-.94-2.06-.94 2.06-2.06.94zm-11 1L8.5 8.5l.94-2.06 2.06-.94-2.06-.94L8.5 2.5l-.94 2.06-2.06.94zm10 10l.94 2.06.94-2.06 2.06-.94-2.06-.94-.94-2.06-.94 2.06-2.06.94z\"/><path d=\"M17.41 7.96l-1.37-1.37c-.4-.4-.92-.59-1.43-.59-.52 0-1.04.2-1.43.59L10.3 9.45l-7.72 7.72c-.78.78-.78 2.05 0 2.83L4 21.41c.39.39.9.59 1.41.59.51 0 1.02-.2 1.41-.59l7.78-7.78 2.81-2.81c.8-.78.8-2.07 0-2.86zM5.41 20L4 18.59l7.72-7.72 1.47 1.35L5.41 20z\"/>\n",
              "  </svg>\n",
              "      </button>\n",
              "      \n",
              "  <style>\n",
              "    .colab-df-container {\n",
              "      display:flex;\n",
              "      flex-wrap:wrap;\n",
              "      gap: 12px;\n",
              "    }\n",
              "\n",
              "    .colab-df-convert {\n",
              "      background-color: #E8F0FE;\n",
              "      border: none;\n",
              "      border-radius: 50%;\n",
              "      cursor: pointer;\n",
              "      display: none;\n",
              "      fill: #1967D2;\n",
              "      height: 32px;\n",
              "      padding: 0 0 0 0;\n",
              "      width: 32px;\n",
              "    }\n",
              "\n",
              "    .colab-df-convert:hover {\n",
              "      background-color: #E2EBFA;\n",
              "      box-shadow: 0px 1px 2px rgba(60, 64, 67, 0.3), 0px 1px 3px 1px rgba(60, 64, 67, 0.15);\n",
              "      fill: #174EA6;\n",
              "    }\n",
              "\n",
              "    [theme=dark] .colab-df-convert {\n",
              "      background-color: #3B4455;\n",
              "      fill: #D2E3FC;\n",
              "    }\n",
              "\n",
              "    [theme=dark] .colab-df-convert:hover {\n",
              "      background-color: #434B5C;\n",
              "      box-shadow: 0px 1px 3px 1px rgba(0, 0, 0, 0.15);\n",
              "      filter: drop-shadow(0px 1px 2px rgba(0, 0, 0, 0.3));\n",
              "      fill: #FFFFFF;\n",
              "    }\n",
              "  </style>\n",
              "\n",
              "      <script>\n",
              "        const buttonEl =\n",
              "          document.querySelector('#df-cab00136-a4e1-4257-a655-1b601d357801 button.colab-df-convert');\n",
              "        buttonEl.style.display =\n",
              "          google.colab.kernel.accessAllowed ? 'block' : 'none';\n",
              "\n",
              "        async function convertToInteractive(key) {\n",
              "          const element = document.querySelector('#df-cab00136-a4e1-4257-a655-1b601d357801');\n",
              "          const dataTable =\n",
              "            await google.colab.kernel.invokeFunction('convertToInteractive',\n",
              "                                                     [key], {});\n",
              "          if (!dataTable) return;\n",
              "\n",
              "          const docLinkHtml = 'Like what you see? Visit the ' +\n",
              "            '<a target=\"_blank\" href=https://colab.research.google.com/notebooks/data_table.ipynb>data table notebook</a>'\n",
              "            + ' to learn more about interactive tables.';\n",
              "          element.innerHTML = '';\n",
              "          dataTable['output_type'] = 'display_data';\n",
              "          await google.colab.output.renderOutput(dataTable, element);\n",
              "          const docLink = document.createElement('div');\n",
              "          docLink.innerHTML = docLinkHtml;\n",
              "          element.appendChild(docLink);\n",
              "        }\n",
              "      </script>\n",
              "    </div>\n",
              "  </div>\n",
              "  "
            ]
          },
          "metadata": {},
          "execution_count": 150
        }
      ]
    },
    {
      "cell_type": "code",
      "source": [
        "# Identify the number of survivors\n",
        "dataset['survived'].value_counts()"
      ],
      "metadata": {
        "colab": {
          "base_uri": "https://localhost:8080/"
        },
        "id": "eUQYd-Y0bgPO",
        "outputId": "3bfabf58-9a98-4c7b-a91c-35191798435d"
      },
      "execution_count": null,
      "outputs": [
        {
          "output_type": "execute_result",
          "data": {
            "text/plain": [
              "0    549\n",
              "1    342\n",
              "Name: survived, dtype: int64"
            ]
          },
          "metadata": {},
          "execution_count": 151
        }
      ]
    },
    {
      "cell_type": "code",
      "source": [
        "# Visualize survival data\n",
        "sns.countplot(dataset ['survived'])"
      ],
      "metadata": {
        "colab": {
          "base_uri": "https://localhost:8080/",
          "height": 352
        },
        "id": "Yr5wUPSydAKS",
        "outputId": "2571c3b1-a410-4e0d-9482-b7ae187b80e8"
      },
      "execution_count": null,
      "outputs": [
        {
          "output_type": "stream",
          "name": "stderr",
          "text": [
            "/usr/local/lib/python3.7/dist-packages/seaborn/_decorators.py:43: FutureWarning: Pass the following variable as a keyword arg: x. From version 0.12, the only valid positional argument will be `data`, and passing other arguments without an explicit keyword will result in an error or misinterpretation.\n",
            "  FutureWarning\n"
          ]
        },
        {
          "output_type": "execute_result",
          "data": {
            "text/plain": [
              "<matplotlib.axes._subplots.AxesSubplot at 0x7f657aded910>"
            ]
          },
          "metadata": {},
          "execution_count": 152
        },
        {
          "output_type": "display_data",
          "data": {
            "text/plain": [
              "<Figure size 432x288 with 1 Axes>"
            ],
            "image/png": "[encoded data removed]"
          },
          "metadata": {
            "needs_background": "light"
          }
        }
      ]
    },
    {
      "cell_type": "code",
      "source": [
        "\n",
        "dataset.head(5)\n"
      ],
      "metadata": {
        "colab": {
          "base_uri": "https://localhost:8080/",
          "height": 270
        },
        "id": "UUj7gug1dU7I",
        "outputId": "bd94d179-8ffa-44db-c69c-2d81abf53950"
      },
      "execution_count": null,
      "outputs": [
        {
          "output_type": "execute_result",
          "data": {
            "text/plain": [
              "   survived  pclass     sex   age  sibsp  parch     fare embarked  class  \\\n",
              "0         0       3    male  22.0      1      0   7.2500        S  Third   \n",
              "1         1       1  female  38.0      1      0  71.2833        C  First   \n",
              "2         1       3  female  26.0      0      0   7.9250        S  Third   \n",
              "3         1       1  female  35.0      1      0  53.1000        S  First   \n",
              "4         0       3    male  35.0      0      0   8.0500        S  Third   \n",
              "\n",
              "     who  adult_male deck  embark_town alive  alone  \n",
              "0    man        True  NaN  Southampton    no  False  \n",
              "1  woman       False    C    Cherbourg   yes  False  \n",
              "2  woman       False  NaN  Southampton   yes   True  \n",
              "3  woman       False    C  Southampton   yes  False  \n",
              "4    man        True  NaN  Southampton    no   True  "
            ],
            "text/html": [
              "\n",
              "  <div id=\"df-089a9bef-9f34-421a-825e-a3637d5d9ead\">\n",
              "    <div class=\"colab-df-container\">\n",
              "      <div>\n",
              "<style scoped>\n",
              "    .dataframe tbody tr th:only-of-type {\n",
              "        vertical-align: middle;\n",
              "    }\n",
              "\n",
              "    .dataframe tbody tr th {\n",
              "        vertical-align: top;\n",
              "    }\n",
              "\n",
              "    .dataframe thead th {\n",
              "        text-align: right;\n",
              "    }\n",
              "</style>\n",
              "<table border=\"1\" class=\"dataframe\">\n",
              "  <thead>\n",
              "    <tr style=\"text-align: right;\">\n",
              "      <th></th>\n",
              "      <th>survived</th>\n",
              "      <th>pclass</th>\n",
              "      <th>sex</th>\n",
              "      <th>age</th>\n",
              "      <th>sibsp</th>\n",
              "      <th>parch</th>\n",
              "      <th>fare</th>\n",
              "      <th>embarked</th>\n",
              "      <th>class</th>\n",
              "      <th>who</th>\n",
              "      <th>adult_male</th>\n",
              "      <th>deck</th>\n",
              "      <th>embark_town</th>\n",
              "      <th>alive</th>\n",
              "      <th>alone</th>\n",
              "    </tr>\n",
              "  </thead>\n",
              "  <tbody>\n",
              "    <tr>\n",
              "      <th>0</th>\n",
              "      <td>0</td>\n",
              "      <td>3</td>\n",
              "      <td>male</td>\n",
              "      <td>22.0</td>\n",
              "      <td>1</td>\n",
              "      <td>0</td>\n",
              "      <td>7.2500</td>\n",
              "      <td>S</td>\n",
              "      <td>Third</td>\n",
              "      <td>man</td>\n",
              "      <td>True</td>\n",
              "      <td>NaN</td>\n",
              "      <td>Southampton</td>\n",
              "      <td>no</td>\n",
              "      <td>False</td>\n",
              "    </tr>\n",
              "    <tr>\n",
              "      <th>1</th>\n",
              "      <td>1</td>\n",
              "      <td>1</td>\n",
              "      <td>female</td>\n",
              "      <td>38.0</td>\n",
              "      <td>1</td>\n",
              "      <td>0</td>\n",
              "      <td>71.2833</td>\n",
              "      <td>C</td>\n",
              "      <td>First</td>\n",
              "      <td>woman</td>\n",
              "      <td>False</td>\n",
              "      <td>C</td>\n",
              "      <td>Cherbourg</td>\n",
              "      <td>yes</td>\n",
              "      <td>False</td>\n",
              "    </tr>\n",
              "    <tr>\n",
              "      <th>2</th>\n",
              "      <td>1</td>\n",
              "      <td>3</td>\n",
              "      <td>female</td>\n",
              "      <td>26.0</td>\n",
              "      <td>0</td>\n",
              "      <td>0</td>\n",
              "      <td>7.9250</td>\n",
              "      <td>S</td>\n",
              "      <td>Third</td>\n",
              "      <td>woman</td>\n",
              "      <td>False</td>\n",
              "      <td>NaN</td>\n",
              "      <td>Southampton</td>\n",
              "      <td>yes</td>\n",
              "      <td>True</td>\n",
              "    </tr>\n",
              "    <tr>\n",
              "      <th>3</th>\n",
              "      <td>1</td>\n",
              "      <td>1</td>\n",
              "      <td>female</td>\n",
              "      <td>35.0</td>\n",
              "      <td>1</td>\n",
              "      <td>0</td>\n",
              "      <td>53.1000</td>\n",
              "      <td>S</td>\n",
              "      <td>First</td>\n",
              "      <td>woman</td>\n",
              "      <td>False</td>\n",
              "      <td>C</td>\n",
              "      <td>Southampton</td>\n",
              "      <td>yes</td>\n",
              "      <td>False</td>\n",
              "    </tr>\n",
              "    <tr>\n",
              "      <th>4</th>\n",
              "      <td>0</td>\n",
              "      <td>3</td>\n",
              "      <td>male</td>\n",
              "      <td>35.0</td>\n",
              "      <td>0</td>\n",
              "      <td>0</td>\n",
              "      <td>8.0500</td>\n",
              "      <td>S</td>\n",
              "      <td>Third</td>\n",
              "      <td>man</td>\n",
              "      <td>True</td>\n",
              "      <td>NaN</td>\n",
              "      <td>Southampton</td>\n",
              "      <td>no</td>\n",
              "      <td>True</td>\n",
              "    </tr>\n",
              "  </tbody>\n",
              "</table>\n",
              "</div>\n",
              "      <button class=\"colab-df-convert\" onclick=\"convertToInteractive('df-089a9bef-9f34-421a-825e-a3637d5d9ead')\"\n",
              "              title=\"Convert this dataframe to an interactive table.\"\n",
              "              style=\"display:none;\">\n",
              "        \n",
              "  <svg xmlns=\"http://www.w3.org/2000/svg\" height=\"24px\"viewBox=\"0 0 24 24\"\n",
              "       width=\"24px\">\n",
              "    <path d=\"M0 0h24v24H0V0z\" fill=\"none\"/>\n",
              "    <path d=\"M18.56 5.44l.94 2.06.94-2.06 2.06-.94-2.06-.94-.94-2.06-.94 2.06-2.06.94zm-11 1L8.5 8.5l.94-2.06 2.06-.94-2.06-.94L8.5 2.5l-.94 2.06-2.06.94zm10 10l.94 2.06.94-2.06 2.06-.94-2.06-.94-.94-2.06-.94 2.06-2.06.94z\"/><path d=\"M17.41 7.96l-1.37-1.37c-.4-.4-.92-.59-1.43-.59-.52 0-1.04.2-1.43.59L10.3 9.45l-7.72 7.72c-.78.78-.78 2.05 0 2.83L4 21.41c.39.39.9.59 1.41.59.51 0 1.02-.2 1.41-.59l7.78-7.78 2.81-2.81c.8-.78.8-2.07 0-2.86zM5.41 20L4 18.59l7.72-7.72 1.47 1.35L5.41 20z\"/>\n",
              "  </svg>\n",
              "      </button>\n",
              "      \n",
              "  <style>\n",
              "    .colab-df-container {\n",
              "      display:flex;\n",
              "      flex-wrap:wrap;\n",
              "      gap: 12px;\n",
              "    }\n",
              "\n",
              "    .colab-df-convert {\n",
              "      background-color: #E8F0FE;\n",
              "      border: none;\n",
              "      border-radius: 50%;\n",
              "      cursor: pointer;\n",
              "      display: none;\n",
              "      fill: #1967D2;\n",
              "      height: 32px;\n",
              "      padding: 0 0 0 0;\n",
              "      width: 32px;\n",
              "    }\n",
              "\n",
              "    .colab-df-convert:hover {\n",
              "      background-color: #E2EBFA;\n",
              "      box-shadow: 0px 1px 2px rgba(60, 64, 67, 0.3), 0px 1px 3px 1px rgba(60, 64, 67, 0.15);\n",
              "      fill: #174EA6;\n",
              "    }\n",
              "\n",
              "    [theme=dark] .colab-df-convert {\n",
              "      background-color: #3B4455;\n",
              "      fill: #D2E3FC;\n",
              "    }\n",
              "\n",
              "    [theme=dark] .colab-df-convert:hover {\n",
              "      background-color: #434B5C;\n",
              "      box-shadow: 0px 1px 3px 1px rgba(0, 0, 0, 0.15);\n",
              "      filter: drop-shadow(0px 1px 2px rgba(0, 0, 0, 0.3));\n",
              "      fill: #FFFFFF;\n",
              "    }\n",
              "  </style>\n",
              "\n",
              "      <script>\n",
              "        const buttonEl =\n",
              "          document.querySelector('#df-089a9bef-9f34-421a-825e-a3637d5d9ead button.colab-df-convert');\n",
              "        buttonEl.style.display =\n",
              "          google.colab.kernel.accessAllowed ? 'block' : 'none';\n",
              "\n",
              "        async function convertToInteractive(key) {\n",
              "          const element = document.querySelector('#df-089a9bef-9f34-421a-825e-a3637d5d9ead');\n",
              "          const dataTable =\n",
              "            await google.colab.kernel.invokeFunction('convertToInteractive',\n",
              "                                                     [key], {});\n",
              "          if (!dataTable) return;\n",
              "\n",
              "          const docLinkHtml = 'Like what you see? Visit the ' +\n",
              "            '<a target=\"_blank\" href=https://colab.research.google.com/notebooks/data_table.ipynb>data table notebook</a>'\n",
              "            + ' to learn more about interactive tables.';\n",
              "          element.innerHTML = '';\n",
              "          dataTable['output_type'] = 'display_data';\n",
              "          await google.colab.output.renderOutput(dataTable, element);\n",
              "          const docLink = document.createElement('div');\n",
              "          docLink.innerHTML = docLinkHtml;\n",
              "          element.appendChild(docLink);\n",
              "        }\n",
              "      </script>\n",
              "    </div>\n",
              "  </div>\n",
              "  "
            ]
          },
          "metadata": {},
          "execution_count": 153
        }
      ]
    },
    {
      "cell_type": "code",
      "source": [
        "dataset['parch'].value_counts()"
      ],
      "metadata": {
        "id": "lXgmN7YUft4Z",
        "colab": {
          "base_uri": "https://localhost:8080/"
        },
        "outputId": "37646ebd-e6c5-4721-f1c2-77bc875d7a2d"
      },
      "execution_count": null,
      "outputs": [
        {
          "output_type": "execute_result",
          "data": {
            "text/plain": [
              "0    678\n",
              "1    118\n",
              "2     80\n",
              "5      5\n",
              "3      5\n",
              "4      4\n",
              "6      1\n",
              "Name: parch, dtype: int64"
            ]
          },
          "metadata": {},
          "execution_count": 154
        }
      ]
    },
    {
      "cell_type": "code",
      "source": [
        "# visualize all the datasets\n",
        "\n",
        "cols = ['pclass', 'sex', 'sibsp', 'parch', 'embarked', 'alone']\n",
        "\n",
        "n_cols = 3\n",
        "n_rows = 2\n",
        "\n",
        "# subplot grid, \n",
        "\n",
        "fig, axs = plt.subplots(n_rows, n_cols, figsize = (n_cols *3.2, n_rows*3.2))\n",
        "\n",
        "for r in range(0, n_rows):\n",
        "  for c in range(0, n_cols):\n",
        "    i = r*n_cols + c # index to go through the number of columns\n",
        "    ax = axs[r][c] # show where to position each sub plot\n",
        "    sns.countplot (dataset[cols[i]], hue=dataset['survived'], ax=ax)\n",
        "    ax.set_title(cols[i])\n",
        "    ax.legend(title='Survived', loc='upper right')\n",
        "plt.tight_layout()\n"
      ],
      "metadata": {
        "colab": {
          "base_uri": "https://localhost:8080/",
          "height": 667
        },
        "id": "JLhLnX3DfTAD",
        "outputId": "fbd3ef12-8ac7-40ac-c0bd-ae3ea5049001"
      },
      "execution_count": null,
      "outputs": [
        {
          "output_type": "stream",
          "name": "stderr",
          "text": [
            "/usr/local/lib/python3.7/dist-packages/seaborn/_decorators.py:43: FutureWarning: Pass the following variable as a keyword arg: x. From version 0.12, the only valid positional argument will be `data`, and passing other arguments without an explicit keyword will result in an error or misinterpretation.\n",
            "  FutureWarning\n",
            "/usr/local/lib/python3.7/dist-packages/seaborn/_decorators.py:43: FutureWarning: Pass the following variable as a keyword arg: x. From version 0.12, the only valid positional argument will be `data`, and passing other arguments without an explicit keyword will result in an error or misinterpretation.\n",
            "  FutureWarning\n",
            "/usr/local/lib/python3.7/dist-packages/seaborn/_decorators.py:43: FutureWarning: Pass the following variable as a keyword arg: x. From version 0.12, the only valid positional argument will be `data`, and passing other arguments without an explicit keyword will result in an error or misinterpretation.\n",
            "  FutureWarning\n",
            "/usr/local/lib/python3.7/dist-packages/seaborn/_decorators.py:43: FutureWarning: Pass the following variable as a keyword arg: x. From version 0.12, the only valid positional argument will be `data`, and passing other arguments without an explicit keyword will result in an error or misinterpretation.\n",
            "  FutureWarning\n",
            "/usr/local/lib/python3.7/dist-packages/seaborn/_decorators.py:43: FutureWarning: Pass the following variable as a keyword arg: x. From version 0.12, the only valid positional argument will be `data`, and passing other arguments without an explicit keyword will result in an error or misinterpretation.\n",
            "  FutureWarning\n",
            "/usr/local/lib/python3.7/dist-packages/seaborn/_decorators.py:43: FutureWarning: Pass the following variable as a keyword arg: x. From version 0.12, the only valid positional argument will be `data`, and passing other arguments without an explicit keyword will result in an error or misinterpretation.\n",
            "  FutureWarning\n"
          ]
        },
        {
          "output_type": "display_data",
          "data": {
            "text/plain": [
              "<Figure size 691.2x460.8 with 6 Axes>"
            ],
            "image/png": "[encoded data removed]"
          },
          "metadata": {
            "needs_background": "light"
          }
        }
      ]
    },
    {
      "cell_type": "code",
      "source": [
        "# dataset['age'].value_counts()\n",
        "sns.countplot(dataset ['age'])"
      ],
      "metadata": {
        "colab": {
          "base_uri": "https://localhost:8080/",
          "height": 352
        },
        "id": "5mTvLzvLgfGn",
        "outputId": "542ef97d-1847-4627-d912-9cb88bf606d6"
      },
      "execution_count": null,
      "outputs": [
        {
          "output_type": "stream",
          "name": "stderr",
          "text": [
            "/usr/local/lib/python3.7/dist-packages/seaborn/_decorators.py:43: FutureWarning: Pass the following variable as a keyword arg: x. From version 0.12, the only valid positional argument will be `data`, and passing other arguments without an explicit keyword will result in an error or misinterpretation.\n",
            "  FutureWarning\n"
          ]
        },
        {
          "output_type": "execute_result",
          "data": {
            "text/plain": [
              "<matplotlib.axes._subplots.AxesSubplot at 0x7f6583746590>"
            ]
          },
          "metadata": {},
          "execution_count": 156
        },
        {
          "output_type": "display_data",
          "data": {
            "text/plain": [
              "<Figure size 432x288 with 1 Axes>"
            ],
            "image/png": "[encoded data removed]"
          },
          "metadata": {
            "needs_background": "light"
          }
        }
      ]
    },
    {
      "cell_type": "code",
      "source": [
        "\n",
        "sns.countplot(dataset ['deck'])"
      ],
      "metadata": {
        "colab": {
          "base_uri": "https://localhost:8080/",
          "height": 352
        },
        "id": "crYSH9W1gn1_",
        "outputId": "9fa05473-d19b-44e1-c452-f8f892340325"
      },
      "execution_count": null,
      "outputs": [
        {
          "output_type": "stream",
          "name": "stderr",
          "text": [
            "/usr/local/lib/python3.7/dist-packages/seaborn/_decorators.py:43: FutureWarning: Pass the following variable as a keyword arg: x. From version 0.12, the only valid positional argument will be `data`, and passing other arguments without an explicit keyword will result in an error or misinterpretation.\n",
            "  FutureWarning\n"
          ]
        },
        {
          "output_type": "execute_result",
          "data": {
            "text/plain": [
              "<matplotlib.axes._subplots.AxesSubplot at 0x7f657ab92990>"
            ]
          },
          "metadata": {},
          "execution_count": 157
        },
        {
          "output_type": "display_data",
          "data": {
            "text/plain": [
              "<Figure size 432x288 with 1 Axes>"
            ],
            "image/png": "[encoded data removed]"
          },
          "metadata": {
            "needs_background": "light"
          }
        }
      ]
    },
    {
      "cell_type": "code",
      "source": [
        "dataset.groupby('sex')[['survived']].mean()"
      ],
      "metadata": {
        "colab": {
          "base_uri": "https://localhost:8080/",
          "height": 143
        },
        "id": "Gj8JnJc7u_9O",
        "outputId": "6f48af1c-7a66-4260-dd1f-b0bdf8af2aa1"
      },
      "execution_count": null,
      "outputs": [
        {
          "output_type": "execute_result",
          "data": {
            "text/plain": [
              "        survived\n",
              "sex             \n",
              "female  0.742038\n",
              "male    0.188908"
            ],
            "text/html": [
              "\n",
              "  <div id=\"df-33c74796-bad8-4961-b124-e2557d1f1634\">\n",
              "    <div class=\"colab-df-container\">\n",
              "      <div>\n",
              "<style scoped>\n",
              "    .dataframe tbody tr th:only-of-type {\n",
              "        vertical-align: middle;\n",
              "    }\n",
              "\n",
              "    .dataframe tbody tr th {\n",
              "        vertical-align: top;\n",
              "    }\n",
              "\n",
              "    .dataframe thead th {\n",
              "        text-align: right;\n",
              "    }\n",
              "</style>\n",
              "<table border=\"1\" class=\"dataframe\">\n",
              "  <thead>\n",
              "    <tr style=\"text-align: right;\">\n",
              "      <th></th>\n",
              "      <th>survived</th>\n",
              "    </tr>\n",
              "    <tr>\n",
              "      <th>sex</th>\n",
              "      <th></th>\n",
              "    </tr>\n",
              "  </thead>\n",
              "  <tbody>\n",
              "    <tr>\n",
              "      <th>female</th>\n",
              "      <td>0.742038</td>\n",
              "    </tr>\n",
              "    <tr>\n",
              "      <th>male</th>\n",
              "      <td>0.188908</td>\n",
              "    </tr>\n",
              "  </tbody>\n",
              "</table>\n",
              "</div>\n",
              "      <button class=\"colab-df-convert\" onclick=\"convertToInteractive('df-33c74796-bad8-4961-b124-e2557d1f1634')\"\n",
              "              title=\"Convert this dataframe to an interactive table.\"\n",
              "              style=\"display:none;\">\n",
              "        \n",
              "  <svg xmlns=\"http://www.w3.org/2000/svg\" height=\"24px\"viewBox=\"0 0 24 24\"\n",
              "       width=\"24px\">\n",
              "    <path d=\"M0 0h24v24H0V0z\" fill=\"none\"/>\n",
              "    <path d=\"M18.56 5.44l.94 2.06.94-2.06 2.06-.94-2.06-.94-.94-2.06-.94 2.06-2.06.94zm-11 1L8.5 8.5l.94-2.06 2.06-.94-2.06-.94L8.5 2.5l-.94 2.06-2.06.94zm10 10l.94 2.06.94-2.06 2.06-.94-2.06-.94-.94-2.06-.94 2.06-2.06.94z\"/><path d=\"M17.41 7.96l-1.37-1.37c-.4-.4-.92-.59-1.43-.59-.52 0-1.04.2-1.43.59L10.3 9.45l-7.72 7.72c-.78.78-.78 2.05 0 2.83L4 21.41c.39.39.9.59 1.41.59.51 0 1.02-.2 1.41-.59l7.78-7.78 2.81-2.81c.8-.78.8-2.07 0-2.86zM5.41 20L4 18.59l7.72-7.72 1.47 1.35L5.41 20z\"/>\n",
              "  </svg>\n",
              "      </button>\n",
              "      \n",
              "  <style>\n",
              "    .colab-df-container {\n",
              "      display:flex;\n",
              "      flex-wrap:wrap;\n",
              "      gap: 12px;\n",
              "    }\n",
              "\n",
              "    .colab-df-convert {\n",
              "      background-color: #E8F0FE;\n",
              "      border: none;\n",
              "      border-radius: 50%;\n",
              "      cursor: pointer;\n",
              "      display: none;\n",
              "      fill: #1967D2;\n",
              "      height: 32px;\n",
              "      padding: 0 0 0 0;\n",
              "      width: 32px;\n",
              "    }\n",
              "\n",
              "    .colab-df-convert:hover {\n",
              "      background-color: #E2EBFA;\n",
              "      box-shadow: 0px 1px 2px rgba(60, 64, 67, 0.3), 0px 1px 3px 1px rgba(60, 64, 67, 0.15);\n",
              "      fill: #174EA6;\n",
              "    }\n",
              "\n",
              "    [theme=dark] .colab-df-convert {\n",
              "      background-color: #3B4455;\n",
              "      fill: #D2E3FC;\n",
              "    }\n",
              "\n",
              "    [theme=dark] .colab-df-convert:hover {\n",
              "      background-color: #434B5C;\n",
              "      box-shadow: 0px 1px 3px 1px rgba(0, 0, 0, 0.15);\n",
              "      filter: drop-shadow(0px 1px 2px rgba(0, 0, 0, 0.3));\n",
              "      fill: #FFFFFF;\n",
              "    }\n",
              "  </style>\n",
              "\n",
              "      <script>\n",
              "        const buttonEl =\n",
              "          document.querySelector('#df-33c74796-bad8-4961-b124-e2557d1f1634 button.colab-df-convert');\n",
              "        buttonEl.style.display =\n",
              "          google.colab.kernel.accessAllowed ? 'block' : 'none';\n",
              "\n",
              "        async function convertToInteractive(key) {\n",
              "          const element = document.querySelector('#df-33c74796-bad8-4961-b124-e2557d1f1634');\n",
              "          const dataTable =\n",
              "            await google.colab.kernel.invokeFunction('convertToInteractive',\n",
              "                                                     [key], {});\n",
              "          if (!dataTable) return;\n",
              "\n",
              "          const docLinkHtml = 'Like what you see? Visit the ' +\n",
              "            '<a target=\"_blank\" href=https://colab.research.google.com/notebooks/data_table.ipynb>data table notebook</a>'\n",
              "            + ' to learn more about interactive tables.';\n",
              "          element.innerHTML = '';\n",
              "          dataTable['output_type'] = 'display_data';\n",
              "          await google.colab.output.renderOutput(dataTable, element);\n",
              "          const docLink = document.createElement('div');\n",
              "          docLink.innerHTML = docLinkHtml;\n",
              "          element.appendChild(docLink);\n",
              "        }\n",
              "      </script>\n",
              "    </div>\n",
              "  </div>\n",
              "  "
            ]
          },
          "metadata": {},
          "execution_count": 158
        }
      ]
    },
    {
      "cell_type": "code",
      "source": [
        "dataset.groupby('deck')[['survived']].mean()"
      ],
      "metadata": {
        "colab": {
          "base_uri": "https://localhost:8080/",
          "height": 300
        },
        "id": "UZGYOAsVoc7Z",
        "outputId": "71d0e24e-cbec-4355-9122-34de55251c6f"
      },
      "execution_count": null,
      "outputs": [
        {
          "output_type": "execute_result",
          "data": {
            "text/plain": [
              "      survived\n",
              "deck          \n",
              "A     0.466667\n",
              "B     0.744681\n",
              "C     0.593220\n",
              "D     0.757576\n",
              "E     0.750000\n",
              "F     0.615385\n",
              "G     0.500000"
            ],
            "text/html": [
              "\n",
              "  <div id=\"df-6efdfa57-98e1-4973-8696-9cb52995abdb\">\n",
              "    <div class=\"colab-df-container\">\n",
              "      <div>\n",
              "<style scoped>\n",
              "    .dataframe tbody tr th:only-of-type {\n",
              "        vertical-align: middle;\n",
              "    }\n",
              "\n",
              "    .dataframe tbody tr th {\n",
              "        vertical-align: top;\n",
              "    }\n",
              "\n",
              "    .dataframe thead th {\n",
              "        text-align: right;\n",
              "    }\n",
              "</style>\n",
              "<table border=\"1\" class=\"dataframe\">\n",
              "  <thead>\n",
              "    <tr style=\"text-align: right;\">\n",
              "      <th></th>\n",
              "      <th>survived</th>\n",
              "    </tr>\n",
              "    <tr>\n",
              "      <th>deck</th>\n",
              "      <th></th>\n",
              "    </tr>\n",
              "  </thead>\n",
              "  <tbody>\n",
              "    <tr>\n",
              "      <th>A</th>\n",
              "      <td>0.466667</td>\n",
              "    </tr>\n",
              "    <tr>\n",
              "      <th>B</th>\n",
              "      <td>0.744681</td>\n",
              "    </tr>\n",
              "    <tr>\n",
              "      <th>C</th>\n",
              "      <td>0.593220</td>\n",
              "    </tr>\n",
              "    <tr>\n",
              "      <th>D</th>\n",
              "      <td>0.757576</td>\n",
              "    </tr>\n",
              "    <tr>\n",
              "      <th>E</th>\n",
              "      <td>0.750000</td>\n",
              "    </tr>\n",
              "    <tr>\n",
              "      <th>F</th>\n",
              "      <td>0.615385</td>\n",
              "    </tr>\n",
              "    <tr>\n",
              "      <th>G</th>\n",
              "      <td>0.500000</td>\n",
              "    </tr>\n",
              "  </tbody>\n",
              "</table>\n",
              "</div>\n",
              "      <button class=\"colab-df-convert\" onclick=\"convertToInteractive('df-6efdfa57-98e1-4973-8696-9cb52995abdb')\"\n",
              "              title=\"Convert this dataframe to an interactive table.\"\n",
              "              style=\"display:none;\">\n",
              "        \n",
              "  <svg xmlns=\"http://www.w3.org/2000/svg\" height=\"24px\"viewBox=\"0 0 24 24\"\n",
              "       width=\"24px\">\n",
              "    <path d=\"M0 0h24v24H0V0z\" fill=\"none\"/>\n",
              "    <path d=\"M18.56 5.44l.94 2.06.94-2.06 2.06-.94-2.06-.94-.94-2.06-.94 2.06-2.06.94zm-11 1L8.5 8.5l.94-2.06 2.06-.94-2.06-.94L8.5 2.5l-.94 2.06-2.06.94zm10 10l.94 2.06.94-2.06 2.06-.94-2.06-.94-.94-2.06-.94 2.06-2.06.94z\"/><path d=\"M17.41 7.96l-1.37-1.37c-.4-.4-.92-.59-1.43-.59-.52 0-1.04.2-1.43.59L10.3 9.45l-7.72 7.72c-.78.78-.78 2.05 0 2.83L4 21.41c.39.39.9.59 1.41.59.51 0 1.02-.2 1.41-.59l7.78-7.78 2.81-2.81c.8-.78.8-2.07 0-2.86zM5.41 20L4 18.59l7.72-7.72 1.47 1.35L5.41 20z\"/>\n",
              "  </svg>\n",
              "      </button>\n",
              "      \n",
              "  <style>\n",
              "    .colab-df-container {\n",
              "      display:flex;\n",
              "      flex-wrap:wrap;\n",
              "      gap: 12px;\n",
              "    }\n",
              "\n",
              "    .colab-df-convert {\n",
              "      background-color: #E8F0FE;\n",
              "      border: none;\n",
              "      border-radius: 50%;\n",
              "      cursor: pointer;\n",
              "      display: none;\n",
              "      fill: #1967D2;\n",
              "      height: 32px;\n",
              "      padding: 0 0 0 0;\n",
              "      width: 32px;\n",
              "    }\n",
              "\n",
              "    .colab-df-convert:hover {\n",
              "      background-color: #E2EBFA;\n",
              "      box-shadow: 0px 1px 2px rgba(60, 64, 67, 0.3), 0px 1px 3px 1px rgba(60, 64, 67, 0.15);\n",
              "      fill: #174EA6;\n",
              "    }\n",
              "\n",
              "    [theme=dark] .colab-df-convert {\n",
              "      background-color: #3B4455;\n",
              "      fill: #D2E3FC;\n",
              "    }\n",
              "\n",
              "    [theme=dark] .colab-df-convert:hover {\n",
              "      background-color: #434B5C;\n",
              "      box-shadow: 0px 1px 3px 1px rgba(0, 0, 0, 0.15);\n",
              "      filter: drop-shadow(0px 1px 2px rgba(0, 0, 0, 0.3));\n",
              "      fill: #FFFFFF;\n",
              "    }\n",
              "  </style>\n",
              "\n",
              "      <script>\n",
              "        const buttonEl =\n",
              "          document.querySelector('#df-6efdfa57-98e1-4973-8696-9cb52995abdb button.colab-df-convert');\n",
              "        buttonEl.style.display =\n",
              "          google.colab.kernel.accessAllowed ? 'block' : 'none';\n",
              "\n",
              "        async function convertToInteractive(key) {\n",
              "          const element = document.querySelector('#df-6efdfa57-98e1-4973-8696-9cb52995abdb');\n",
              "          const dataTable =\n",
              "            await google.colab.kernel.invokeFunction('convertToInteractive',\n",
              "                                                     [key], {});\n",
              "          if (!dataTable) return;\n",
              "\n",
              "          const docLinkHtml = 'Like what you see? Visit the ' +\n",
              "            '<a target=\"_blank\" href=https://colab.research.google.com/notebooks/data_table.ipynb>data table notebook</a>'\n",
              "            + ' to learn more about interactive tables.';\n",
              "          element.innerHTML = '';\n",
              "          dataTable['output_type'] = 'display_data';\n",
              "          await google.colab.output.renderOutput(dataTable, element);\n",
              "          const docLink = document.createElement('div');\n",
              "          docLink.innerHTML = docLinkHtml;\n",
              "          element.appendChild(docLink);\n",
              "        }\n",
              "      </script>\n",
              "    </div>\n",
              "  </div>\n",
              "  "
            ]
          },
          "metadata": {},
          "execution_count": 159
        }
      ]
    },
    {
      "cell_type": "code",
      "source": [
        "dataset.pivot_table('survived', index='sex', columns='pclass')"
      ],
      "metadata": {
        "colab": {
          "base_uri": "https://localhost:8080/",
          "height": 143
        },
        "id": "alXf0O8bvf6H",
        "outputId": "e15c8f1e-86cf-46af-f515-8d6c5a70594c"
      },
      "execution_count": null,
      "outputs": [
        {
          "output_type": "execute_result",
          "data": {
            "text/plain": [
              "pclass         1         2         3\n",
              "sex                                 \n",
              "female  0.968085  0.921053  0.500000\n",
              "male    0.368852  0.157407  0.135447"
            ],
            "text/html": [
              "\n",
              "  <div id=\"df-b37030c0-4285-4b62-8713-7f46f832f5f5\">\n",
              "    <div class=\"colab-df-container\">\n",
              "      <div>\n",
              "<style scoped>\n",
              "    .dataframe tbody tr th:only-of-type {\n",
              "        vertical-align: middle;\n",
              "    }\n",
              "\n",
              "    .dataframe tbody tr th {\n",
              "        vertical-align: top;\n",
              "    }\n",
              "\n",
              "    .dataframe thead th {\n",
              "        text-align: right;\n",
              "    }\n",
              "</style>\n",
              "<table border=\"1\" class=\"dataframe\">\n",
              "  <thead>\n",
              "    <tr style=\"text-align: right;\">\n",
              "      <th>pclass</th>\n",
              "      <th>1</th>\n",
              "      <th>2</th>\n",
              "      <th>3</th>\n",
              "    </tr>\n",
              "    <tr>\n",
              "      <th>sex</th>\n",
              "      <th></th>\n",
              "      <th></th>\n",
              "      <th></th>\n",
              "    </tr>\n",
              "  </thead>\n",
              "  <tbody>\n",
              "    <tr>\n",
              "      <th>female</th>\n",
              "      <td>0.968085</td>\n",
              "      <td>0.921053</td>\n",
              "      <td>0.500000</td>\n",
              "    </tr>\n",
              "    <tr>\n",
              "      <th>male</th>\n",
              "      <td>0.368852</td>\n",
              "      <td>0.157407</td>\n",
              "      <td>0.135447</td>\n",
              "    </tr>\n",
              "  </tbody>\n",
              "</table>\n",
              "</div>\n",
              "      <button class=\"colab-df-convert\" onclick=\"convertToInteractive('df-b37030c0-4285-4b62-8713-7f46f832f5f5')\"\n",
              "              title=\"Convert this dataframe to an interactive table.\"\n",
              "              style=\"display:none;\">\n",
              "        \n",
              "  <svg xmlns=\"http://www.w3.org/2000/svg\" height=\"24px\"viewBox=\"0 0 24 24\"\n",
              "       width=\"24px\">\n",
              "    <path d=\"M0 0h24v24H0V0z\" fill=\"none\"/>\n",
              "    <path d=\"M18.56 5.44l.94 2.06.94-2.06 2.06-.94-2.06-.94-.94-2.06-.94 2.06-2.06.94zm-11 1L8.5 8.5l.94-2.06 2.06-.94-2.06-.94L8.5 2.5l-.94 2.06-2.06.94zm10 10l.94 2.06.94-2.06 2.06-.94-2.06-.94-.94-2.06-.94 2.06-2.06.94z\"/><path d=\"M17.41 7.96l-1.37-1.37c-.4-.4-.92-.59-1.43-.59-.52 0-1.04.2-1.43.59L10.3 9.45l-7.72 7.72c-.78.78-.78 2.05 0 2.83L4 21.41c.39.39.9.59 1.41.59.51 0 1.02-.2 1.41-.59l7.78-7.78 2.81-2.81c.8-.78.8-2.07 0-2.86zM5.41 20L4 18.59l7.72-7.72 1.47 1.35L5.41 20z\"/>\n",
              "  </svg>\n",
              "      </button>\n",
              "      \n",
              "  <style>\n",
              "    .colab-df-container {\n",
              "      display:flex;\n",
              "      flex-wrap:wrap;\n",
              "      gap: 12px;\n",
              "    }\n",
              "\n",
              "    .colab-df-convert {\n",
              "      background-color: #E8F0FE;\n",
              "      border: none;\n",
              "      border-radius: 50%;\n",
              "      cursor: pointer;\n",
              "      display: none;\n",
              "      fill: #1967D2;\n",
              "      height: 32px;\n",
              "      padding: 0 0 0 0;\n",
              "      width: 32px;\n",
              "    }\n",
              "\n",
              "    .colab-df-convert:hover {\n",
              "      background-color: #E2EBFA;\n",
              "      box-shadow: 0px 1px 2px rgba(60, 64, 67, 0.3), 0px 1px 3px 1px rgba(60, 64, 67, 0.15);\n",
              "      fill: #174EA6;\n",
              "    }\n",
              "\n",
              "    [theme=dark] .colab-df-convert {\n",
              "      background-color: #3B4455;\n",
              "      fill: #D2E3FC;\n",
              "    }\n",
              "\n",
              "    [theme=dark] .colab-df-convert:hover {\n",
              "      background-color: #434B5C;\n",
              "      box-shadow: 0px 1px 3px 1px rgba(0, 0, 0, 0.15);\n",
              "      filter: drop-shadow(0px 1px 2px rgba(0, 0, 0, 0.3));\n",
              "      fill: #FFFFFF;\n",
              "    }\n",
              "  </style>\n",
              "\n",
              "      <script>\n",
              "        const buttonEl =\n",
              "          document.querySelector('#df-b37030c0-4285-4b62-8713-7f46f832f5f5 button.colab-df-convert');\n",
              "        buttonEl.style.display =\n",
              "          google.colab.kernel.accessAllowed ? 'block' : 'none';\n",
              "\n",
              "        async function convertToInteractive(key) {\n",
              "          const element = document.querySelector('#df-b37030c0-4285-4b62-8713-7f46f832f5f5');\n",
              "          const dataTable =\n",
              "            await google.colab.kernel.invokeFunction('convertToInteractive',\n",
              "                                                     [key], {});\n",
              "          if (!dataTable) return;\n",
              "\n",
              "          const docLinkHtml = 'Like what you see? Visit the ' +\n",
              "            '<a target=\"_blank\" href=https://colab.research.google.com/notebooks/data_table.ipynb>data table notebook</a>'\n",
              "            + ' to learn more about interactive tables.';\n",
              "          element.innerHTML = '';\n",
              "          dataTable['output_type'] = 'display_data';\n",
              "          await google.colab.output.renderOutput(dataTable, element);\n",
              "          const docLink = document.createElement('div');\n",
              "          docLink.innerHTML = docLinkHtml;\n",
              "          element.appendChild(docLink);\n",
              "        }\n",
              "      </script>\n",
              "    </div>\n",
              "  </div>\n",
              "  "
            ]
          },
          "metadata": {},
          "execution_count": 160
        }
      ]
    },
    {
      "cell_type": "code",
      "source": [
        "dataset.pivot_table('survived', index='sex', columns='pclass').plot()"
      ],
      "metadata": {
        "colab": {
          "base_uri": "https://localhost:8080/",
          "height": 299
        },
        "id": "Zo8IodDXyrqn",
        "outputId": "fd5fe98b-acd9-4256-b260-1cc3ffe3c05e"
      },
      "execution_count": null,
      "outputs": [
        {
          "output_type": "execute_result",
          "data": {
            "text/plain": [
              "<matplotlib.axes._subplots.AxesSubplot at 0x7f657aab8450>"
            ]
          },
          "metadata": {},
          "execution_count": 161
        },
        {
          "output_type": "display_data",
          "data": {
            "text/plain": [
              "<Figure size 432x288 with 1 Axes>"
            ],
            "image/png": "[encoded data removed]"
          },
          "metadata": {
            "needs_background": "light"
          }
        }
      ]
    },
    {
      "cell_type": "code",
      "source": [
        "# plot the survival rate of each class\n",
        "sns.barplot(x='pclass', y='survived', data=dataset)"
      ],
      "metadata": {
        "colab": {
          "base_uri": "https://localhost:8080/",
          "height": 297
        },
        "id": "s0Bwkf8uzCR1",
        "outputId": "7066a505-b622-4ee5-c8a8-23fee06a9597"
      },
      "execution_count": null,
      "outputs": [
        {
          "output_type": "execute_result",
          "data": {
            "text/plain": [
              "<matplotlib.axes._subplots.AxesSubplot at 0x7f657aa9b150>"
            ]
          },
          "metadata": {},
          "execution_count": 162
        },
        {
          "output_type": "display_data",
          "data": {
            "text/plain": [
              "<Figure size 432x288 with 1 Axes>"
            ],
            "image/png": "[encoded data removed]"
          },
          "metadata": {
            "needs_background": "light"
          }
        }
      ]
    },
    {
      "cell_type": "code",
      "source": [
        "# r = [0, 18, 45, 65, 100]\n",
        "# g = [0,1,2,3]\n",
        "\n",
        "# age = pd.cut(dataset['age'], bins = r, labels = g)"
      ],
      "metadata": {
        "id": "qPXU_mwj0B5q"
      },
      "execution_count": null,
      "outputs": []
    },
    {
      "cell_type": "code",
      "source": [
        "dataset.pivot_table('survived', ['embarked'], 'pclass')"
      ],
      "metadata": {
        "colab": {
          "base_uri": "https://localhost:8080/",
          "height": 175
        },
        "id": "7Dh5Yo-s1Bj5",
        "outputId": "c3edc09d-c1fc-42c2-dbf1-2023b6bcc8dc"
      },
      "execution_count": null,
      "outputs": [
        {
          "output_type": "execute_result",
          "data": {
            "text/plain": [
              "pclass           1         2         3\n",
              "embarked                              \n",
              "C         0.694118  0.529412  0.378788\n",
              "Q         0.500000  0.666667  0.375000\n",
              "S         0.582677  0.463415  0.189802"
            ],
            "text/html": [
              "\n",
              "  <div id=\"df-8e04ef9d-d0a0-4ccd-b71f-95d51bf6ca4e\">\n",
              "    <div class=\"colab-df-container\">\n",
              "      <div>\n",
              "<style scoped>\n",
              "    .dataframe tbody tr th:only-of-type {\n",
              "        vertical-align: middle;\n",
              "    }\n",
              "\n",
              "    .dataframe tbody tr th {\n",
              "        vertical-align: top;\n",
              "    }\n",
              "\n",
              "    .dataframe thead th {\n",
              "        text-align: right;\n",
              "    }\n",
              "</style>\n",
              "<table border=\"1\" class=\"dataframe\">\n",
              "  <thead>\n",
              "    <tr style=\"text-align: right;\">\n",
              "      <th>pclass</th>\n",
              "      <th>1</th>\n",
              "      <th>2</th>\n",
              "      <th>3</th>\n",
              "    </tr>\n",
              "    <tr>\n",
              "      <th>embarked</th>\n",
              "      <th></th>\n",
              "      <th></th>\n",
              "      <th></th>\n",
              "    </tr>\n",
              "  </thead>\n",
              "  <tbody>\n",
              "    <tr>\n",
              "      <th>C</th>\n",
              "      <td>0.694118</td>\n",
              "      <td>0.529412</td>\n",
              "      <td>0.378788</td>\n",
              "    </tr>\n",
              "    <tr>\n",
              "      <th>Q</th>\n",
              "      <td>0.500000</td>\n",
              "      <td>0.666667</td>\n",
              "      <td>0.375000</td>\n",
              "    </tr>\n",
              "    <tr>\n",
              "      <th>S</th>\n",
              "      <td>0.582677</td>\n",
              "      <td>0.463415</td>\n",
              "      <td>0.189802</td>\n",
              "    </tr>\n",
              "  </tbody>\n",
              "</table>\n",
              "</div>\n",
              "      <button class=\"colab-df-convert\" onclick=\"convertToInteractive('df-8e04ef9d-d0a0-4ccd-b71f-95d51bf6ca4e')\"\n",
              "              title=\"Convert this dataframe to an interactive table.\"\n",
              "              style=\"display:none;\">\n",
              "        \n",
              "  <svg xmlns=\"http://www.w3.org/2000/svg\" height=\"24px\"viewBox=\"0 0 24 24\"\n",
              "       width=\"24px\">\n",
              "    <path d=\"M0 0h24v24H0V0z\" fill=\"none\"/>\n",
              "    <path d=\"M18.56 5.44l.94 2.06.94-2.06 2.06-.94-2.06-.94-.94-2.06-.94 2.06-2.06.94zm-11 1L8.5 8.5l.94-2.06 2.06-.94-2.06-.94L8.5 2.5l-.94 2.06-2.06.94zm10 10l.94 2.06.94-2.06 2.06-.94-2.06-.94-.94-2.06-.94 2.06-2.06.94z\"/><path d=\"M17.41 7.96l-1.37-1.37c-.4-.4-.92-.59-1.43-.59-.52 0-1.04.2-1.43.59L10.3 9.45l-7.72 7.72c-.78.78-.78 2.05 0 2.83L4 21.41c.39.39.9.59 1.41.59.51 0 1.02-.2 1.41-.59l7.78-7.78 2.81-2.81c.8-.78.8-2.07 0-2.86zM5.41 20L4 18.59l7.72-7.72 1.47 1.35L5.41 20z\"/>\n",
              "  </svg>\n",
              "      </button>\n",
              "      \n",
              "  <style>\n",
              "    .colab-df-container {\n",
              "      display:flex;\n",
              "      flex-wrap:wrap;\n",
              "      gap: 12px;\n",
              "    }\n",
              "\n",
              "    .colab-df-convert {\n",
              "      background-color: #E8F0FE;\n",
              "      border: none;\n",
              "      border-radius: 50%;\n",
              "      cursor: pointer;\n",
              "      display: none;\n",
              "      fill: #1967D2;\n",
              "      height: 32px;\n",
              "      padding: 0 0 0 0;\n",
              "      width: 32px;\n",
              "    }\n",
              "\n",
              "    .colab-df-convert:hover {\n",
              "      background-color: #E2EBFA;\n",
              "      box-shadow: 0px 1px 2px rgba(60, 64, 67, 0.3), 0px 1px 3px 1px rgba(60, 64, 67, 0.15);\n",
              "      fill: #174EA6;\n",
              "    }\n",
              "\n",
              "    [theme=dark] .colab-df-convert {\n",
              "      background-color: #3B4455;\n",
              "      fill: #D2E3FC;\n",
              "    }\n",
              "\n",
              "    [theme=dark] .colab-df-convert:hover {\n",
              "      background-color: #434B5C;\n",
              "      box-shadow: 0px 1px 3px 1px rgba(0, 0, 0, 0.15);\n",
              "      filter: drop-shadow(0px 1px 2px rgba(0, 0, 0, 0.3));\n",
              "      fill: #FFFFFF;\n",
              "    }\n",
              "  </style>\n",
              "\n",
              "      <script>\n",
              "        const buttonEl =\n",
              "          document.querySelector('#df-8e04ef9d-d0a0-4ccd-b71f-95d51bf6ca4e button.colab-df-convert');\n",
              "        buttonEl.style.display =\n",
              "          google.colab.kernel.accessAllowed ? 'block' : 'none';\n",
              "\n",
              "        async function convertToInteractive(key) {\n",
              "          const element = document.querySelector('#df-8e04ef9d-d0a0-4ccd-b71f-95d51bf6ca4e');\n",
              "          const dataTable =\n",
              "            await google.colab.kernel.invokeFunction('convertToInteractive',\n",
              "                                                     [key], {});\n",
              "          if (!dataTable) return;\n",
              "\n",
              "          const docLinkHtml = 'Like what you see? Visit the ' +\n",
              "            '<a target=\"_blank\" href=https://colab.research.google.com/notebooks/data_table.ipynb>data table notebook</a>'\n",
              "            + ' to learn more about interactive tables.';\n",
              "          element.innerHTML = '';\n",
              "          dataTable['output_type'] = 'display_data';\n",
              "          await google.colab.output.renderOutput(dataTable, element);\n",
              "          const docLink = document.createElement('div');\n",
              "          docLink.innerHTML = docLinkHtml;\n",
              "          element.appendChild(docLink);\n",
              "        }\n",
              "      </script>\n",
              "    </div>\n",
              "  </div>\n",
              "  "
            ]
          },
          "metadata": {},
          "execution_count": 164
        }
      ]
    },
    {
      "cell_type": "code",
      "source": [
        "# plot the prices paid for each class\n",
        "\n",
        "plt.scatter(dataset['fare'], dataset['pclass'], color='purple', label='Passenger Pay')\n",
        "plt.ylabel('class')\n",
        "plt.xlabel('Price')\n",
        "plt.title('Price of each Class')\n",
        "plt.legend()\n",
        "plt.show()"
      ],
      "metadata": {
        "colab": {
          "base_uri": "https://localhost:8080/",
          "height": 295
        },
        "id": "OWRnphyv1ML1",
        "outputId": "ab17340d-8e4c-4d35-b193-b8d817f1d1fc"
      },
      "execution_count": null,
      "outputs": [
        {
          "output_type": "display_data",
          "data": {
            "text/plain": [
              "<Figure size 432x288 with 1 Axes>"
            ],
            "image/png": "[encoded data removed]"
          },
          "metadata": {
            "needs_background": "light"
          }
        }
      ]
    },
    {
      "cell_type": "code",
      "source": [
        "dataset['pclass'].describe()"
      ],
      "metadata": {
        "colab": {
          "base_uri": "https://localhost:8080/"
        },
        "id": "2Us5Wxka2pEt",
        "outputId": "0c82873e-cd82-479c-e845-83e6ca4112c3"
      },
      "execution_count": null,
      "outputs": [
        {
          "output_type": "execute_result",
          "data": {
            "text/plain": [
              "count    891.000000\n",
              "mean       2.308642\n",
              "std        0.836071\n",
              "min        1.000000\n",
              "25%        2.000000\n",
              "50%        3.000000\n",
              "75%        3.000000\n",
              "max        3.000000\n",
              "Name: pclass, dtype: float64"
            ]
          },
          "metadata": {},
          "execution_count": 166
        }
      ]
    },
    {
      "cell_type": "code",
      "source": [
        "dataset.isna().sum()"
      ],
      "metadata": {
        "colab": {
          "base_uri": "https://localhost:8080/"
        },
        "id": "3_pzw9Rc3GTh",
        "outputId": "d9ac42e4-9907-4e55-8b2c-89c908e80439"
      },
      "execution_count": null,
      "outputs": [
        {
          "output_type": "execute_result",
          "data": {
            "text/plain": [
              "survived         0\n",
              "pclass           0\n",
              "sex              0\n",
              "age            177\n",
              "sibsp            0\n",
              "parch            0\n",
              "fare             0\n",
              "embarked         2\n",
              "class            0\n",
              "who              0\n",
              "adult_male       0\n",
              "deck           688\n",
              "embark_town      2\n",
              "alive            0\n",
              "alone            0\n",
              "dtype: int64"
            ]
          },
          "metadata": {},
          "execution_count": 167
        }
      ]
    },
    {
      "cell_type": "code",
      "source": [
        "# lookup all the values in each column & get count\n",
        "\n",
        "# for val in dataset:\n",
        "#   print(dataset[val].value_counts())\n",
        "#   print()"
      ],
      "metadata": {
        "id": "3_ydgDR93eXI"
      },
      "execution_count": null,
      "outputs": []
    },
    {
      "cell_type": "code",
      "source": [
        "# dataset.info()\n",
        "dataset.dtypes"
      ],
      "metadata": {
        "colab": {
          "base_uri": "https://localhost:8080/"
        },
        "id": "1_LC08bY3-9m",
        "outputId": "5b757c2e-f07c-4dee-c525-3238f4a8a2ab"
      },
      "execution_count": null,
      "outputs": [
        {
          "output_type": "execute_result",
          "data": {
            "text/plain": [
              "survived          int64\n",
              "pclass            int64\n",
              "sex              object\n",
              "age             float64\n",
              "sibsp             int64\n",
              "parch             int64\n",
              "fare            float64\n",
              "embarked         object\n",
              "class          category\n",
              "who              object\n",
              "adult_male         bool\n",
              "deck           category\n",
              "embark_town      object\n",
              "alive            object\n",
              "alone              bool\n",
              "dtype: object"
            ]
          },
          "metadata": {},
          "execution_count": 169
        }
      ]
    },
    {
      "cell_type": "code",
      "source": [
        "# dataset['age'] = age"
      ],
      "metadata": {
        "id": "lYHVVBq8Ai13"
      },
      "execution_count": null,
      "outputs": []
    },
    {
      "cell_type": "code",
      "source": [
        "dataset.head(5)"
      ],
      "metadata": {
        "colab": {
          "base_uri": "https://localhost:8080/",
          "height": 270
        },
        "id": "EcxdaIMFAt42",
        "outputId": "5219516a-db04-4e7c-e4ef-15a953bdaea7"
      },
      "execution_count": null,
      "outputs": [
        {
          "output_type": "execute_result",
          "data": {
            "text/plain": [
              "   survived  pclass     sex   age  sibsp  parch     fare embarked  class  \\\n",
              "0         0       3    male  22.0      1      0   7.2500        S  Third   \n",
              "1         1       1  female  38.0      1      0  71.2833        C  First   \n",
              "2         1       3  female  26.0      0      0   7.9250        S  Third   \n",
              "3         1       1  female  35.0      1      0  53.1000        S  First   \n",
              "4         0       3    male  35.0      0      0   8.0500        S  Third   \n",
              "\n",
              "     who  adult_male deck  embark_town alive  alone  \n",
              "0    man        True  NaN  Southampton    no  False  \n",
              "1  woman       False    C    Cherbourg   yes  False  \n",
              "2  woman       False  NaN  Southampton   yes   True  \n",
              "3  woman       False    C  Southampton   yes  False  \n",
              "4    man        True  NaN  Southampton    no   True  "
            ],
            "text/html": [
              "\n",
              "  <div id=\"df-a41b1857-860d-41b1-84ef-1ed1341c3421\">\n",
              "    <div class=\"colab-df-container\">\n",
              "      <div>\n",
              "<style scoped>\n",
              "    .dataframe tbody tr th:only-of-type {\n",
              "        vertical-align: middle;\n",
              "    }\n",
              "\n",
              "    .dataframe tbody tr th {\n",
              "        vertical-align: top;\n",
              "    }\n",
              "\n",
              "    .dataframe thead th {\n",
              "        text-align: right;\n",
              "    }\n",
              "</style>\n",
              "<table border=\"1\" class=\"dataframe\">\n",
              "  <thead>\n",
              "    <tr style=\"text-align: right;\">\n",
              "      <th></th>\n",
              "      <th>survived</th>\n",
              "      <th>pclass</th>\n",
              "      <th>sex</th>\n",
              "      <th>age</th>\n",
              "      <th>sibsp</th>\n",
              "      <th>parch</th>\n",
              "      <th>fare</th>\n",
              "      <th>embarked</th>\n",
              "      <th>class</th>\n",
              "      <th>who</th>\n",
              "      <th>adult_male</th>\n",
              "      <th>deck</th>\n",
              "      <th>embark_town</th>\n",
              "      <th>alive</th>\n",
              "      <th>alone</th>\n",
              "    </tr>\n",
              "  </thead>\n",
              "  <tbody>\n",
              "    <tr>\n",
              "      <th>0</th>\n",
              "      <td>0</td>\n",
              "      <td>3</td>\n",
              "      <td>male</td>\n",
              "      <td>22.0</td>\n",
              "      <td>1</td>\n",
              "      <td>0</td>\n",
              "      <td>7.2500</td>\n",
              "      <td>S</td>\n",
              "      <td>Third</td>\n",
              "      <td>man</td>\n",
              "      <td>True</td>\n",
              "      <td>NaN</td>\n",
              "      <td>Southampton</td>\n",
              "      <td>no</td>\n",
              "      <td>False</td>\n",
              "    </tr>\n",
              "    <tr>\n",
              "      <th>1</th>\n",
              "      <td>1</td>\n",
              "      <td>1</td>\n",
              "      <td>female</td>\n",
              "      <td>38.0</td>\n",
              "      <td>1</td>\n",
              "      <td>0</td>\n",
              "      <td>71.2833</td>\n",
              "      <td>C</td>\n",
              "      <td>First</td>\n",
              "      <td>woman</td>\n",
              "      <td>False</td>\n",
              "      <td>C</td>\n",
              "      <td>Cherbourg</td>\n",
              "      <td>yes</td>\n",
              "      <td>False</td>\n",
              "    </tr>\n",
              "    <tr>\n",
              "      <th>2</th>\n",
              "      <td>1</td>\n",
              "      <td>3</td>\n",
              "      <td>female</td>\n",
              "      <td>26.0</td>\n",
              "      <td>0</td>\n",
              "      <td>0</td>\n",
              "      <td>7.9250</td>\n",
              "      <td>S</td>\n",
              "      <td>Third</td>\n",
              "      <td>woman</td>\n",
              "      <td>False</td>\n",
              "      <td>NaN</td>\n",
              "      <td>Southampton</td>\n",
              "      <td>yes</td>\n",
              "      <td>True</td>\n",
              "    </tr>\n",
              "    <tr>\n",
              "      <th>3</th>\n",
              "      <td>1</td>\n",
              "      <td>1</td>\n",
              "      <td>female</td>\n",
              "      <td>35.0</td>\n",
              "      <td>1</td>\n",
              "      <td>0</td>\n",
              "      <td>53.1000</td>\n",
              "      <td>S</td>\n",
              "      <td>First</td>\n",
              "      <td>woman</td>\n",
              "      <td>False</td>\n",
              "      <td>C</td>\n",
              "      <td>Southampton</td>\n",
              "      <td>yes</td>\n",
              "      <td>False</td>\n",
              "    </tr>\n",
              "    <tr>\n",
              "      <th>4</th>\n",
              "      <td>0</td>\n",
              "      <td>3</td>\n",
              "      <td>male</td>\n",
              "      <td>35.0</td>\n",
              "      <td>0</td>\n",
              "      <td>0</td>\n",
              "      <td>8.0500</td>\n",
              "      <td>S</td>\n",
              "      <td>Third</td>\n",
              "      <td>man</td>\n",
              "      <td>True</td>\n",
              "      <td>NaN</td>\n",
              "      <td>Southampton</td>\n",
              "      <td>no</td>\n",
              "      <td>True</td>\n",
              "    </tr>\n",
              "  </tbody>\n",
              "</table>\n",
              "</div>\n",
              "      <button class=\"colab-df-convert\" onclick=\"convertToInteractive('df-a41b1857-860d-41b1-84ef-1ed1341c3421')\"\n",
              "              title=\"Convert this dataframe to an interactive table.\"\n",
              "              style=\"display:none;\">\n",
              "        \n",
              "  <svg xmlns=\"http://www.w3.org/2000/svg\" height=\"24px\"viewBox=\"0 0 24 24\"\n",
              "       width=\"24px\">\n",
              "    <path d=\"M0 0h24v24H0V0z\" fill=\"none\"/>\n",
              "    <path d=\"M18.56 5.44l.94 2.06.94-2.06 2.06-.94-2.06-.94-.94-2.06-.94 2.06-2.06.94zm-11 1L8.5 8.5l.94-2.06 2.06-.94-2.06-.94L8.5 2.5l-.94 2.06-2.06.94zm10 10l.94 2.06.94-2.06 2.06-.94-2.06-.94-.94-2.06-.94 2.06-2.06.94z\"/><path d=\"M17.41 7.96l-1.37-1.37c-.4-.4-.92-.59-1.43-.59-.52 0-1.04.2-1.43.59L10.3 9.45l-7.72 7.72c-.78.78-.78 2.05 0 2.83L4 21.41c.39.39.9.59 1.41.59.51 0 1.02-.2 1.41-.59l7.78-7.78 2.81-2.81c.8-.78.8-2.07 0-2.86zM5.41 20L4 18.59l7.72-7.72 1.47 1.35L5.41 20z\"/>\n",
              "  </svg>\n",
              "      </button>\n",
              "      \n",
              "  <style>\n",
              "    .colab-df-container {\n",
              "      display:flex;\n",
              "      flex-wrap:wrap;\n",
              "      gap: 12px;\n",
              "    }\n",
              "\n",
              "    .colab-df-convert {\n",
              "      background-color: #E8F0FE;\n",
              "      border: none;\n",
              "      border-radius: 50%;\n",
              "      cursor: pointer;\n",
              "      display: none;\n",
              "      fill: #1967D2;\n",
              "      height: 32px;\n",
              "      padding: 0 0 0 0;\n",
              "      width: 32px;\n",
              "    }\n",
              "\n",
              "    .colab-df-convert:hover {\n",
              "      background-color: #E2EBFA;\n",
              "      box-shadow: 0px 1px 2px rgba(60, 64, 67, 0.3), 0px 1px 3px 1px rgba(60, 64, 67, 0.15);\n",
              "      fill: #174EA6;\n",
              "    }\n",
              "\n",
              "    [theme=dark] .colab-df-convert {\n",
              "      background-color: #3B4455;\n",
              "      fill: #D2E3FC;\n",
              "    }\n",
              "\n",
              "    [theme=dark] .colab-df-convert:hover {\n",
              "      background-color: #434B5C;\n",
              "      box-shadow: 0px 1px 3px 1px rgba(0, 0, 0, 0.15);\n",
              "      filter: drop-shadow(0px 1px 2px rgba(0, 0, 0, 0.3));\n",
              "      fill: #FFFFFF;\n",
              "    }\n",
              "  </style>\n",
              "\n",
              "      <script>\n",
              "        const buttonEl =\n",
              "          document.querySelector('#df-a41b1857-860d-41b1-84ef-1ed1341c3421 button.colab-df-convert');\n",
              "        buttonEl.style.display =\n",
              "          google.colab.kernel.accessAllowed ? 'block' : 'none';\n",
              "\n",
              "        async function convertToInteractive(key) {\n",
              "          const element = document.querySelector('#df-a41b1857-860d-41b1-84ef-1ed1341c3421');\n",
              "          const dataTable =\n",
              "            await google.colab.kernel.invokeFunction('convertToInteractive',\n",
              "                                                     [key], {});\n",
              "          if (!dataTable) return;\n",
              "\n",
              "          const docLinkHtml = 'Like what you see? Visit the ' +\n",
              "            '<a target=\"_blank\" href=https://colab.research.google.com/notebooks/data_table.ipynb>data table notebook</a>'\n",
              "            + ' to learn more about interactive tables.';\n",
              "          element.innerHTML = '';\n",
              "          dataTable['output_type'] = 'display_data';\n",
              "          await google.colab.output.renderOutput(dataTable, element);\n",
              "          const docLink = document.createElement('div');\n",
              "          docLink.innerHTML = docLinkHtml;\n",
              "          element.appendChild(docLink);\n",
              "        }\n",
              "      </script>\n",
              "    </div>\n",
              "  </div>\n",
              "  "
            ]
          },
          "metadata": {},
          "execution_count": 171
        }
      ]
    },
    {
      "cell_type": "code",
      "source": [
        ""
      ],
      "metadata": {
        "id": "xKA6daClAzz2"
      },
      "execution_count": null,
      "outputs": []
    },
    {
      "cell_type": "code",
      "source": [
        "\n",
        "\n",
        "# drop missing numbers\n",
        "dataset = dataset.dropna(subset = ['embarked', 'age'])\n",
        "\n",
        "# drop some column\n",
        "dataset = dataset.drop(['fare', 'deck', 'embark_town', 'alive', 'who', 'alone' , 'adult_male', 'class'], axis=1)"
      ],
      "metadata": {
        "id": "TlRTTi0KCb1l"
      },
      "execution_count": null,
      "outputs": []
    },
    {
      "cell_type": "code",
      "source": [
        "dataset.shape"
      ],
      "metadata": {
        "colab": {
          "base_uri": "https://localhost:8080/"
        },
        "id": "QoQ2J690FPmW",
        "outputId": "61a5aa3b-e5cb-49c9-be00-6fce988a6b9a"
      },
      "execution_count": null,
      "outputs": [
        {
          "output_type": "execute_result",
          "data": {
            "text/plain": [
              "(712, 7)"
            ]
          },
          "metadata": {},
          "execution_count": 173
        }
      ]
    },
    {
      "cell_type": "code",
      "source": [
        "dataset.dtypes"
      ],
      "metadata": {
        "colab": {
          "base_uri": "https://localhost:8080/"
        },
        "id": "UhAazdLmFWFr",
        "outputId": "a1659d65-1c96-476d-fdd4-2de5071a76d1"
      },
      "execution_count": null,
      "outputs": [
        {
          "output_type": "execute_result",
          "data": {
            "text/plain": [
              "survived      int64\n",
              "pclass        int64\n",
              "sex          object\n",
              "age         float64\n",
              "sibsp         int64\n",
              "parch         int64\n",
              "embarked     object\n",
              "dtype: object"
            ]
          },
          "metadata": {},
          "execution_count": 174
        }
      ]
    },
    {
      "cell_type": "code",
      "source": [
        "dataset.head(5) "
      ],
      "metadata": {
        "colab": {
          "base_uri": "https://localhost:8080/",
          "height": 206
        },
        "id": "v5Pyn5xWJF_i",
        "outputId": "cf9490df-56b1-4d1a-e0d4-71da1c687ec9"
      },
      "execution_count": null,
      "outputs": [
        {
          "output_type": "execute_result",
          "data": {
            "text/plain": [
              "   survived  pclass     sex   age  sibsp  parch embarked\n",
              "0         0       3    male  22.0      1      0        S\n",
              "1         1       1  female  38.0      1      0        C\n",
              "2         1       3  female  26.0      0      0        S\n",
              "3         1       1  female  35.0      1      0        S\n",
              "4         0       3    male  35.0      0      0        S"
            ],
            "text/html": [
              "\n",
              "  <div id=\"df-f02ad3e1-c32e-4d61-81f3-4aff62451631\">\n",
              "    <div class=\"colab-df-container\">\n",
              "      <div>\n",
              "<style scoped>\n",
              "    .dataframe tbody tr th:only-of-type {\n",
              "        vertical-align: middle;\n",
              "    }\n",
              "\n",
              "    .dataframe tbody tr th {\n",
              "        vertical-align: top;\n",
              "    }\n",
              "\n",
              "    .dataframe thead th {\n",
              "        text-align: right;\n",
              "    }\n",
              "</style>\n",
              "<table border=\"1\" class=\"dataframe\">\n",
              "  <thead>\n",
              "    <tr style=\"text-align: right;\">\n",
              "      <th></th>\n",
              "      <th>survived</th>\n",
              "      <th>pclass</th>\n",
              "      <th>sex</th>\n",
              "      <th>age</th>\n",
              "      <th>sibsp</th>\n",
              "      <th>parch</th>\n",
              "      <th>embarked</th>\n",
              "    </tr>\n",
              "  </thead>\n",
              "  <tbody>\n",
              "    <tr>\n",
              "      <th>0</th>\n",
              "      <td>0</td>\n",
              "      <td>3</td>\n",
              "      <td>male</td>\n",
              "      <td>22.0</td>\n",
              "      <td>1</td>\n",
              "      <td>0</td>\n",
              "      <td>S</td>\n",
              "    </tr>\n",
              "    <tr>\n",
              "      <th>1</th>\n",
              "      <td>1</td>\n",
              "      <td>1</td>\n",
              "      <td>female</td>\n",
              "      <td>38.0</td>\n",
              "      <td>1</td>\n",
              "      <td>0</td>\n",
              "      <td>C</td>\n",
              "    </tr>\n",
              "    <tr>\n",
              "      <th>2</th>\n",
              "      <td>1</td>\n",
              "      <td>3</td>\n",
              "      <td>female</td>\n",
              "      <td>26.0</td>\n",
              "      <td>0</td>\n",
              "      <td>0</td>\n",
              "      <td>S</td>\n",
              "    </tr>\n",
              "    <tr>\n",
              "      <th>3</th>\n",
              "      <td>1</td>\n",
              "      <td>1</td>\n",
              "      <td>female</td>\n",
              "      <td>35.0</td>\n",
              "      <td>1</td>\n",
              "      <td>0</td>\n",
              "      <td>S</td>\n",
              "    </tr>\n",
              "    <tr>\n",
              "      <th>4</th>\n",
              "      <td>0</td>\n",
              "      <td>3</td>\n",
              "      <td>male</td>\n",
              "      <td>35.0</td>\n",
              "      <td>0</td>\n",
              "      <td>0</td>\n",
              "      <td>S</td>\n",
              "    </tr>\n",
              "  </tbody>\n",
              "</table>\n",
              "</div>\n",
              "      <button class=\"colab-df-convert\" onclick=\"convertToInteractive('df-f02ad3e1-c32e-4d61-81f3-4aff62451631')\"\n",
              "              title=\"Convert this dataframe to an interactive table.\"\n",
              "              style=\"display:none;\">\n",
              "        \n",
              "  <svg xmlns=\"http://www.w3.org/2000/svg\" height=\"24px\"viewBox=\"0 0 24 24\"\n",
              "       width=\"24px\">\n",
              "    <path d=\"M0 0h24v24H0V0z\" fill=\"none\"/>\n",
              "    <path d=\"M18.56 5.44l.94 2.06.94-2.06 2.06-.94-2.06-.94-.94-2.06-.94 2.06-2.06.94zm-11 1L8.5 8.5l.94-2.06 2.06-.94-2.06-.94L8.5 2.5l-.94 2.06-2.06.94zm10 10l.94 2.06.94-2.06 2.06-.94-2.06-.94-.94-2.06-.94 2.06-2.06.94z\"/><path d=\"M17.41 7.96l-1.37-1.37c-.4-.4-.92-.59-1.43-.59-.52 0-1.04.2-1.43.59L10.3 9.45l-7.72 7.72c-.78.78-.78 2.05 0 2.83L4 21.41c.39.39.9.59 1.41.59.51 0 1.02-.2 1.41-.59l7.78-7.78 2.81-2.81c.8-.78.8-2.07 0-2.86zM5.41 20L4 18.59l7.72-7.72 1.47 1.35L5.41 20z\"/>\n",
              "  </svg>\n",
              "      </button>\n",
              "      \n",
              "  <style>\n",
              "    .colab-df-container {\n",
              "      display:flex;\n",
              "      flex-wrap:wrap;\n",
              "      gap: 12px;\n",
              "    }\n",
              "\n",
              "    .colab-df-convert {\n",
              "      background-color: #E8F0FE;\n",
              "      border: none;\n",
              "      border-radius: 50%;\n",
              "      cursor: pointer;\n",
              "      display: none;\n",
              "      fill: #1967D2;\n",
              "      height: 32px;\n",
              "      padding: 0 0 0 0;\n",
              "      width: 32px;\n",
              "    }\n",
              "\n",
              "    .colab-df-convert:hover {\n",
              "      background-color: #E2EBFA;\n",
              "      box-shadow: 0px 1px 2px rgba(60, 64, 67, 0.3), 0px 1px 3px 1px rgba(60, 64, 67, 0.15);\n",
              "      fill: #174EA6;\n",
              "    }\n",
              "\n",
              "    [theme=dark] .colab-df-convert {\n",
              "      background-color: #3B4455;\n",
              "      fill: #D2E3FC;\n",
              "    }\n",
              "\n",
              "    [theme=dark] .colab-df-convert:hover {\n",
              "      background-color: #434B5C;\n",
              "      box-shadow: 0px 1px 3px 1px rgba(0, 0, 0, 0.15);\n",
              "      filter: drop-shadow(0px 1px 2px rgba(0, 0, 0, 0.3));\n",
              "      fill: #FFFFFF;\n",
              "    }\n",
              "  </style>\n",
              "\n",
              "      <script>\n",
              "        const buttonEl =\n",
              "          document.querySelector('#df-f02ad3e1-c32e-4d61-81f3-4aff62451631 button.colab-df-convert');\n",
              "        buttonEl.style.display =\n",
              "          google.colab.kernel.accessAllowed ? 'block' : 'none';\n",
              "\n",
              "        async function convertToInteractive(key) {\n",
              "          const element = document.querySelector('#df-f02ad3e1-c32e-4d61-81f3-4aff62451631');\n",
              "          const dataTable =\n",
              "            await google.colab.kernel.invokeFunction('convertToInteractive',\n",
              "                                                     [key], {});\n",
              "          if (!dataTable) return;\n",
              "\n",
              "          const docLinkHtml = 'Like what you see? Visit the ' +\n",
              "            '<a target=\"_blank\" href=https://colab.research.google.com/notebooks/data_table.ipynb>data table notebook</a>'\n",
              "            + ' to learn more about interactive tables.';\n",
              "          element.innerHTML = '';\n",
              "          dataTable['output_type'] = 'display_data';\n",
              "          await google.colab.output.renderOutput(dataTable, element);\n",
              "          const docLink = document.createElement('div');\n",
              "          docLink.innerHTML = docLinkHtml;\n",
              "          element.appendChild(docLink);\n",
              "        }\n",
              "      </script>\n",
              "    </div>\n",
              "  </div>\n",
              "  "
            ]
          },
          "metadata": {},
          "execution_count": 175
        }
      ]
    },
    {
      "cell_type": "code",
      "source": [
        "from sklearn.preprocessing import LabelEncoder\n",
        "labelencoder = LabelEncoder()\n",
        "\n",
        "# Encode the sex column\n",
        "dataset.iloc[:, 2] = labelencoder.fit_transform(dataset.iloc[:, 2].values)\n",
        "\n",
        "# Encode the embarked column\n",
        "dataset.iloc[:, 6] = labelencoder.fit_transform(dataset.iloc[:, 6].values)\n"
      ],
      "metadata": {
        "id": "4qRaR8vzGibd"
      },
      "execution_count": null,
      "outputs": []
    },
    {
      "cell_type": "code",
      "source": [
        "# print the unique values in the columns\n",
        "print(dataset['sex'].unique())\n",
        "print(dataset['embarked'].unique())\n",
        "# print(dataset['alone'].unique())"
      ],
      "metadata": {
        "colab": {
          "base_uri": "https://localhost:8080/"
        },
        "id": "MWbuucSWJiRQ",
        "outputId": "3af8a74e-5a97-42cb-ed30-10f26c040d8c"
      },
      "execution_count": null,
      "outputs": [
        {
          "output_type": "stream",
          "name": "stdout",
          "text": [
            "[1 0]\n",
            "[2 0 1]\n"
          ]
        }
      ]
    },
    {
      "cell_type": "code",
      "source": [
        "x_col = dataset.iloc[:, 1:8]\n",
        "y_col = dataset.iloc[:, 0]\n",
        "\n",
        "x = x_col.values\n",
        "y = y_col.values"
      ],
      "metadata": {
        "id": "cLACROGzKrea"
      },
      "execution_count": null,
      "outputs": []
    },
    {
      "cell_type": "code",
      "source": [
        "from sklearn.model_selection import train_test_split\n",
        "\n",
        "x_train, x_test, y_train, y_test = train_test_split(x, y, test_size=0.25, random_state=0)"
      ],
      "metadata": {
        "id": "FcHYLL0KNKqI"
      },
      "execution_count": null,
      "outputs": []
    },
    {
      "cell_type": "code",
      "source": [
        "# scale the data\n",
        "from sklearn.preprocessing import StandardScaler\n",
        "\n",
        "def scale_data(dataset):\n",
        "  sc = StandardScaler()\n",
        "  d_set = sc.fit_transform(dataset)\n",
        "  return d_set\n",
        "  # x_test = sc.fit_transform(x_test)\n",
        "\n",
        "\n",
        "\n",
        "x_train = scale_data(x_train)\n",
        "x_test = scale_data(x_test)\n"
      ],
      "metadata": {
        "id": "m5_N-lzqOm23"
      },
      "execution_count": null,
      "outputs": []
    },
    {
      "cell_type": "code",
      "source": [
        "#Create a function within many Machine Learning Models\n",
        "def models(X_train,Y_train):\n",
        "  \n",
        "  #Using Logistic Regression Algorithm to the Training Set\n",
        "  from sklearn.linear_model import LogisticRegression\n",
        "  log = LogisticRegression(random_state = 0)\n",
        "  log.fit(X_train, Y_train)\n",
        "  \n",
        "  #Using KNeighborsClassifier Method of neighbors class to use Nearest Neighbor algorithm\n",
        "  from sklearn.neighbors import KNeighborsClassifier\n",
        "  knn = KNeighborsClassifier(n_neighbors = 5, metric = 'minkowski', p = 2)\n",
        "  knn.fit(X_train, Y_train)\n",
        "\n",
        "  #Using SVC method of svm class to use Support Vector Machine Algorithm\n",
        "  from sklearn.svm import SVC\n",
        "  svc_lin = SVC(kernel = 'linear', random_state = 0)\n",
        "  svc_lin.fit(X_train, Y_train)\n",
        "\n",
        "  #Using SVC method of svm class to use Kernel SVM Algorithm\n",
        "  from sklearn.svm import SVC\n",
        "  svc_rbf = SVC(kernel = 'rbf', random_state = 0)\n",
        "  svc_rbf.fit(X_train, Y_train)\n",
        "\n",
        "  #Using GaussianNB method of naïve_bayes class to use Naïve Bayes Algorithm\n",
        "  from sklearn.naive_bayes import GaussianNB\n",
        "  gauss = GaussianNB()\n",
        "  gauss.fit(X_train, Y_train)\n",
        "\n",
        "  #Using DecisionTreeClassifier of tree class to use Decision Tree Algorithm\n",
        "  from sklearn.tree import DecisionTreeClassifier\n",
        "  tree = DecisionTreeClassifier(criterion = 'entropy', random_state = 0)\n",
        "  tree.fit(X_train, Y_train)\n",
        "\n",
        "  #Using RandomForestClassifier method of ensemble class to use Random Forest Classification algorithm\n",
        "  from sklearn.ensemble import RandomForestClassifier\n",
        "  forest = RandomForestClassifier(n_estimators = 10, criterion = 'entropy', random_state = 0)\n",
        "  forest.fit(X_train, Y_train)\n",
        "  \n",
        "  #print model accuracy on the training data.\n",
        "  print('[0]Logistic Regression Training Accuracy:', log.score(X_train, Y_train))\n",
        "  print('[1]K Nearest Neighbor Training Accuracy:', knn.score(X_train, Y_train))\n",
        "  print('[2]Support Vector Machine (Linear Classifier) Training Accuracy:', svc_lin.score(X_train, Y_train))\n",
        "  print('[3]Support Vector Machine (RBF Classifier) Training Accuracy:', svc_rbf.score(X_train, Y_train))\n",
        "  print('[4]Gaussian Naive Bayes Training Accuracy:', gauss.score(X_train, Y_train))\n",
        "  print('[5]Decision Tree Classifier Training Accuracy:', tree.score(X_train, Y_train))\n",
        "  print('[6]Random Forest Classifier Training Accuracy:', forest.score(X_train, Y_train))\n",
        "  \n",
        "  return log, knn, svc_lin, svc_rbf, gauss, tree, forest\n"
      ],
      "metadata": {
        "id": "DwnF9peRPSig"
      },
      "execution_count": null,
      "outputs": []
    },
    {
      "cell_type": "code",
      "source": [
        "model = models(x_train, y_train)"
      ],
      "metadata": {
        "colab": {
          "base_uri": "https://localhost:8080/"
        },
        "id": "A8u_95JdRKxy",
        "outputId": "7e8f9ed7-1460-4b75-f6dd-1296c5a00baa"
      },
      "execution_count": null,
      "outputs": [
        {
          "output_type": "stream",
          "name": "stdout",
          "text": [
            "[0]Logistic Regression Training Accuracy: 0.8089887640449438\n",
            "[1]K Nearest Neighbor Training Accuracy: 0.8632958801498127\n",
            "[2]Support Vector Machine (Linear Classifier) Training Accuracy: 0.7827715355805244\n",
            "[3]Support Vector Machine (RBF Classifier) Training Accuracy: 0.848314606741573\n",
            "[4]Gaussian Naive Bayes Training Accuracy: 0.7902621722846442\n",
            "[5]Decision Tree Classifier Training Accuracy: 0.9531835205992509\n",
            "[6]Random Forest Classifier Training Accuracy: 0.9419475655430711\n"
          ]
        }
      ]
    },
    {
      "cell_type": "code",
      "source": [
        "# show the confusion matrix and accuracy for all the models\n",
        "\n",
        "from sklearn.metrics import confusion_matrix \n",
        "for i in range(len(model)):\n",
        "   cm = confusion_matrix(y_test, model[i].predict(x_test)) \n",
        "   #extracting TN, FP, FN, TP\n",
        "   TN, FP, FN, TP = confusion_matrix(y_test, model[i].predict(x_test)).ravel()\n",
        "   print(cm)\n",
        "   print('Model[{}] Testing Accuracy = \"{} !\"'.format(i,  (TP + TN) / (TP + TN + FN + FP)))\n",
        "   print()# Print a new line"
      ],
      "metadata": {
        "colab": {
          "base_uri": "https://localhost:8080/"
        },
        "id": "d9_VYzGUSVE2",
        "outputId": "cbc3da98-7c28-4287-d615-f0093211d115"
      },
      "execution_count": null,
      "outputs": [
        {
          "output_type": "stream",
          "name": "stdout",
          "text": [
            "[[91 13]\n",
            " [23 51]]\n",
            "Model[0] Testing Accuracy = \"0.797752808988764 !\"\n",
            "\n",
            "[[81 23]\n",
            " [22 52]]\n",
            "Model[1] Testing Accuracy = \"0.7471910112359551 !\"\n",
            "\n",
            "[[86 18]\n",
            " [23 51]]\n",
            "Model[2] Testing Accuracy = \"0.7696629213483146 !\"\n",
            "\n",
            "[[92 12]\n",
            " [23 51]]\n",
            "Model[3] Testing Accuracy = \"0.8033707865168539 !\"\n",
            "\n",
            "[[82 22]\n",
            " [25 49]]\n",
            "Model[4] Testing Accuracy = \"0.7359550561797753 !\"\n",
            "\n",
            "[[74 30]\n",
            " [20 54]]\n",
            "Model[5] Testing Accuracy = \"0.7191011235955056 !\"\n",
            "\n",
            "[[76 28]\n",
            " [22 52]]\n",
            "Model[6] Testing Accuracy = \"0.7191011235955056 !\"\n",
            "\n"
          ]
        }
      ]
    },
    {
      "cell_type": "code",
      "source": [
        "forest = model[5]\n",
        "importances = pd.DataFrame({'feature':dataset.iloc[:, 1:8].columns,'importance':np.round(forest.feature_importances_,3)})\n",
        "# importances = importances.sort_values('importance',ascending=False).set_index('feature')\n",
        "importances"
      ],
      "metadata": {
        "colab": {
          "base_uri": "https://localhost:8080/",
          "height": 237
        },
        "id": "UPOtFf6gVPeW",
        "outputId": "e70c488b-3c10-4059-b871-eb7ce029ee06"
      },
      "execution_count": null,
      "outputs": [
        {
          "output_type": "execute_result",
          "data": {
            "text/plain": [
              "    feature  importance\n",
              "0    pclass       0.155\n",
              "1       sex       0.256\n",
              "2       age       0.394\n",
              "3     sibsp       0.104\n",
              "4     parch       0.046\n",
              "5  embarked       0.046"
            ],
            "text/html": [
              "\n",
              "  <div id=\"df-e598b903-06f5-4186-94a1-5377661c52aa\">\n",
              "    <div class=\"colab-df-container\">\n",
              "      <div>\n",
              "<style scoped>\n",
              "    .dataframe tbody tr th:only-of-type {\n",
              "        vertical-align: middle;\n",
              "    }\n",
              "\n",
              "    .dataframe tbody tr th {\n",
              "        vertical-align: top;\n",
              "    }\n",
              "\n",
              "    .dataframe thead th {\n",
              "        text-align: right;\n",
              "    }\n",
              "</style>\n",
              "<table border=\"1\" class=\"dataframe\">\n",
              "  <thead>\n",
              "    <tr style=\"text-align: right;\">\n",
              "      <th></th>\n",
              "      <th>feature</th>\n",
              "      <th>importance</th>\n",
              "    </tr>\n",
              "  </thead>\n",
              "  <tbody>\n",
              "    <tr>\n",
              "      <th>0</th>\n",
              "      <td>pclass</td>\n",
              "      <td>0.155</td>\n",
              "    </tr>\n",
              "    <tr>\n",
              "      <th>1</th>\n",
              "      <td>sex</td>\n",
              "      <td>0.256</td>\n",
              "    </tr>\n",
              "    <tr>\n",
              "      <th>2</th>\n",
              "      <td>age</td>\n",
              "      <td>0.394</td>\n",
              "    </tr>\n",
              "    <tr>\n",
              "      <th>3</th>\n",
              "      <td>sibsp</td>\n",
              "      <td>0.104</td>\n",
              "    </tr>\n",
              "    <tr>\n",
              "      <th>4</th>\n",
              "      <td>parch</td>\n",
              "      <td>0.046</td>\n",
              "    </tr>\n",
              "    <tr>\n",
              "      <th>5</th>\n",
              "      <td>embarked</td>\n",
              "      <td>0.046</td>\n",
              "    </tr>\n",
              "  </tbody>\n",
              "</table>\n",
              "</div>\n",
              "      <button class=\"colab-df-convert\" onclick=\"convertToInteractive('df-e598b903-06f5-4186-94a1-5377661c52aa')\"\n",
              "              title=\"Convert this dataframe to an interactive table.\"\n",
              "              style=\"display:none;\">\n",
              "        \n",
              "  <svg xmlns=\"http://www.w3.org/2000/svg\" height=\"24px\"viewBox=\"0 0 24 24\"\n",
              "       width=\"24px\">\n",
              "    <path d=\"M0 0h24v24H0V0z\" fill=\"none\"/>\n",
              "    <path d=\"M18.56 5.44l.94 2.06.94-2.06 2.06-.94-2.06-.94-.94-2.06-.94 2.06-2.06.94zm-11 1L8.5 8.5l.94-2.06 2.06-.94-2.06-.94L8.5 2.5l-.94 2.06-2.06.94zm10 10l.94 2.06.94-2.06 2.06-.94-2.06-.94-.94-2.06-.94 2.06-2.06.94z\"/><path d=\"M17.41 7.96l-1.37-1.37c-.4-.4-.92-.59-1.43-.59-.52 0-1.04.2-1.43.59L10.3 9.45l-7.72 7.72c-.78.78-.78 2.05 0 2.83L4 21.41c.39.39.9.59 1.41.59.51 0 1.02-.2 1.41-.59l7.78-7.78 2.81-2.81c.8-.78.8-2.07 0-2.86zM5.41 20L4 18.59l7.72-7.72 1.47 1.35L5.41 20z\"/>\n",
              "  </svg>\n",
              "      </button>\n",
              "      \n",
              "  <style>\n",
              "    .colab-df-container {\n",
              "      display:flex;\n",
              "      flex-wrap:wrap;\n",
              "      gap: 12px;\n",
              "    }\n",
              "\n",
              "    .colab-df-convert {\n",
              "      background-color: #E8F0FE;\n",
              "      border: none;\n",
              "      border-radius: 50%;\n",
              "      cursor: pointer;\n",
              "      display: none;\n",
              "      fill: #1967D2;\n",
              "      height: 32px;\n",
              "      padding: 0 0 0 0;\n",
              "      width: 32px;\n",
              "    }\n",
              "\n",
              "    .colab-df-convert:hover {\n",
              "      background-color: #E2EBFA;\n",
              "      box-shadow: 0px 1px 2px rgba(60, 64, 67, 0.3), 0px 1px 3px 1px rgba(60, 64, 67, 0.15);\n",
              "      fill: #174EA6;\n",
              "    }\n",
              "\n",
              "    [theme=dark] .colab-df-convert {\n",
              "      background-color: #3B4455;\n",
              "      fill: #D2E3FC;\n",
              "    }\n",
              "\n",
              "    [theme=dark] .colab-df-convert:hover {\n",
              "      background-color: #434B5C;\n",
              "      box-shadow: 0px 1px 3px 1px rgba(0, 0, 0, 0.15);\n",
              "      filter: drop-shadow(0px 1px 2px rgba(0, 0, 0, 0.3));\n",
              "      fill: #FFFFFF;\n",
              "    }\n",
              "  </style>\n",
              "\n",
              "      <script>\n",
              "        const buttonEl =\n",
              "          document.querySelector('#df-e598b903-06f5-4186-94a1-5377661c52aa button.colab-df-convert');\n",
              "        buttonEl.style.display =\n",
              "          google.colab.kernel.accessAllowed ? 'block' : 'none';\n",
              "\n",
              "        async function convertToInteractive(key) {\n",
              "          const element = document.querySelector('#df-e598b903-06f5-4186-94a1-5377661c52aa');\n",
              "          const dataTable =\n",
              "            await google.colab.kernel.invokeFunction('convertToInteractive',\n",
              "                                                     [key], {});\n",
              "          if (!dataTable) return;\n",
              "\n",
              "          const docLinkHtml = 'Like what you see? Visit the ' +\n",
              "            '<a target=\"_blank\" href=https://colab.research.google.com/notebooks/data_table.ipynb>data table notebook</a>'\n",
              "            + ' to learn more about interactive tables.';\n",
              "          element.innerHTML = '';\n",
              "          dataTable['output_type'] = 'display_data';\n",
              "          await google.colab.output.renderOutput(dataTable, element);\n",
              "          const docLink = document.createElement('div');\n",
              "          docLink.innerHTML = docLinkHtml;\n",
              "          element.appendChild(docLink);\n",
              "        }\n",
              "      </script>\n",
              "    </div>\n",
              "  </div>\n",
              "  "
            ]
          },
          "metadata": {},
          "execution_count": 188
        }
      ]
    },
    {
      "cell_type": "code",
      "source": [
        "importances.plot.bar()"
      ],
      "metadata": {
        "colab": {
          "base_uri": "https://localhost:8080/",
          "height": 280
        },
        "id": "thJk-7VeVovc",
        "outputId": "1210ff88-081b-4a94-f8a4-d6b7f9f039b7"
      },
      "execution_count": null,
      "outputs": [
        {
          "output_type": "execute_result",
          "data": {
            "text/plain": [
              "<matplotlib.axes._subplots.AxesSubplot at 0x7f657a88b490>"
            ]
          },
          "metadata": {},
          "execution_count": 189
        },
        {
          "output_type": "display_data",
          "data": {
            "text/plain": [
              "<Figure size 432x288 with 1 Axes>"
            ],
            "image/png": "[encoded data removed]"
          },
          "metadata": {
            "needs_background": "light"
          }
        }
      ]
    },
    {
      "cell_type": "code",
      "source": [
        "pred = model[3].predict(x_test)\n",
        "print(pred)\n",
        "#Print a space\n",
        "print()\n",
        "#Print the actual values\n",
        "print(y_test)"
      ],
      "metadata": {
        "colab": {
          "base_uri": "https://localhost:8080/"
        },
        "id": "DLrrkmUkaSHs",
        "outputId": "dc576014-80b7-4e3e-84a3-c5161ec09eb2"
      },
      "execution_count": null,
      "outputs": [
        {
          "output_type": "stream",
          "name": "stdout",
          "text": [
            "[0 0 1 0 0 0 1 0 0 1 1 1 1 0 0 1 0 1 0 0 0 1 1 1 0 0 0 0 0 0 0 0 0 1 1 1 1\n",
            " 0 0 0 0 0 0 0 0 0 1 0 0 1 1 1 1 0 1 0 0 0 1 0 1 0 0 1 0 0 1 0 1 1 0 1 1 0\n",
            " 0 0 1 0 0 0 0 1 0 1 1 0 0 0 1 0 0 0 0 1 1 0 1 1 0 0 0 1 0 0 0 0 0 0 0 0 0\n",
            " 1 1 0 0 0 0 0 0 0 0 0 0 1 0 0 0 0 1 1 0 1 1 1 1 1 1 0 0 0 0 0 1 0 0 0 0 0\n",
            " 0 0 0 0 1 1 1 0 0 0 1 1 1 0 1 0 0 0 0 0 0 0 1 0 1 0 1 1 1 0]\n",
            "\n",
            "[0 0 1 0 0 0 1 0 0 0 1 1 1 0 0 1 0 1 1 0 0 1 1 1 0 0 0 0 1 0 0 0 0 1 1 0 1\n",
            " 1 1 1 1 1 0 0 0 0 1 0 0 1 1 0 1 0 0 0 0 0 1 0 0 0 0 1 0 0 1 1 0 1 0 1 1 1\n",
            " 0 0 1 1 0 0 0 1 1 1 1 0 0 0 1 0 0 0 1 1 1 0 1 1 0 1 0 1 0 0 0 0 1 0 0 0 0\n",
            " 1 1 1 0 0 1 0 0 1 0 0 0 0 0 0 0 0 0 1 1 1 1 1 1 1 1 0 0 0 0 0 1 0 0 0 0 0\n",
            " 0 0 0 1 0 1 0 0 1 0 1 1 1 0 1 1 0 0 0 0 0 1 1 0 1 1 0 0 1 0]\n"
          ]
        }
      ]
    },
    {
      "cell_type": "code",
      "source": [
        "dataset.head()"
      ],
      "metadata": {
        "colab": {
          "base_uri": "https://localhost:8080/",
          "height": 206
        },
        "id": "jM_WuBP_9USx",
        "outputId": "bf1958dd-c37c-447e-f953-7de85a46d68f"
      },
      "execution_count": null,
      "outputs": [
        {
          "output_type": "execute_result",
          "data": {
            "text/plain": [
              "   survived  pclass  sex   age  sibsp  parch  embarked\n",
              "0         0       3    1  22.0      1      0         2\n",
              "1         1       1    0  38.0      1      0         0\n",
              "2         1       3    0  26.0      0      0         2\n",
              "3         1       1    0  35.0      1      0         2\n",
              "4         0       3    1  35.0      0      0         2"
            ],
            "text/html": [
              "\n",
              "  <div id=\"df-9fada882-7f78-4256-86ca-87a1b120319b\">\n",
              "    <div class=\"colab-df-container\">\n",
              "      <div>\n",
              "<style scoped>\n",
              "    .dataframe tbody tr th:only-of-type {\n",
              "        vertical-align: middle;\n",
              "    }\n",
              "\n",
              "    .dataframe tbody tr th {\n",
              "        vertical-align: top;\n",
              "    }\n",
              "\n",
              "    .dataframe thead th {\n",
              "        text-align: right;\n",
              "    }\n",
              "</style>\n",
              "<table border=\"1\" class=\"dataframe\">\n",
              "  <thead>\n",
              "    <tr style=\"text-align: right;\">\n",
              "      <th></th>\n",
              "      <th>survived</th>\n",
              "      <th>pclass</th>\n",
              "      <th>sex</th>\n",
              "      <th>age</th>\n",
              "      <th>sibsp</th>\n",
              "      <th>parch</th>\n",
              "      <th>embarked</th>\n",
              "    </tr>\n",
              "  </thead>\n",
              "  <tbody>\n",
              "    <tr>\n",
              "      <th>0</th>\n",
              "      <td>0</td>\n",
              "      <td>3</td>\n",
              "      <td>1</td>\n",
              "      <td>22.0</td>\n",
              "      <td>1</td>\n",
              "      <td>0</td>\n",
              "      <td>2</td>\n",
              "    </tr>\n",
              "    <tr>\n",
              "      <th>1</th>\n",
              "      <td>1</td>\n",
              "      <td>1</td>\n",
              "      <td>0</td>\n",
              "      <td>38.0</td>\n",
              "      <td>1</td>\n",
              "      <td>0</td>\n",
              "      <td>0</td>\n",
              "    </tr>\n",
              "    <tr>\n",
              "      <th>2</th>\n",
              "      <td>1</td>\n",
              "      <td>3</td>\n",
              "      <td>0</td>\n",
              "      <td>26.0</td>\n",
              "      <td>0</td>\n",
              "      <td>0</td>\n",
              "      <td>2</td>\n",
              "    </tr>\n",
              "    <tr>\n",
              "      <th>3</th>\n",
              "      <td>1</td>\n",
              "      <td>1</td>\n",
              "      <td>0</td>\n",
              "      <td>35.0</td>\n",
              "      <td>1</td>\n",
              "      <td>0</td>\n",
              "      <td>2</td>\n",
              "    </tr>\n",
              "    <tr>\n",
              "      <th>4</th>\n",
              "      <td>0</td>\n",
              "      <td>3</td>\n",
              "      <td>1</td>\n",
              "      <td>35.0</td>\n",
              "      <td>0</td>\n",
              "      <td>0</td>\n",
              "      <td>2</td>\n",
              "    </tr>\n",
              "  </tbody>\n",
              "</table>\n",
              "</div>\n",
              "      <button class=\"colab-df-convert\" onclick=\"convertToInteractive('df-9fada882-7f78-4256-86ca-87a1b120319b')\"\n",
              "              title=\"Convert this dataframe to an interactive table.\"\n",
              "              style=\"display:none;\">\n",
              "        \n",
              "  <svg xmlns=\"http://www.w3.org/2000/svg\" height=\"24px\"viewBox=\"0 0 24 24\"\n",
              "       width=\"24px\">\n",
              "    <path d=\"M0 0h24v24H0V0z\" fill=\"none\"/>\n",
              "    <path d=\"M18.56 5.44l.94 2.06.94-2.06 2.06-.94-2.06-.94-.94-2.06-.94 2.06-2.06.94zm-11 1L8.5 8.5l.94-2.06 2.06-.94-2.06-.94L8.5 2.5l-.94 2.06-2.06.94zm10 10l.94 2.06.94-2.06 2.06-.94-2.06-.94-.94-2.06-.94 2.06-2.06.94z\"/><path d=\"M17.41 7.96l-1.37-1.37c-.4-.4-.92-.59-1.43-.59-.52 0-1.04.2-1.43.59L10.3 9.45l-7.72 7.72c-.78.78-.78 2.05 0 2.83L4 21.41c.39.39.9.59 1.41.59.51 0 1.02-.2 1.41-.59l7.78-7.78 2.81-2.81c.8-.78.8-2.07 0-2.86zM5.41 20L4 18.59l7.72-7.72 1.47 1.35L5.41 20z\"/>\n",
              "  </svg>\n",
              "      </button>\n",
              "      \n",
              "  <style>\n",
              "    .colab-df-container {\n",
              "      display:flex;\n",
              "      flex-wrap:wrap;\n",
              "      gap: 12px;\n",
              "    }\n",
              "\n",
              "    .colab-df-convert {\n",
              "      background-color: #E8F0FE;\n",
              "      border: none;\n",
              "      border-radius: 50%;\n",
              "      cursor: pointer;\n",
              "      display: none;\n",
              "      fill: #1967D2;\n",
              "      height: 32px;\n",
              "      padding: 0 0 0 0;\n",
              "      width: 32px;\n",
              "    }\n",
              "\n",
              "    .colab-df-convert:hover {\n",
              "      background-color: #E2EBFA;\n",
              "      box-shadow: 0px 1px 2px rgba(60, 64, 67, 0.3), 0px 1px 3px 1px rgba(60, 64, 67, 0.15);\n",
              "      fill: #174EA6;\n",
              "    }\n",
              "\n",
              "    [theme=dark] .colab-df-convert {\n",
              "      background-color: #3B4455;\n",
              "      fill: #D2E3FC;\n",
              "    }\n",
              "\n",
              "    [theme=dark] .colab-df-convert:hover {\n",
              "      background-color: #434B5C;\n",
              "      box-shadow: 0px 1px 3px 1px rgba(0, 0, 0, 0.15);\n",
              "      filter: drop-shadow(0px 1px 2px rgba(0, 0, 0, 0.3));\n",
              "      fill: #FFFFFF;\n",
              "    }\n",
              "  </style>\n",
              "\n",
              "      <script>\n",
              "        const buttonEl =\n",
              "          document.querySelector('#df-9fada882-7f78-4256-86ca-87a1b120319b button.colab-df-convert');\n",
              "        buttonEl.style.display =\n",
              "          google.colab.kernel.accessAllowed ? 'block' : 'none';\n",
              "\n",
              "        async function convertToInteractive(key) {\n",
              "          const element = document.querySelector('#df-9fada882-7f78-4256-86ca-87a1b120319b');\n",
              "          const dataTable =\n",
              "            await google.colab.kernel.invokeFunction('convertToInteractive',\n",
              "                                                     [key], {});\n",
              "          if (!dataTable) return;\n",
              "\n",
              "          const docLinkHtml = 'Like what you see? Visit the ' +\n",
              "            '<a target=\"_blank\" href=https://colab.research.google.com/notebooks/data_table.ipynb>data table notebook</a>'\n",
              "            + ' to learn more about interactive tables.';\n",
              "          element.innerHTML = '';\n",
              "          dataTable['output_type'] = 'display_data';\n",
              "          await google.colab.output.renderOutput(dataTable, element);\n",
              "          const docLink = document.createElement('div');\n",
              "          docLink.innerHTML = docLinkHtml;\n",
              "          element.appendChild(docLink);\n",
              "        }\n",
              "      </script>\n",
              "    </div>\n",
              "  </div>\n",
              "  "
            ]
          },
          "metadata": {},
          "execution_count": 193
        }
      ]
    },
    {
      "cell_type": "code",
      "source": [
        "my_survival = [[1, 0, 10, 1, 0, 2]]\n",
        "\n",
        "\n",
        "my_survival_scaled = scale_data(my_survival)\n",
        "\n",
        "#Print Prediction of Random Forest Classifier model\n",
        "pred = model[5].predict(my_survival_scaled)\n",
        "print(pred)\n",
        "\n",
        "if pred == 0:\n",
        "  print('Oh no! You didn''t make it')\n",
        "else:\n",
        "  print('Nice! You survived')"
      ],
      "metadata": {
        "colab": {
          "base_uri": "https://localhost:8080/"
        },
        "id": "nR6u9RFYXUZM",
        "outputId": "ad3165ff-2679-4dd9-a3ba-a6e4d1cc52ff"
      },
      "execution_count": null,
      "outputs": [
        {
          "output_type": "stream",
          "name": "stdout",
          "text": [
            "[0]\n",
            "Oh no! You didnt make it\n"
          ]
        }
      ]
    },
    {
      "cell_type": "code",
      "source": [
        "!pip install graphviz"
      ],
      "metadata": {
        "colab": {
          "base_uri": "https://localhost:8080/"
        },
        "id": "g4PNAIRU5Xje",
        "outputId": "3db10672-83e1-47ef-d511-501c8ebdf16a"
      },
      "execution_count": null,
      "outputs": [
        {
          "output_type": "stream",
          "name": "stdout",
          "text": [
            "Requirement already satisfied: graphviz in /usr/local/lib/python3.7/dist-packages (0.10.1)\n"
          ]
        }
      ]
    },
    {
      "cell_type": "code",
      "source": [
        ""
      ],
      "metadata": {
        "id": "S9iBLp25CQDw"
      },
      "execution_count": null,
      "outputs": []
    },
    {
      "cell_type": "code",
      "source": [
        "from sklearn import tree\n",
        "import graphviz\n",
        "# DOT data\n",
        "# graph = tree.export_graphviz(model[6], out_file='tree.dot', feature_names=x_train.columns, max_depth = 2, filled=True)\n",
        "\n",
        "dot_data = tree.export_graphviz(model[5], out_file=None, \n",
        "                                feature_names=x_col.columns,  \n",
        "                                max_depth=5,\n",
        "                                filled=True)\n",
        "\n",
        "# Draw graph\n",
        "graph = graphviz.Source(dot_data, format=\"png\") \n",
        "graph"
      ],
      "metadata": {
        "colab": {
          "base_uri": "https://localhost:8080/",
          "height": 931
        },
        "id": "5ey_3QUBvcx3",
        "outputId": "5bda70db-ca9d-4297-feae-8c1eb280d9cc"
      },
      "execution_count": null,
      "outputs": [
        {
          "output_type": "execute_result",
          "data": {
            "text/plain": [
              "<graphviz.files.Source at 0x7f657a863ad0>"
            ],
            "image/svg+xml": "<?xml version=\"1.0\" encoding=\"UTF-8\" standalone=\"no\"?>\n<!DOCTYPE svg PUBLIC \"-//W3C//DTD SVG 1.1//EN\"\n \"http://www.w3.org/Graphics/SVG/1.1/DTD/svg11.dtd\">\n<!-- Generated by graphviz version 2.40.1 (20161225.0304)\n -->\n<!-- Title: Tree Pages: 1 -->\n<svg width=\"2953pt\" height=\"668pt\"\n viewBox=\"0.00 0.00 2952.50 668.00\" xmlns=\"http://www.w3.org/2000/svg\" xmlns:xlink=\"http://www.w3.org/1999/xlink\">\n<g id=\"graph0\" class=\"graph\" transform=\"scale(1 1) rotate(0) translate(4 664)\">\n<title>Tree</title>\n<polygon fill=\"#ffffff\" stroke=\"transparent\" points=\"-4,4 -4,-664 2948.5,-664 2948.5,4 -4,4\"/>\n<!-- 0 -->\n<g id=\"node1\" class=\"node\">\n<title>0</title>\n<polygon fill=\"#f6d5bd\" stroke=\"#000000\" points=\"1268.5,-660 1136.5,-660 1136.5,-592 1268.5,-592 1268.5,-660\"/>\n<text text-anchor=\"middle\" x=\"1202.5\" y=\"-644.8\" font-family=\"Helvetica,sans-Serif\" font-size=\"14.00\" fill=\"#000000\">sex &lt;= &#45;0.301</text>\n<text text-anchor=\"middle\" x=\"1202.5\" y=\"-629.8\" font-family=\"Helvetica,sans-Serif\" font-size=\"14.00\" fill=\"#000000\">entropy = 0.971</text>\n<text text-anchor=\"middle\" x=\"1202.5\" y=\"-614.8\" font-family=\"Helvetica,sans-Serif\" font-size=\"14.00\" fill=\"#000000\">samples = 534</text>\n<text text-anchor=\"middle\" x=\"1202.5\" y=\"-599.8\" font-family=\"Helvetica,sans-Serif\" font-size=\"14.00\" fill=\"#000000\">value = [320, 214]</text>\n</g>\n<!-- 1 -->\n<g id=\"node2\" class=\"node\">\n<title>1</title>\n<polygon fill=\"#78bced\" stroke=\"#000000\" points=\"977.5,-556 853.5,-556 853.5,-488 977.5,-488 977.5,-556\"/>\n<text text-anchor=\"middle\" x=\"915.5\" y=\"-540.8\" font-family=\"Helvetica,sans-Serif\" font-size=\"14.00\" fill=\"#000000\">pclass &lt;= 0.292</text>\n<text text-anchor=\"middle\" x=\"915.5\" y=\"-525.8\" font-family=\"Helvetica,sans-Serif\" font-size=\"14.00\" fill=\"#000000\">entropy = 0.799</text>\n<text text-anchor=\"middle\" x=\"915.5\" y=\"-510.8\" font-family=\"Helvetica,sans-Serif\" font-size=\"14.00\" fill=\"#000000\">samples = 190</text>\n<text text-anchor=\"middle\" x=\"915.5\" y=\"-495.8\" font-family=\"Helvetica,sans-Serif\" font-size=\"14.00\" fill=\"#000000\">value = [46, 144]</text>\n</g>\n<!-- 0&#45;&gt;1 -->\n<g id=\"edge1\" class=\"edge\">\n<title>0&#45;&gt;1</title>\n<path fill=\"none\" stroke=\"#000000\" d=\"M1136.296,-602.0097C1091.7856,-585.8805 1033.1333,-564.6267 987.4673,-548.0787\"/>\n<polygon fill=\"#000000\" stroke=\"#000000\" points=\"988.5237,-544.7389 977.9295,-544.6225 986.1388,-551.3201 988.5237,-544.7389\"/>\n<text text-anchor=\"middle\" x=\"988.527\" y=\"-563.5653\" font-family=\"Helvetica,sans-Serif\" font-size=\"14.00\" fill=\"#000000\">True</text>\n</g>\n<!-- 94 -->\n<g id=\"node31\" class=\"node\">\n<title>94</title>\n<polygon fill=\"#eca16c\" stroke=\"#000000\" points=\"1623.5,-556 1499.5,-556 1499.5,-488 1623.5,-488 1623.5,-556\"/>\n<text text-anchor=\"middle\" x=\"1561.5\" y=\"-540.8\" font-family=\"Helvetica,sans-Serif\" font-size=\"14.00\" fill=\"#000000\">pclass &lt;= &#45;0.907</text>\n<text text-anchor=\"middle\" x=\"1561.5\" y=\"-525.8\" font-family=\"Helvetica,sans-Serif\" font-size=\"14.00\" fill=\"#000000\">entropy = 0.729</text>\n<text text-anchor=\"middle\" x=\"1561.5\" y=\"-510.8\" font-family=\"Helvetica,sans-Serif\" font-size=\"14.00\" fill=\"#000000\">samples = 344</text>\n<text text-anchor=\"middle\" x=\"1561.5\" y=\"-495.8\" font-family=\"Helvetica,sans-Serif\" font-size=\"14.00\" fill=\"#000000\">value = [274, 70]</text>\n</g>\n<!-- 0&#45;&gt;94 -->\n<g id=\"edge30\" class=\"edge\">\n<title>0&#45;&gt;94</title>\n<path fill=\"none\" stroke=\"#000000\" d=\"M1268.7645,-606.8036C1331.3943,-588.6602 1425.1097,-561.5114 1489.5424,-542.8457\"/>\n<polygon fill=\"#000000\" stroke=\"#000000\" points=\"1490.5945,-546.1849 1499.2256,-540.0405 1488.6466,-539.4613 1490.5945,-546.1849\"/>\n<text text-anchor=\"middle\" x=\"1487.165\" y=\"-558.2389\" font-family=\"Helvetica,sans-Serif\" font-size=\"14.00\" fill=\"#000000\">False</text>\n</g>\n<!-- 2 -->\n<g id=\"node3\" class=\"node\">\n<title>2</title>\n<polygon fill=\"#44a2e6\" stroke=\"#000000\" points=\"453.5,-452 335.5,-452 335.5,-384 453.5,-384 453.5,-452\"/>\n<text text-anchor=\"middle\" x=\"394.5\" y=\"-436.8\" font-family=\"Helvetica,sans-Serif\" font-size=\"14.00\" fill=\"#000000\">age &lt;= &#45;0.336</text>\n<text text-anchor=\"middle\" x=\"394.5\" y=\"-421.8\" font-family=\"Helvetica,sans-Serif\" font-size=\"14.00\" fill=\"#000000\">entropy = 0.292</text>\n<text text-anchor=\"middle\" x=\"394.5\" y=\"-406.8\" font-family=\"Helvetica,sans-Serif\" font-size=\"14.00\" fill=\"#000000\">samples = 117</text>\n<text text-anchor=\"middle\" x=\"394.5\" y=\"-391.8\" font-family=\"Helvetica,sans-Serif\" font-size=\"14.00\" fill=\"#000000\">value = [6, 111]</text>\n</g>\n<!-- 1&#45;&gt;2 -->\n<g id=\"edge2\" class=\"edge\">\n<title>1&#45;&gt;2</title>\n<path fill=\"none\" stroke=\"#000000\" d=\"M853.4308,-509.61C755.5082,-490.0631 565.8266,-452.1996 463.6656,-431.8066\"/>\n<polygon fill=\"#000000\" stroke=\"#000000\" points=\"464.2493,-428.3541 453.7576,-429.8288 462.879,-435.2187 464.2493,-428.3541\"/>\n</g>\n<!-- 31 -->\n<g id=\"node16\" class=\"node\">\n<title>31</title>\n<polygon fill=\"#fae9dc\" stroke=\"#000000\" points=\"974.5,-452 856.5,-452 856.5,-384 974.5,-384 974.5,-452\"/>\n<text text-anchor=\"middle\" x=\"915.5\" y=\"-436.8\" font-family=\"Helvetica,sans-Serif\" font-size=\"14.00\" fill=\"#000000\">age &lt;= 0.65</text>\n<text text-anchor=\"middle\" x=\"915.5\" y=\"-421.8\" font-family=\"Helvetica,sans-Serif\" font-size=\"14.00\" fill=\"#000000\">entropy = 0.993</text>\n<text text-anchor=\"middle\" x=\"915.5\" y=\"-406.8\" font-family=\"Helvetica,sans-Serif\" font-size=\"14.00\" fill=\"#000000\">samples = 73</text>\n<text text-anchor=\"middle\" x=\"915.5\" y=\"-391.8\" font-family=\"Helvetica,sans-Serif\" font-size=\"14.00\" fill=\"#000000\">value = [40, 33]</text>\n</g>\n<!-- 1&#45;&gt;31 -->\n<g id=\"edge15\" class=\"edge\">\n<title>1&#45;&gt;31</title>\n<path fill=\"none\" stroke=\"#000000\" d=\"M915.5,-487.9465C915.5,-479.776 915.5,-470.9318 915.5,-462.3697\"/>\n<polygon fill=\"#000000\" stroke=\"#000000\" points=\"919.0001,-462.13 915.5,-452.13 912.0001,-462.13 919.0001,-462.13\"/>\n</g>\n<!-- 3 -->\n<g id=\"node4\" class=\"node\">\n<title>3</title>\n<polygon fill=\"#399de5\" stroke=\"#000000\" points=\"317,-340.5 210,-340.5 210,-287.5 317,-287.5 317,-340.5\"/>\n<text text-anchor=\"middle\" x=\"263.5\" y=\"-325.3\" font-family=\"Helvetica,sans-Serif\" font-size=\"14.00\" fill=\"#000000\">entropy = 0.0</text>\n<text text-anchor=\"middle\" x=\"263.5\" y=\"-310.3\" font-family=\"Helvetica,sans-Serif\" font-size=\"14.00\" fill=\"#000000\">samples = 38</text>\n<text text-anchor=\"middle\" x=\"263.5\" y=\"-295.3\" font-family=\"Helvetica,sans-Serif\" font-size=\"14.00\" fill=\"#000000\">value = [0, 38]</text>\n</g>\n<!-- 2&#45;&gt;3 -->\n<g id=\"edge3\" class=\"edge\">\n<title>2&#45;&gt;3</title>\n<path fill=\"none\" stroke=\"#000000\" d=\"M351.6057,-383.9465C336.6212,-372.0504 319.8376,-358.726 304.9712,-346.9237\"/>\n<polygon fill=\"#000000\" stroke=\"#000000\" points=\"306.9411,-344.0187 296.9329,-340.5422 302.5887,-349.5011 306.9411,-344.0187\"/>\n</g>\n<!-- 4 -->\n<g id=\"node5\" class=\"node\">\n<title>4</title>\n<polygon fill=\"#49a5e7\" stroke=\"#000000\" points=\"453.5,-348 335.5,-348 335.5,-280 453.5,-280 453.5,-348\"/>\n<text text-anchor=\"middle\" x=\"394.5\" y=\"-332.8\" font-family=\"Helvetica,sans-Serif\" font-size=\"14.00\" fill=\"#000000\">age &lt;= &#45;0.125</text>\n<text text-anchor=\"middle\" x=\"394.5\" y=\"-317.8\" font-family=\"Helvetica,sans-Serif\" font-size=\"14.00\" fill=\"#000000\">entropy = 0.388</text>\n<text text-anchor=\"middle\" x=\"394.5\" y=\"-302.8\" font-family=\"Helvetica,sans-Serif\" font-size=\"14.00\" fill=\"#000000\">samples = 79</text>\n<text text-anchor=\"middle\" x=\"394.5\" y=\"-287.8\" font-family=\"Helvetica,sans-Serif\" font-size=\"14.00\" fill=\"#000000\">value = [6, 73]</text>\n</g>\n<!-- 2&#45;&gt;4 -->\n<g id=\"edge4\" class=\"edge\">\n<title>2&#45;&gt;4</title>\n<path fill=\"none\" stroke=\"#000000\" d=\"M394.5,-383.9465C394.5,-375.776 394.5,-366.9318 394.5,-358.3697\"/>\n<polygon fill=\"#000000\" stroke=\"#000000\" points=\"398.0001,-358.13 394.5,-348.13 391.0001,-358.13 398.0001,-358.13\"/>\n</g>\n<!-- 5 -->\n<g id=\"node6\" class=\"node\">\n<title>5</title>\n<polygon fill=\"#b0d8f5\" stroke=\"#000000\" points=\"247.5,-244 129.5,-244 129.5,-176 247.5,-176 247.5,-244\"/>\n<text text-anchor=\"middle\" x=\"188.5\" y=\"-228.8\" font-family=\"Helvetica,sans-Serif\" font-size=\"14.00\" fill=\"#000000\">sibsp &lt;= &#45;0.02</text>\n<text text-anchor=\"middle\" x=\"188.5\" y=\"-213.8\" font-family=\"Helvetica,sans-Serif\" font-size=\"14.00\" fill=\"#000000\">entropy = 0.954</text>\n<text text-anchor=\"middle\" x=\"188.5\" y=\"-198.8\" font-family=\"Helvetica,sans-Serif\" font-size=\"14.00\" fill=\"#000000\">samples = 8</text>\n<text text-anchor=\"middle\" x=\"188.5\" y=\"-183.8\" font-family=\"Helvetica,sans-Serif\" font-size=\"14.00\" fill=\"#000000\">value = [3, 5]</text>\n</g>\n<!-- 4&#45;&gt;5 -->\n<g id=\"edge5\" class=\"edge\">\n<title>4&#45;&gt;5</title>\n<path fill=\"none\" stroke=\"#000000\" d=\"M335.4687,-284.1978C310.9026,-271.7955 282.2286,-257.3193 256.7632,-244.463\"/>\n<polygon fill=\"#000000\" stroke=\"#000000\" points=\"258.0442,-241.189 247.54,-239.8066 254.8894,-247.4378 258.0442,-241.189\"/>\n</g>\n<!-- 14 -->\n<g id=\"node11\" class=\"node\">\n<title>14</title>\n<polygon fill=\"#42a1e6\" stroke=\"#000000\" points=\"453.5,-244 335.5,-244 335.5,-176 453.5,-176 453.5,-244\"/>\n<text text-anchor=\"middle\" x=\"394.5\" y=\"-228.8\" font-family=\"Helvetica,sans-Serif\" font-size=\"14.00\" fill=\"#000000\">age &lt;= 0.545</text>\n<text text-anchor=\"middle\" x=\"394.5\" y=\"-213.8\" font-family=\"Helvetica,sans-Serif\" font-size=\"14.00\" fill=\"#000000\">entropy = 0.253</text>\n<text text-anchor=\"middle\" x=\"394.5\" y=\"-198.8\" font-family=\"Helvetica,sans-Serif\" font-size=\"14.00\" fill=\"#000000\">samples = 71</text>\n<text text-anchor=\"middle\" x=\"394.5\" y=\"-183.8\" font-family=\"Helvetica,sans-Serif\" font-size=\"14.00\" fill=\"#000000\">value = [3, 68]</text>\n</g>\n<!-- 4&#45;&gt;14 -->\n<g id=\"edge10\" class=\"edge\">\n<title>4&#45;&gt;14</title>\n<path fill=\"none\" stroke=\"#000000\" d=\"M394.5,-279.9465C394.5,-271.776 394.5,-262.9318 394.5,-254.3697\"/>\n<polygon fill=\"#000000\" stroke=\"#000000\" points=\"398.0001,-254.13 394.5,-244.13 391.0001,-254.13 398.0001,-254.13\"/>\n</g>\n<!-- 6 -->\n<g id=\"node7\" class=\"node\">\n<title>6</title>\n<polygon fill=\"#399de5\" stroke=\"#000000\" points=\"101,-132.5 0,-132.5 0,-79.5 101,-79.5 101,-132.5\"/>\n<text text-anchor=\"middle\" x=\"50.5\" y=\"-117.3\" font-family=\"Helvetica,sans-Serif\" font-size=\"14.00\" fill=\"#000000\">entropy = 0.0</text>\n<text text-anchor=\"middle\" x=\"50.5\" y=\"-102.3\" font-family=\"Helvetica,sans-Serif\" font-size=\"14.00\" fill=\"#000000\">samples = 3</text>\n<text text-anchor=\"middle\" x=\"50.5\" y=\"-87.3\" font-family=\"Helvetica,sans-Serif\" font-size=\"14.00\" fill=\"#000000\">value = [0, 3]</text>\n</g>\n<!-- 5&#45;&gt;6 -->\n<g id=\"edge6\" class=\"edge\">\n<title>5&#45;&gt;6</title>\n<path fill=\"none\" stroke=\"#000000\" d=\"M143.3136,-175.9465C127.3823,-163.9403 109.5204,-150.4791 93.7527,-138.5962\"/>\n<polygon fill=\"#000000\" stroke=\"#000000\" points=\"95.812,-135.7656 85.7194,-132.5422 91.599,-141.3558 95.812,-135.7656\"/>\n</g>\n<!-- 7 -->\n<g id=\"node8\" class=\"node\">\n<title>7</title>\n<polygon fill=\"#f6d5bd\" stroke=\"#000000\" points=\"258,-140 119,-140 119,-72 258,-72 258,-140\"/>\n<text text-anchor=\"middle\" x=\"188.5\" y=\"-124.8\" font-family=\"Helvetica,sans-Serif\" font-size=\"14.00\" fill=\"#000000\">embarked &lt;= &#45;0.71</text>\n<text text-anchor=\"middle\" x=\"188.5\" y=\"-109.8\" font-family=\"Helvetica,sans-Serif\" font-size=\"14.00\" fill=\"#000000\">entropy = 0.971</text>\n<text text-anchor=\"middle\" x=\"188.5\" y=\"-94.8\" font-family=\"Helvetica,sans-Serif\" font-size=\"14.00\" fill=\"#000000\">samples = 5</text>\n<text text-anchor=\"middle\" x=\"188.5\" y=\"-79.8\" font-family=\"Helvetica,sans-Serif\" font-size=\"14.00\" fill=\"#000000\">value = [3, 2]</text>\n</g>\n<!-- 5&#45;&gt;7 -->\n<g id=\"edge7\" class=\"edge\">\n<title>5&#45;&gt;7</title>\n<path fill=\"none\" stroke=\"#000000\" d=\"M188.5,-175.9465C188.5,-167.776 188.5,-158.9318 188.5,-150.3697\"/>\n<polygon fill=\"#000000\" stroke=\"#000000\" points=\"192.0001,-150.13 188.5,-140.13 185.0001,-150.13 192.0001,-150.13\"/>\n</g>\n<!-- 8 -->\n<g id=\"node9\" class=\"node\">\n<title>8</title>\n<polygon fill=\"#c0c0c0\" stroke=\"#000000\" points=\"179.5,-36 125.5,-36 125.5,0 179.5,0 179.5,-36\"/>\n<text text-anchor=\"middle\" x=\"152.5\" y=\"-14.3\" font-family=\"Helvetica,sans-Serif\" font-size=\"14.00\" fill=\"#000000\">(...)</text>\n</g>\n<!-- 7&#45;&gt;8 -->\n<g id=\"edge8\" class=\"edge\">\n<title>7&#45;&gt;8</title>\n<path fill=\"none\" stroke=\"#000000\" d=\"M174.5815,-71.9769C170.9977,-63.2167 167.1862,-53.8995 163.7564,-45.5157\"/>\n<polygon fill=\"#000000\" stroke=\"#000000\" points=\"166.968,-44.1222 159.9422,-36.192 160.4891,-46.7727 166.968,-44.1222\"/>\n</g>\n<!-- 9 -->\n<g id=\"node10\" class=\"node\">\n<title>9</title>\n<polygon fill=\"#c0c0c0\" stroke=\"#000000\" points=\"251.5,-36 197.5,-36 197.5,0 251.5,0 251.5,-36\"/>\n<text text-anchor=\"middle\" x=\"224.5\" y=\"-14.3\" font-family=\"Helvetica,sans-Serif\" font-size=\"14.00\" fill=\"#000000\">(...)</text>\n</g>\n<!-- 7&#45;&gt;9 -->\n<g id=\"edge9\" class=\"edge\">\n<title>7&#45;&gt;9</title>\n<path fill=\"none\" stroke=\"#000000\" d=\"M202.4185,-71.9769C206.0023,-63.2167 209.8138,-53.8995 213.2436,-45.5157\"/>\n<polygon fill=\"#000000\" stroke=\"#000000\" points=\"216.5109,-46.7727 217.0578,-36.192 210.032,-44.1222 216.5109,-46.7727\"/>\n</g>\n<!-- 15 -->\n<g id=\"node12\" class=\"node\">\n<title>15</title>\n<polygon fill=\"#399de5\" stroke=\"#000000\" points=\"383,-132.5 276,-132.5 276,-79.5 383,-79.5 383,-132.5\"/>\n<text text-anchor=\"middle\" x=\"329.5\" y=\"-117.3\" font-family=\"Helvetica,sans-Serif\" font-size=\"14.00\" fill=\"#000000\">entropy = 0.0</text>\n<text text-anchor=\"middle\" x=\"329.5\" y=\"-102.3\" font-family=\"Helvetica,sans-Serif\" font-size=\"14.00\" fill=\"#000000\">samples = 35</text>\n<text text-anchor=\"middle\" x=\"329.5\" y=\"-87.3\" font-family=\"Helvetica,sans-Serif\" font-size=\"14.00\" fill=\"#000000\">value = [0, 35]</text>\n</g>\n<!-- 14&#45;&gt;15 -->\n<g id=\"edge11\" class=\"edge\">\n<title>14&#45;&gt;15</title>\n<path fill=\"none\" stroke=\"#000000\" d=\"M373.2166,-175.9465C366.2634,-164.8215 358.5295,-152.4473 351.5231,-141.237\"/>\n<polygon fill=\"#000000\" stroke=\"#000000\" points=\"354.3569,-139.1671 346.0889,-132.5422 348.4209,-142.8772 354.3569,-139.1671\"/>\n</g>\n<!-- 16 -->\n<g id=\"node13\" class=\"node\">\n<title>16</title>\n<polygon fill=\"#4ba6e7\" stroke=\"#000000\" points=\"519.5,-140 401.5,-140 401.5,-72 519.5,-72 519.5,-140\"/>\n<text text-anchor=\"middle\" x=\"460.5\" y=\"-124.8\" font-family=\"Helvetica,sans-Serif\" font-size=\"14.00\" fill=\"#000000\">parch &lt;= 0.06</text>\n<text text-anchor=\"middle\" x=\"460.5\" y=\"-109.8\" font-family=\"Helvetica,sans-Serif\" font-size=\"14.00\" fill=\"#000000\">entropy = 0.414</text>\n<text text-anchor=\"middle\" x=\"460.5\" y=\"-94.8\" font-family=\"Helvetica,sans-Serif\" font-size=\"14.00\" fill=\"#000000\">samples = 36</text>\n<text text-anchor=\"middle\" x=\"460.5\" y=\"-79.8\" font-family=\"Helvetica,sans-Serif\" font-size=\"14.00\" fill=\"#000000\">value = [3, 33]</text>\n</g>\n<!-- 14&#45;&gt;16 -->\n<g id=\"edge12\" class=\"edge\">\n<title>14&#45;&gt;16</title>\n<path fill=\"none\" stroke=\"#000000\" d=\"M416.1109,-175.9465C421.6378,-167.2373 427.6506,-157.7626 433.4146,-148.6801\"/>\n<polygon fill=\"#000000\" stroke=\"#000000\" points=\"436.4374,-150.4487 438.8406,-140.13 430.5271,-146.6979 436.4374,-150.4487\"/>\n</g>\n<!-- 17 -->\n<g id=\"node14\" class=\"node\">\n<title>17</title>\n<polygon fill=\"#c0c0c0\" stroke=\"#000000\" points=\"451.5,-36 397.5,-36 397.5,0 451.5,0 451.5,-36\"/>\n<text text-anchor=\"middle\" x=\"424.5\" y=\"-14.3\" font-family=\"Helvetica,sans-Serif\" font-size=\"14.00\" fill=\"#000000\">(...)</text>\n</g>\n<!-- 16&#45;&gt;17 -->\n<g id=\"edge13\" class=\"edge\">\n<title>16&#45;&gt;17</title>\n<path fill=\"none\" stroke=\"#000000\" d=\"M446.5815,-71.9769C442.9977,-63.2167 439.1862,-53.8995 435.7564,-45.5157\"/>\n<polygon fill=\"#000000\" stroke=\"#000000\" points=\"438.968,-44.1222 431.9422,-36.192 432.4891,-46.7727 438.968,-44.1222\"/>\n</g>\n<!-- 30 -->\n<g id=\"node15\" class=\"node\">\n<title>30</title>\n<polygon fill=\"#c0c0c0\" stroke=\"#000000\" points=\"523.5,-36 469.5,-36 469.5,0 523.5,0 523.5,-36\"/>\n<text text-anchor=\"middle\" x=\"496.5\" y=\"-14.3\" font-family=\"Helvetica,sans-Serif\" font-size=\"14.00\" fill=\"#000000\">(...)</text>\n</g>\n<!-- 16&#45;&gt;30 -->\n<g id=\"edge14\" class=\"edge\">\n<title>16&#45;&gt;30</title>\n<path fill=\"none\" stroke=\"#000000\" d=\"M474.4185,-71.9769C478.0023,-63.2167 481.8138,-53.8995 485.2436,-45.5157\"/>\n<polygon fill=\"#000000\" stroke=\"#000000\" points=\"488.5109,-46.7727 489.0578,-36.192 482.032,-44.1222 488.5109,-46.7727\"/>\n</g>\n<!-- 32 -->\n<g id=\"node17\" class=\"node\">\n<title>32</title>\n<polygon fill=\"#f9fcfe\" stroke=\"#000000\" points=\"906.5,-348 790.5,-348 790.5,-280 906.5,-280 906.5,-348\"/>\n<text text-anchor=\"middle\" x=\"848.5\" y=\"-332.8\" font-family=\"Helvetica,sans-Serif\" font-size=\"14.00\" fill=\"#000000\">sibsp &lt;= 2.083</text>\n<text text-anchor=\"middle\" x=\"848.5\" y=\"-317.8\" font-family=\"Helvetica,sans-Serif\" font-size=\"14.00\" fill=\"#000000\">entropy = 1.0</text>\n<text text-anchor=\"middle\" x=\"848.5\" y=\"-302.8\" font-family=\"Helvetica,sans-Serif\" font-size=\"14.00\" fill=\"#000000\">samples = 63</text>\n<text text-anchor=\"middle\" x=\"848.5\" y=\"-287.8\" font-family=\"Helvetica,sans-Serif\" font-size=\"14.00\" fill=\"#000000\">value = [31, 32]</text>\n</g>\n<!-- 31&#45;&gt;32 -->\n<g id=\"edge16\" class=\"edge\">\n<title>31&#45;&gt;32</title>\n<path fill=\"none\" stroke=\"#000000\" d=\"M893.5617,-383.9465C887.951,-375.2373 881.8471,-365.7626 875.9958,-356.6801\"/>\n<polygon fill=\"#000000\" stroke=\"#000000\" points=\"878.8457,-354.641 870.4876,-348.13 872.9611,-358.4321 878.8457,-354.641\"/>\n</g>\n<!-- 91 -->\n<g id=\"node28\" class=\"node\">\n<title>91</title>\n<polygon fill=\"#e88f4f\" stroke=\"#000000\" points=\"1042.5,-348 924.5,-348 924.5,-280 1042.5,-280 1042.5,-348\"/>\n<text text-anchor=\"middle\" x=\"983.5\" y=\"-332.8\" font-family=\"Helvetica,sans-Serif\" font-size=\"14.00\" fill=\"#000000\">age &lt;= 1.848</text>\n<text text-anchor=\"middle\" x=\"983.5\" y=\"-317.8\" font-family=\"Helvetica,sans-Serif\" font-size=\"14.00\" fill=\"#000000\">entropy = 0.469</text>\n<text text-anchor=\"middle\" x=\"983.5\" y=\"-302.8\" font-family=\"Helvetica,sans-Serif\" font-size=\"14.00\" fill=\"#000000\">samples = 10</text>\n<text text-anchor=\"middle\" x=\"983.5\" y=\"-287.8\" font-family=\"Helvetica,sans-Serif\" font-size=\"14.00\" fill=\"#000000\">value = [9, 1]</text>\n</g>\n<!-- 31&#45;&gt;91 -->\n<g id=\"edge27\" class=\"edge\">\n<title>31&#45;&gt;91</title>\n<path fill=\"none\" stroke=\"#000000\" d=\"M937.7657,-383.9465C943.4602,-375.2373 949.6552,-365.7626 955.5938,-356.6801\"/>\n<polygon fill=\"#000000\" stroke=\"#000000\" points=\"958.6411,-358.4151 961.1842,-348.13 952.7823,-354.5843 958.6411,-358.4151\"/>\n</g>\n<!-- 33 -->\n<g id=\"node18\" class=\"node\">\n<title>33</title>\n<polygon fill=\"#cce6f8\" stroke=\"#000000\" points=\"774.5,-244 656.5,-244 656.5,-176 774.5,-176 774.5,-244\"/>\n<text text-anchor=\"middle\" x=\"715.5\" y=\"-228.8\" font-family=\"Helvetica,sans-Serif\" font-size=\"14.00\" fill=\"#000000\">age &lt;= &#45;1.569</text>\n<text text-anchor=\"middle\" x=\"715.5\" y=\"-213.8\" font-family=\"Helvetica,sans-Serif\" font-size=\"14.00\" fill=\"#000000\">entropy = 0.984</text>\n<text text-anchor=\"middle\" x=\"715.5\" y=\"-198.8\" font-family=\"Helvetica,sans-Serif\" font-size=\"14.00\" fill=\"#000000\">samples = 54</text>\n<text text-anchor=\"middle\" x=\"715.5\" y=\"-183.8\" font-family=\"Helvetica,sans-Serif\" font-size=\"14.00\" fill=\"#000000\">value = [23, 31]</text>\n</g>\n<!-- 32&#45;&gt;33 -->\n<g id=\"edge17\" class=\"edge\">\n<title>32&#45;&gt;33</title>\n<path fill=\"none\" stroke=\"#000000\" d=\"M804.9508,-279.9465C792.8946,-270.519 779.6911,-260.1946 767.2184,-250.4415\"/>\n<polygon fill=\"#000000\" stroke=\"#000000\" points=\"769.1806,-247.5328 759.147,-244.13 764.8686,-253.0471 769.1806,-247.5328\"/>\n</g>\n<!-- 86 -->\n<g id=\"node23\" class=\"node\">\n<title>86</title>\n<polygon fill=\"#e89152\" stroke=\"#000000\" points=\"910.5,-244 792.5,-244 792.5,-176 910.5,-176 910.5,-244\"/>\n<text text-anchor=\"middle\" x=\"851.5\" y=\"-228.8\" font-family=\"Helvetica,sans-Serif\" font-size=\"14.00\" fill=\"#000000\">age &lt;= &#45;1.674</text>\n<text text-anchor=\"middle\" x=\"851.5\" y=\"-213.8\" font-family=\"Helvetica,sans-Serif\" font-size=\"14.00\" fill=\"#000000\">entropy = 0.503</text>\n<text text-anchor=\"middle\" x=\"851.5\" y=\"-198.8\" font-family=\"Helvetica,sans-Serif\" font-size=\"14.00\" fill=\"#000000\">samples = 9</text>\n<text text-anchor=\"middle\" x=\"851.5\" y=\"-183.8\" font-family=\"Helvetica,sans-Serif\" font-size=\"14.00\" fill=\"#000000\">value = [8, 1]</text>\n</g>\n<!-- 32&#45;&gt;86 -->\n<g id=\"edge22\" class=\"edge\">\n<title>32&#45;&gt;86</title>\n<path fill=\"none\" stroke=\"#000000\" d=\"M849.4823,-279.9465C849.718,-271.776 849.9731,-262.9318 850.2201,-254.3697\"/>\n<polygon fill=\"#000000\" stroke=\"#000000\" points=\"853.7256,-254.2268 850.5155,-244.13 846.7285,-254.0249 853.7256,-254.2268\"/>\n</g>\n<!-- 34 -->\n<g id=\"node19\" class=\"node\">\n<title>34</title>\n<polygon fill=\"#399de5\" stroke=\"#000000\" points=\"639,-132.5 538,-132.5 538,-79.5 639,-79.5 639,-132.5\"/>\n<text text-anchor=\"middle\" x=\"588.5\" y=\"-117.3\" font-family=\"Helvetica,sans-Serif\" font-size=\"14.00\" fill=\"#000000\">entropy = 0.0</text>\n<text text-anchor=\"middle\" x=\"588.5\" y=\"-102.3\" font-family=\"Helvetica,sans-Serif\" font-size=\"14.00\" fill=\"#000000\">samples = 7</text>\n<text text-anchor=\"middle\" x=\"588.5\" y=\"-87.3\" font-family=\"Helvetica,sans-Serif\" font-size=\"14.00\" fill=\"#000000\">value = [0, 7]</text>\n</g>\n<!-- 33&#45;&gt;34 -->\n<g id=\"edge18\" class=\"edge\">\n<title>33&#45;&gt;34</title>\n<path fill=\"none\" stroke=\"#000000\" d=\"M673.9155,-175.9465C659.3885,-164.0504 643.1173,-150.726 628.7049,-138.9237\"/>\n<polygon fill=\"#000000\" stroke=\"#000000\" points=\"630.8665,-136.17 620.9121,-132.5422 626.4314,-141.5858 630.8665,-136.17\"/>\n</g>\n<!-- 35 -->\n<g id=\"node20\" class=\"node\">\n<title>35</title>\n<polygon fill=\"#f7fbfe\" stroke=\"#000000\" points=\"773.5,-140 657.5,-140 657.5,-72 773.5,-72 773.5,-140\"/>\n<text text-anchor=\"middle\" x=\"715.5\" y=\"-124.8\" font-family=\"Helvetica,sans-Serif\" font-size=\"14.00\" fill=\"#000000\">sibsp &lt;= 1.031</text>\n<text text-anchor=\"middle\" x=\"715.5\" y=\"-109.8\" font-family=\"Helvetica,sans-Serif\" font-size=\"14.00\" fill=\"#000000\">entropy = 1.0</text>\n<text text-anchor=\"middle\" x=\"715.5\" y=\"-94.8\" font-family=\"Helvetica,sans-Serif\" font-size=\"14.00\" fill=\"#000000\">samples = 47</text>\n<text text-anchor=\"middle\" x=\"715.5\" y=\"-79.8\" font-family=\"Helvetica,sans-Serif\" font-size=\"14.00\" fill=\"#000000\">value = [23, 24]</text>\n</g>\n<!-- 33&#45;&gt;35 -->\n<g id=\"edge19\" class=\"edge\">\n<title>33&#45;&gt;35</title>\n<path fill=\"none\" stroke=\"#000000\" d=\"M715.5,-175.9465C715.5,-167.776 715.5,-158.9318 715.5,-150.3697\"/>\n<polygon fill=\"#000000\" stroke=\"#000000\" points=\"719.0001,-150.13 715.5,-140.13 712.0001,-150.13 719.0001,-150.13\"/>\n</g>\n<!-- 36 -->\n<g id=\"node21\" class=\"node\">\n<title>36</title>\n<polygon fill=\"#c0c0c0\" stroke=\"#000000\" points=\"686.5,-36 632.5,-36 632.5,0 686.5,0 686.5,-36\"/>\n<text text-anchor=\"middle\" x=\"659.5\" y=\"-14.3\" font-family=\"Helvetica,sans-Serif\" font-size=\"14.00\" fill=\"#000000\">(...)</text>\n</g>\n<!-- 35&#45;&gt;36 -->\n<g id=\"edge20\" class=\"edge\">\n<title>35&#45;&gt;36</title>\n<path fill=\"none\" stroke=\"#000000\" d=\"M693.8489,-71.9769C688.0925,-62.931 681.9581,-53.2913 676.49,-44.6986\"/>\n<polygon fill=\"#000000\" stroke=\"#000000\" points=\"679.3983,-42.7495 671.0767,-36.192 673.4927,-46.5077 679.3983,-42.7495\"/>\n</g>\n<!-- 85 -->\n<g id=\"node22\" class=\"node\">\n<title>85</title>\n<polygon fill=\"#c0c0c0\" stroke=\"#000000\" points=\"758.5,-36 704.5,-36 704.5,0 758.5,0 758.5,-36\"/>\n<text text-anchor=\"middle\" x=\"731.5\" y=\"-14.3\" font-family=\"Helvetica,sans-Serif\" font-size=\"14.00\" fill=\"#000000\">(...)</text>\n</g>\n<!-- 35&#45;&gt;85 -->\n<g id=\"edge21\" class=\"edge\">\n<title>35&#45;&gt;85</title>\n<path fill=\"none\" stroke=\"#000000\" d=\"M721.686,-71.9769C723.2442,-63.4071 724.8992,-54.3043 726.3975,-46.0638\"/>\n<polygon fill=\"#000000\" stroke=\"#000000\" points=\"729.847,-46.6568 728.1924,-36.192 722.9599,-45.4045 729.847,-46.6568\"/>\n</g>\n<!-- 87 -->\n<g id=\"node24\" class=\"node\">\n<title>87</title>\n<polygon fill=\"#eeab7b\" stroke=\"#000000\" points=\"909.5,-140 791.5,-140 791.5,-72 909.5,-72 909.5,-140\"/>\n<text text-anchor=\"middle\" x=\"850.5\" y=\"-124.8\" font-family=\"Helvetica,sans-Serif\" font-size=\"14.00\" fill=\"#000000\">age &lt;= &#45;1.78</text>\n<text text-anchor=\"middle\" x=\"850.5\" y=\"-109.8\" font-family=\"Helvetica,sans-Serif\" font-size=\"14.00\" fill=\"#000000\">entropy = 0.811</text>\n<text text-anchor=\"middle\" x=\"850.5\" y=\"-94.8\" font-family=\"Helvetica,sans-Serif\" font-size=\"14.00\" fill=\"#000000\">samples = 4</text>\n<text text-anchor=\"middle\" x=\"850.5\" y=\"-79.8\" font-family=\"Helvetica,sans-Serif\" font-size=\"14.00\" fill=\"#000000\">value = [3, 1]</text>\n</g>\n<!-- 86&#45;&gt;87 -->\n<g id=\"edge23\" class=\"edge\">\n<title>86&#45;&gt;87</title>\n<path fill=\"none\" stroke=\"#000000\" d=\"M851.1726,-175.9465C851.094,-167.776 851.009,-158.9318 850.9266,-150.3697\"/>\n<polygon fill=\"#000000\" stroke=\"#000000\" points=\"854.4243,-150.0958 850.8282,-140.13 847.4246,-150.1632 854.4243,-150.0958\"/>\n</g>\n<!-- 90 -->\n<g id=\"node27\" class=\"node\">\n<title>90</title>\n<polygon fill=\"#e58139\" stroke=\"#000000\" points=\"1029,-132.5 928,-132.5 928,-79.5 1029,-79.5 1029,-132.5\"/>\n<text text-anchor=\"middle\" x=\"978.5\" y=\"-117.3\" font-family=\"Helvetica,sans-Serif\" font-size=\"14.00\" fill=\"#000000\">entropy = 0.0</text>\n<text text-anchor=\"middle\" x=\"978.5\" y=\"-102.3\" font-family=\"Helvetica,sans-Serif\" font-size=\"14.00\" fill=\"#000000\">samples = 5</text>\n<text text-anchor=\"middle\" x=\"978.5\" y=\"-87.3\" font-family=\"Helvetica,sans-Serif\" font-size=\"14.00\" fill=\"#000000\">value = [5, 0]</text>\n</g>\n<!-- 86&#45;&gt;90 -->\n<g id=\"edge26\" class=\"edge\">\n<title>86&#45;&gt;90</title>\n<path fill=\"none\" stroke=\"#000000\" d=\"M893.0845,-175.9465C907.6115,-164.0504 923.8827,-150.726 938.2951,-138.9237\"/>\n<polygon fill=\"#000000\" stroke=\"#000000\" points=\"940.5686,-141.5858 946.0879,-132.5422 936.1335,-136.17 940.5686,-141.5858\"/>\n</g>\n<!-- 88 -->\n<g id=\"node25\" class=\"node\">\n<title>88</title>\n<polygon fill=\"#c0c0c0\" stroke=\"#000000\" points=\"861.5,-36 807.5,-36 807.5,0 861.5,0 861.5,-36\"/>\n<text text-anchor=\"middle\" x=\"834.5\" y=\"-14.3\" font-family=\"Helvetica,sans-Serif\" font-size=\"14.00\" fill=\"#000000\">(...)</text>\n</g>\n<!-- 87&#45;&gt;88 -->\n<g id=\"edge24\" class=\"edge\">\n<title>87&#45;&gt;88</title>\n<path fill=\"none\" stroke=\"#000000\" d=\"M844.314,-71.9769C842.7558,-63.4071 841.1008,-54.3043 839.6025,-46.0638\"/>\n<polygon fill=\"#000000\" stroke=\"#000000\" points=\"843.0401,-45.4045 837.8076,-36.192 836.153,-46.6568 843.0401,-45.4045\"/>\n</g>\n<!-- 89 -->\n<g id=\"node26\" class=\"node\">\n<title>89</title>\n<polygon fill=\"#c0c0c0\" stroke=\"#000000\" points=\"933.5,-36 879.5,-36 879.5,0 933.5,0 933.5,-36\"/>\n<text text-anchor=\"middle\" x=\"906.5\" y=\"-14.3\" font-family=\"Helvetica,sans-Serif\" font-size=\"14.00\" fill=\"#000000\">(...)</text>\n</g>\n<!-- 87&#45;&gt;89 -->\n<g id=\"edge25\" class=\"edge\">\n<title>87&#45;&gt;89</title>\n<path fill=\"none\" stroke=\"#000000\" d=\"M872.1511,-71.9769C877.9075,-62.931 884.0419,-53.2913 889.51,-44.6986\"/>\n<polygon fill=\"#000000\" stroke=\"#000000\" points=\"892.5073,-46.5077 894.9233,-36.192 886.6017,-42.7495 892.5073,-46.5077\"/>\n</g>\n<!-- 92 -->\n<g id=\"node29\" class=\"node\">\n<title>92</title>\n<polygon fill=\"#e58139\" stroke=\"#000000\" points=\"1030,-236.5 929,-236.5 929,-183.5 1030,-183.5 1030,-236.5\"/>\n<text text-anchor=\"middle\" x=\"979.5\" y=\"-221.3\" font-family=\"Helvetica,sans-Serif\" font-size=\"14.00\" fill=\"#000000\">entropy = 0.0</text>\n<text text-anchor=\"middle\" x=\"979.5\" y=\"-206.3\" font-family=\"Helvetica,sans-Serif\" font-size=\"14.00\" fill=\"#000000\">samples = 9</text>\n<text text-anchor=\"middle\" x=\"979.5\" y=\"-191.3\" font-family=\"Helvetica,sans-Serif\" font-size=\"14.00\" fill=\"#000000\">value = [9, 0]</text>\n</g>\n<!-- 91&#45;&gt;92 -->\n<g id=\"edge28\" class=\"edge\">\n<title>91&#45;&gt;92</title>\n<path fill=\"none\" stroke=\"#000000\" d=\"M982.1903,-279.9465C981.7793,-269.2621 981.3241,-257.4254 980.9067,-246.5742\"/>\n<polygon fill=\"#000000\" stroke=\"#000000\" points=\"984.4027,-246.4002 980.5209,-236.5422 977.4079,-246.6693 984.4027,-246.4002\"/>\n</g>\n<!-- 93 -->\n<g id=\"node30\" class=\"node\">\n<title>93</title>\n<polygon fill=\"#399de5\" stroke=\"#000000\" points=\"1149,-236.5 1048,-236.5 1048,-183.5 1149,-183.5 1149,-236.5\"/>\n<text text-anchor=\"middle\" x=\"1098.5\" y=\"-221.3\" font-family=\"Helvetica,sans-Serif\" font-size=\"14.00\" fill=\"#000000\">entropy = 0.0</text>\n<text text-anchor=\"middle\" x=\"1098.5\" y=\"-206.3\" font-family=\"Helvetica,sans-Serif\" font-size=\"14.00\" fill=\"#000000\">samples = 1</text>\n<text text-anchor=\"middle\" x=\"1098.5\" y=\"-191.3\" font-family=\"Helvetica,sans-Serif\" font-size=\"14.00\" fill=\"#000000\">value = [0, 1]</text>\n</g>\n<!-- 91&#45;&gt;93 -->\n<g id=\"edge29\" class=\"edge\">\n<title>91&#45;&gt;93</title>\n<path fill=\"none\" stroke=\"#000000\" d=\"M1021.1553,-279.9465C1034.1878,-268.1606 1048.7706,-254.9726 1061.7311,-243.2519\"/>\n<polygon fill=\"#000000\" stroke=\"#000000\" points=\"1064.0812,-245.8456 1069.1505,-236.5422 1059.386,-240.6537 1064.0812,-245.8456\"/>\n</g>\n<!-- 95 -->\n<g id=\"node32\" class=\"node\">\n<title>95</title>\n<polygon fill=\"#f6d4bc\" stroke=\"#000000\" points=\"1620.5,-452 1502.5,-452 1502.5,-384 1620.5,-384 1620.5,-452\"/>\n<text text-anchor=\"middle\" x=\"1561.5\" y=\"-436.8\" font-family=\"Helvetica,sans-Serif\" font-size=\"14.00\" fill=\"#000000\">age &lt;= 0.967</text>\n<text text-anchor=\"middle\" x=\"1561.5\" y=\"-421.8\" font-family=\"Helvetica,sans-Serif\" font-size=\"14.00\" fill=\"#000000\">entropy = 0.969</text>\n<text text-anchor=\"middle\" x=\"1561.5\" y=\"-406.8\" font-family=\"Helvetica,sans-Serif\" font-size=\"14.00\" fill=\"#000000\">samples = 73</text>\n<text text-anchor=\"middle\" x=\"1561.5\" y=\"-391.8\" font-family=\"Helvetica,sans-Serif\" font-size=\"14.00\" fill=\"#000000\">value = [44, 29]</text>\n</g>\n<!-- 94&#45;&gt;95 -->\n<g id=\"edge31\" class=\"edge\">\n<title>94&#45;&gt;95</title>\n<path fill=\"none\" stroke=\"#000000\" d=\"M1561.5,-487.9465C1561.5,-479.776 1561.5,-470.9318 1561.5,-462.3697\"/>\n<polygon fill=\"#000000\" stroke=\"#000000\" points=\"1565.0001,-462.13 1561.5,-452.13 1558.0001,-462.13 1565.0001,-462.13\"/>\n</g>\n<!-- 164 -->\n<g id=\"node55\" class=\"node\">\n<title>164</title>\n<polygon fill=\"#ea975c\" stroke=\"#000000\" points=\"2221.5,-452 2097.5,-452 2097.5,-384 2221.5,-384 2221.5,-452\"/>\n<text text-anchor=\"middle\" x=\"2159.5\" y=\"-436.8\" font-family=\"Helvetica,sans-Serif\" font-size=\"14.00\" fill=\"#000000\">age &lt;= &#45;1.393</text>\n<text text-anchor=\"middle\" x=\"2159.5\" y=\"-421.8\" font-family=\"Helvetica,sans-Serif\" font-size=\"14.00\" fill=\"#000000\">entropy = 0.613</text>\n<text text-anchor=\"middle\" x=\"2159.5\" y=\"-406.8\" font-family=\"Helvetica,sans-Serif\" font-size=\"14.00\" fill=\"#000000\">samples = 271</text>\n<text text-anchor=\"middle\" x=\"2159.5\" y=\"-391.8\" font-family=\"Helvetica,sans-Serif\" font-size=\"14.00\" fill=\"#000000\">value = [230, 41]</text>\n</g>\n<!-- 94&#45;&gt;164 -->\n<g id=\"edge54\" class=\"edge\">\n<title>94&#45;&gt;164</title>\n<path fill=\"none\" stroke=\"#000000\" d=\"M1623.5239,-511.2132C1735.0065,-491.825 1968.653,-451.1908 2087.1997,-430.574\"/>\n<polygon fill=\"#000000\" stroke=\"#000000\" points=\"2088.0136,-433.985 2097.2659,-428.8233 2086.8141,-427.0886 2088.0136,-433.985\"/>\n</g>\n<!-- 96 -->\n<g id=\"node33\" class=\"node\">\n<title>96</title>\n<polygon fill=\"#ecf6fd\" stroke=\"#000000\" points=\"1484.5,-348 1366.5,-348 1366.5,-280 1484.5,-280 1484.5,-348\"/>\n<text text-anchor=\"middle\" x=\"1425.5\" y=\"-332.8\" font-family=\"Helvetica,sans-Serif\" font-size=\"14.00\" fill=\"#000000\">age &lt;= 0.298</text>\n<text text-anchor=\"middle\" x=\"1425.5\" y=\"-317.8\" font-family=\"Helvetica,sans-Serif\" font-size=\"14.00\" fill=\"#000000\">entropy = 0.998</text>\n<text text-anchor=\"middle\" x=\"1425.5\" y=\"-302.8\" font-family=\"Helvetica,sans-Serif\" font-size=\"14.00\" fill=\"#000000\">samples = 40</text>\n<text text-anchor=\"middle\" x=\"1425.5\" y=\"-287.8\" font-family=\"Helvetica,sans-Serif\" font-size=\"14.00\" fill=\"#000000\">value = [19, 21]</text>\n</g>\n<!-- 95&#45;&gt;96 -->\n<g id=\"edge32\" class=\"edge\">\n<title>95&#45;&gt;96</title>\n<path fill=\"none\" stroke=\"#000000\" d=\"M1516.9685,-383.9465C1504.6403,-374.519 1491.1391,-364.1946 1478.385,-354.4415\"/>\n<polygon fill=\"#000000\" stroke=\"#000000\" points=\"1480.2012,-351.4243 1470.1315,-348.13 1475.949,-356.9848 1480.2012,-351.4243\"/>\n</g>\n<!-- 137 -->\n<g id=\"node44\" class=\"node\">\n<title>137</title>\n<polygon fill=\"#eda978\" stroke=\"#000000\" points=\"1756.5,-348 1638.5,-348 1638.5,-280 1756.5,-280 1756.5,-348\"/>\n<text text-anchor=\"middle\" x=\"1697.5\" y=\"-332.8\" font-family=\"Helvetica,sans-Serif\" font-size=\"14.00\" fill=\"#000000\">sibsp &lt;= &#45;0.02</text>\n<text text-anchor=\"middle\" x=\"1697.5\" y=\"-317.8\" font-family=\"Helvetica,sans-Serif\" font-size=\"14.00\" fill=\"#000000\">entropy = 0.799</text>\n<text text-anchor=\"middle\" x=\"1697.5\" y=\"-302.8\" font-family=\"Helvetica,sans-Serif\" font-size=\"14.00\" fill=\"#000000\">samples = 33</text>\n<text text-anchor=\"middle\" x=\"1697.5\" y=\"-287.8\" font-family=\"Helvetica,sans-Serif\" font-size=\"14.00\" fill=\"#000000\">value = [25, 8]</text>\n</g>\n<!-- 95&#45;&gt;137 -->\n<g id=\"edge43\" class=\"edge\">\n<title>95&#45;&gt;137</title>\n<path fill=\"none\" stroke=\"#000000\" d=\"M1606.0315,-383.9465C1618.3597,-374.519 1631.8609,-364.1946 1644.615,-354.4415\"/>\n<polygon fill=\"#000000\" stroke=\"#000000\" points=\"1647.051,-356.9848 1652.8685,-348.13 1642.7988,-351.4243 1647.051,-356.9848\"/>\n</g>\n<!-- 97 -->\n<g id=\"node34\" class=\"node\">\n<title>97</title>\n<polygon fill=\"#f8dbc6\" stroke=\"#000000\" points=\"1283.5,-244 1167.5,-244 1167.5,-176 1283.5,-176 1283.5,-244\"/>\n<text text-anchor=\"middle\" x=\"1225.5\" y=\"-228.8\" font-family=\"Helvetica,sans-Serif\" font-size=\"14.00\" fill=\"#000000\">age &lt;= &#45;0.829</text>\n<text text-anchor=\"middle\" x=\"1225.5\" y=\"-213.8\" font-family=\"Helvetica,sans-Serif\" font-size=\"14.00\" fill=\"#000000\">entropy = 0.98</text>\n<text text-anchor=\"middle\" x=\"1225.5\" y=\"-198.8\" font-family=\"Helvetica,sans-Serif\" font-size=\"14.00\" fill=\"#000000\">samples = 24</text>\n<text text-anchor=\"middle\" x=\"1225.5\" y=\"-183.8\" font-family=\"Helvetica,sans-Serif\" font-size=\"14.00\" fill=\"#000000\">value = [14, 10]</text>\n</g>\n<!-- 96&#45;&gt;97 -->\n<g id=\"edge33\" class=\"edge\">\n<title>96&#45;&gt;97</title>\n<path fill=\"none\" stroke=\"#000000\" d=\"M1366.3052,-283.2187C1343.12,-271.1624 1316.4024,-257.2693 1292.5133,-244.8469\"/>\n<polygon fill=\"#000000\" stroke=\"#000000\" points=\"1293.9963,-241.6732 1283.5093,-240.1649 1290.7668,-247.8837 1293.9963,-241.6732\"/>\n</g>\n<!-- 120 -->\n<g id=\"node39\" class=\"node\">\n<title>120</title>\n<polygon fill=\"#93caf1\" stroke=\"#000000\" points=\"1484.5,-244 1366.5,-244 1366.5,-176 1484.5,-176 1484.5,-244\"/>\n<text text-anchor=\"middle\" x=\"1425.5\" y=\"-228.8\" font-family=\"Helvetica,sans-Serif\" font-size=\"14.00\" fill=\"#000000\">age &lt;= 0.439</text>\n<text text-anchor=\"middle\" x=\"1425.5\" y=\"-213.8\" font-family=\"Helvetica,sans-Serif\" font-size=\"14.00\" fill=\"#000000\">entropy = 0.896</text>\n<text text-anchor=\"middle\" x=\"1425.5\" y=\"-198.8\" font-family=\"Helvetica,sans-Serif\" font-size=\"14.00\" fill=\"#000000\">samples = 16</text>\n<text text-anchor=\"middle\" x=\"1425.5\" y=\"-183.8\" font-family=\"Helvetica,sans-Serif\" font-size=\"14.00\" fill=\"#000000\">value = [5, 11]</text>\n</g>\n<!-- 96&#45;&gt;120 -->\n<g id=\"edge38\" class=\"edge\">\n<title>96&#45;&gt;120</title>\n<path fill=\"none\" stroke=\"#000000\" d=\"M1425.5,-279.9465C1425.5,-271.776 1425.5,-262.9318 1425.5,-254.3697\"/>\n<polygon fill=\"#000000\" stroke=\"#000000\" points=\"1429.0001,-254.13 1425.5,-244.13 1422.0001,-254.13 1429.0001,-254.13\"/>\n</g>\n<!-- 98 -->\n<g id=\"node35\" class=\"node\">\n<title>98</title>\n<polygon fill=\"#399de5\" stroke=\"#000000\" points=\"1148,-132.5 1047,-132.5 1047,-79.5 1148,-79.5 1148,-132.5\"/>\n<text text-anchor=\"middle\" x=\"1097.5\" y=\"-117.3\" font-family=\"Helvetica,sans-Serif\" font-size=\"14.00\" fill=\"#000000\">entropy = 0.0</text>\n<text text-anchor=\"middle\" x=\"1097.5\" y=\"-102.3\" font-family=\"Helvetica,sans-Serif\" font-size=\"14.00\" fill=\"#000000\">samples = 2</text>\n<text text-anchor=\"middle\" x=\"1097.5\" y=\"-87.3\" font-family=\"Helvetica,sans-Serif\" font-size=\"14.00\" fill=\"#000000\">value = [0, 2]</text>\n</g>\n<!-- 97&#45;&gt;98 -->\n<g id=\"edge34\" class=\"edge\">\n<title>97&#45;&gt;98</title>\n<path fill=\"none\" stroke=\"#000000\" d=\"M1183.588,-175.9465C1168.9467,-164.0504 1152.5474,-150.726 1138.0215,-138.9237\"/>\n<polygon fill=\"#000000\" stroke=\"#000000\" points=\"1140.1355,-136.1317 1130.1673,-132.5422 1135.7214,-141.5645 1140.1355,-136.1317\"/>\n</g>\n<!-- 99 -->\n<g id=\"node36\" class=\"node\">\n<title>99</title>\n<polygon fill=\"#f4c9aa\" stroke=\"#000000\" points=\"1284.5,-140 1166.5,-140 1166.5,-72 1284.5,-72 1284.5,-140\"/>\n<text text-anchor=\"middle\" x=\"1225.5\" y=\"-124.8\" font-family=\"Helvetica,sans-Serif\" font-size=\"14.00\" fill=\"#000000\">age &lt;= &#45;0.477</text>\n<text text-anchor=\"middle\" x=\"1225.5\" y=\"-109.8\" font-family=\"Helvetica,sans-Serif\" font-size=\"14.00\" fill=\"#000000\">entropy = 0.946</text>\n<text text-anchor=\"middle\" x=\"1225.5\" y=\"-94.8\" font-family=\"Helvetica,sans-Serif\" font-size=\"14.00\" fill=\"#000000\">samples = 22</text>\n<text text-anchor=\"middle\" x=\"1225.5\" y=\"-79.8\" font-family=\"Helvetica,sans-Serif\" font-size=\"14.00\" fill=\"#000000\">value = [14, 8]</text>\n</g>\n<!-- 97&#45;&gt;99 -->\n<g id=\"edge35\" class=\"edge\">\n<title>97&#45;&gt;99</title>\n<path fill=\"none\" stroke=\"#000000\" d=\"M1225.5,-175.9465C1225.5,-167.776 1225.5,-158.9318 1225.5,-150.3697\"/>\n<polygon fill=\"#000000\" stroke=\"#000000\" points=\"1229.0001,-150.13 1225.5,-140.13 1222.0001,-150.13 1229.0001,-150.13\"/>\n</g>\n<!-- 100 -->\n<g id=\"node37\" class=\"node\">\n<title>100</title>\n<polygon fill=\"#c0c0c0\" stroke=\"#000000\" points=\"1216.5,-36 1162.5,-36 1162.5,0 1216.5,0 1216.5,-36\"/>\n<text text-anchor=\"middle\" x=\"1189.5\" y=\"-14.3\" font-family=\"Helvetica,sans-Serif\" font-size=\"14.00\" fill=\"#000000\">(...)</text>\n</g>\n<!-- 99&#45;&gt;100 -->\n<g id=\"edge36\" class=\"edge\">\n<title>99&#45;&gt;100</title>\n<path fill=\"none\" stroke=\"#000000\" d=\"M1211.5815,-71.9769C1207.9977,-63.2167 1204.1862,-53.8995 1200.7564,-45.5157\"/>\n<polygon fill=\"#000000\" stroke=\"#000000\" points=\"1203.968,-44.1222 1196.9422,-36.192 1197.4891,-46.7727 1203.968,-44.1222\"/>\n</g>\n<!-- 101 -->\n<g id=\"node38\" class=\"node\">\n<title>101</title>\n<polygon fill=\"#c0c0c0\" stroke=\"#000000\" points=\"1288.5,-36 1234.5,-36 1234.5,0 1288.5,0 1288.5,-36\"/>\n<text text-anchor=\"middle\" x=\"1261.5\" y=\"-14.3\" font-family=\"Helvetica,sans-Serif\" font-size=\"14.00\" fill=\"#000000\">(...)</text>\n</g>\n<!-- 99&#45;&gt;101 -->\n<g id=\"edge37\" class=\"edge\">\n<title>99&#45;&gt;101</title>\n<path fill=\"none\" stroke=\"#000000\" d=\"M1239.4185,-71.9769C1243.0023,-63.2167 1246.8138,-53.8995 1250.2436,-45.5157\"/>\n<polygon fill=\"#000000\" stroke=\"#000000\" points=\"1253.5109,-46.7727 1254.0578,-36.192 1247.032,-44.1222 1253.5109,-46.7727\"/>\n</g>\n<!-- 121 -->\n<g id=\"node40\" class=\"node\">\n<title>121</title>\n<polygon fill=\"#399de5\" stroke=\"#000000\" points=\"1404,-132.5 1303,-132.5 1303,-79.5 1404,-79.5 1404,-132.5\"/>\n<text text-anchor=\"middle\" x=\"1353.5\" y=\"-117.3\" font-family=\"Helvetica,sans-Serif\" font-size=\"14.00\" fill=\"#000000\">entropy = 0.0</text>\n<text text-anchor=\"middle\" x=\"1353.5\" y=\"-102.3\" font-family=\"Helvetica,sans-Serif\" font-size=\"14.00\" fill=\"#000000\">samples = 4</text>\n<text text-anchor=\"middle\" x=\"1353.5\" y=\"-87.3\" font-family=\"Helvetica,sans-Serif\" font-size=\"14.00\" fill=\"#000000\">value = [0, 4]</text>\n</g>\n<!-- 120&#45;&gt;121 -->\n<g id=\"edge39\" class=\"edge\">\n<title>120&#45;&gt;121</title>\n<path fill=\"none\" stroke=\"#000000\" d=\"M1401.9245,-175.9465C1394.1463,-164.7113 1385.4861,-152.2021 1377.6645,-140.9043\"/>\n<polygon fill=\"#000000\" stroke=\"#000000\" points=\"1380.4452,-138.7719 1371.8753,-132.5422 1374.6898,-142.7564 1380.4452,-138.7719\"/>\n</g>\n<!-- 122 -->\n<g id=\"node41\" class=\"node\">\n<title>122</title>\n<polygon fill=\"#c6e3f8\" stroke=\"#000000\" points=\"1561,-140 1422,-140 1422,-72 1561,-72 1561,-140\"/>\n<text text-anchor=\"middle\" x=\"1491.5\" y=\"-124.8\" font-family=\"Helvetica,sans-Serif\" font-size=\"14.00\" fill=\"#000000\">embarked &lt;= &#45;0.71</text>\n<text text-anchor=\"middle\" x=\"1491.5\" y=\"-109.8\" font-family=\"Helvetica,sans-Serif\" font-size=\"14.00\" fill=\"#000000\">entropy = 0.98</text>\n<text text-anchor=\"middle\" x=\"1491.5\" y=\"-94.8\" font-family=\"Helvetica,sans-Serif\" font-size=\"14.00\" fill=\"#000000\">samples = 12</text>\n<text text-anchor=\"middle\" x=\"1491.5\" y=\"-79.8\" font-family=\"Helvetica,sans-Serif\" font-size=\"14.00\" fill=\"#000000\">value = [5, 7]</text>\n</g>\n<!-- 120&#45;&gt;122 -->\n<g id=\"edge40\" class=\"edge\">\n<title>120&#45;&gt;122</title>\n<path fill=\"none\" stroke=\"#000000\" d=\"M1447.1109,-175.9465C1452.6378,-167.2373 1458.6506,-157.7626 1464.4146,-148.6801\"/>\n<polygon fill=\"#000000\" stroke=\"#000000\" points=\"1467.4374,-150.4487 1469.8406,-140.13 1461.5271,-146.6979 1467.4374,-150.4487\"/>\n</g>\n<!-- 123 -->\n<g id=\"node42\" class=\"node\">\n<title>123</title>\n<polygon fill=\"#c0c0c0\" stroke=\"#000000\" points=\"1482.5,-36 1428.5,-36 1428.5,0 1482.5,0 1482.5,-36\"/>\n<text text-anchor=\"middle\" x=\"1455.5\" y=\"-14.3\" font-family=\"Helvetica,sans-Serif\" font-size=\"14.00\" fill=\"#000000\">(...)</text>\n</g>\n<!-- 122&#45;&gt;123 -->\n<g id=\"edge41\" class=\"edge\">\n<title>122&#45;&gt;123</title>\n<path fill=\"none\" stroke=\"#000000\" d=\"M1477.5815,-71.9769C1473.9977,-63.2167 1470.1862,-53.8995 1466.7564,-45.5157\"/>\n<polygon fill=\"#000000\" stroke=\"#000000\" points=\"1469.968,-44.1222 1462.9422,-36.192 1463.4891,-46.7727 1469.968,-44.1222\"/>\n</g>\n<!-- 130 -->\n<g id=\"node43\" class=\"node\">\n<title>130</title>\n<polygon fill=\"#c0c0c0\" stroke=\"#000000\" points=\"1554.5,-36 1500.5,-36 1500.5,0 1554.5,0 1554.5,-36\"/>\n<text text-anchor=\"middle\" x=\"1527.5\" y=\"-14.3\" font-family=\"Helvetica,sans-Serif\" font-size=\"14.00\" fill=\"#000000\">(...)</text>\n</g>\n<!-- 122&#45;&gt;130 -->\n<g id=\"edge42\" class=\"edge\">\n<title>122&#45;&gt;130</title>\n<path fill=\"none\" stroke=\"#000000\" d=\"M1505.4185,-71.9769C1509.0023,-63.2167 1512.8138,-53.8995 1516.2436,-45.5157\"/>\n<polygon fill=\"#000000\" stroke=\"#000000\" points=\"1519.5109,-46.7727 1520.0578,-36.192 1513.032,-44.1222 1519.5109,-46.7727\"/>\n</g>\n<!-- 138 -->\n<g id=\"node45\" class=\"node\">\n<title>138</title>\n<polygon fill=\"#e99457\" stroke=\"#000000\" points=\"1756.5,-244 1638.5,-244 1638.5,-176 1756.5,-176 1756.5,-244\"/>\n<text text-anchor=\"middle\" x=\"1697.5\" y=\"-228.8\" font-family=\"Helvetica,sans-Serif\" font-size=\"14.00\" fill=\"#000000\">age &lt;= 1.954</text>\n<text text-anchor=\"middle\" x=\"1697.5\" y=\"-213.8\" font-family=\"Helvetica,sans-Serif\" font-size=\"14.00\" fill=\"#000000\">entropy = 0.559</text>\n<text text-anchor=\"middle\" x=\"1697.5\" y=\"-198.8\" font-family=\"Helvetica,sans-Serif\" font-size=\"14.00\" fill=\"#000000\">samples = 23</text>\n<text text-anchor=\"middle\" x=\"1697.5\" y=\"-183.8\" font-family=\"Helvetica,sans-Serif\" font-size=\"14.00\" fill=\"#000000\">value = [20, 3]</text>\n</g>\n<!-- 137&#45;&gt;138 -->\n<g id=\"edge44\" class=\"edge\">\n<title>137&#45;&gt;138</title>\n<path fill=\"none\" stroke=\"#000000\" d=\"M1697.5,-279.9465C1697.5,-271.776 1697.5,-262.9318 1697.5,-254.3697\"/>\n<polygon fill=\"#000000\" stroke=\"#000000\" points=\"1701.0001,-254.13 1697.5,-244.13 1694.0001,-254.13 1701.0001,-254.13\"/>\n</g>\n<!-- 151 -->\n<g id=\"node50\" class=\"node\">\n<title>151</title>\n<polygon fill=\"#ffffff\" stroke=\"#000000\" points=\"1937.5,-244 1833.5,-244 1833.5,-176 1937.5,-176 1937.5,-244\"/>\n<text text-anchor=\"middle\" x=\"1885.5\" y=\"-228.8\" font-family=\"Helvetica,sans-Serif\" font-size=\"14.00\" fill=\"#000000\">age &lt;= 1.249</text>\n<text text-anchor=\"middle\" x=\"1885.5\" y=\"-213.8\" font-family=\"Helvetica,sans-Serif\" font-size=\"14.00\" fill=\"#000000\">entropy = 1.0</text>\n<text text-anchor=\"middle\" x=\"1885.5\" y=\"-198.8\" font-family=\"Helvetica,sans-Serif\" font-size=\"14.00\" fill=\"#000000\">samples = 10</text>\n<text text-anchor=\"middle\" x=\"1885.5\" y=\"-183.8\" font-family=\"Helvetica,sans-Serif\" font-size=\"14.00\" fill=\"#000000\">value = [5, 5]</text>\n</g>\n<!-- 137&#45;&gt;151 -->\n<g id=\"edge49\" class=\"edge\">\n<title>137&#45;&gt;151</title>\n<path fill=\"none\" stroke=\"#000000\" d=\"M1756.7263,-281.2365C1778.2943,-269.3053 1802.7056,-255.8012 1824.4305,-243.7831\"/>\n<polygon fill=\"#000000\" stroke=\"#000000\" points=\"1826.1866,-246.8116 1833.2427,-238.9083 1822.7982,-240.6863 1826.1866,-246.8116\"/>\n</g>\n<!-- 139 -->\n<g id=\"node46\" class=\"node\">\n<title>139</title>\n<polygon fill=\"#eca06a\" stroke=\"#000000\" points=\"1697.5,-140 1579.5,-140 1579.5,-72 1697.5,-72 1697.5,-140\"/>\n<text text-anchor=\"middle\" x=\"1638.5\" y=\"-124.8\" font-family=\"Helvetica,sans-Serif\" font-size=\"14.00\" fill=\"#000000\">age &lt;= 1.39</text>\n<text text-anchor=\"middle\" x=\"1638.5\" y=\"-109.8\" font-family=\"Helvetica,sans-Serif\" font-size=\"14.00\" fill=\"#000000\">entropy = 0.722</text>\n<text text-anchor=\"middle\" x=\"1638.5\" y=\"-94.8\" font-family=\"Helvetica,sans-Serif\" font-size=\"14.00\" fill=\"#000000\">samples = 15</text>\n<text text-anchor=\"middle\" x=\"1638.5\" y=\"-79.8\" font-family=\"Helvetica,sans-Serif\" font-size=\"14.00\" fill=\"#000000\">value = [12, 3]</text>\n</g>\n<!-- 138&#45;&gt;139 -->\n<g id=\"edge45\" class=\"edge\">\n<title>138&#45;&gt;139</title>\n<path fill=\"none\" stroke=\"#000000\" d=\"M1678.1812,-175.9465C1673.2913,-167.3271 1667.9761,-157.9579 1662.8722,-148.9611\"/>\n<polygon fill=\"#000000\" stroke=\"#000000\" points=\"1665.8408,-147.1008 1657.8622,-140.13 1659.7524,-150.5549 1665.8408,-147.1008\"/>\n</g>\n<!-- 150 -->\n<g id=\"node49\" class=\"node\">\n<title>150</title>\n<polygon fill=\"#e58139\" stroke=\"#000000\" points=\"1817,-132.5 1716,-132.5 1716,-79.5 1817,-79.5 1817,-132.5\"/>\n<text text-anchor=\"middle\" x=\"1766.5\" y=\"-117.3\" font-family=\"Helvetica,sans-Serif\" font-size=\"14.00\" fill=\"#000000\">entropy = 0.0</text>\n<text text-anchor=\"middle\" x=\"1766.5\" y=\"-102.3\" font-family=\"Helvetica,sans-Serif\" font-size=\"14.00\" fill=\"#000000\">samples = 8</text>\n<text text-anchor=\"middle\" x=\"1766.5\" y=\"-87.3\" font-family=\"Helvetica,sans-Serif\" font-size=\"14.00\" fill=\"#000000\">value = [8, 0]</text>\n</g>\n<!-- 138&#45;&gt;150 -->\n<g id=\"edge48\" class=\"edge\">\n<title>138&#45;&gt;150</title>\n<path fill=\"none\" stroke=\"#000000\" d=\"M1720.0932,-175.9465C1727.5473,-164.7113 1735.8467,-152.2021 1743.3423,-140.9043\"/>\n<polygon fill=\"#000000\" stroke=\"#000000\" points=\"1746.2782,-142.81 1748.8903,-132.5422 1740.4453,-138.94 1746.2782,-142.81\"/>\n</g>\n<!-- 140 -->\n<g id=\"node47\" class=\"node\">\n<title>140</title>\n<polygon fill=\"#c0c0c0\" stroke=\"#000000\" points=\"1664.5,-36 1610.5,-36 1610.5,0 1664.5,0 1664.5,-36\"/>\n<text text-anchor=\"middle\" x=\"1637.5\" y=\"-14.3\" font-family=\"Helvetica,sans-Serif\" font-size=\"14.00\" fill=\"#000000\">(...)</text>\n</g>\n<!-- 139&#45;&gt;140 -->\n<g id=\"edge46\" class=\"edge\">\n<title>139&#45;&gt;140</title>\n<path fill=\"none\" stroke=\"#000000\" d=\"M1638.1134,-71.9769C1638.0171,-63.5023 1637.9148,-54.5065 1637.822,-46.3388\"/>\n<polygon fill=\"#000000\" stroke=\"#000000\" points=\"1641.3202,-46.1515 1637.7067,-36.192 1634.3207,-46.2311 1641.3202,-46.1515\"/>\n</g>\n<!-- 143 -->\n<g id=\"node48\" class=\"node\">\n<title>143</title>\n<polygon fill=\"#c0c0c0\" stroke=\"#000000\" points=\"1736.5,-36 1682.5,-36 1682.5,0 1736.5,0 1736.5,-36\"/>\n<text text-anchor=\"middle\" x=\"1709.5\" y=\"-14.3\" font-family=\"Helvetica,sans-Serif\" font-size=\"14.00\" fill=\"#000000\">(...)</text>\n</g>\n<!-- 139&#45;&gt;143 -->\n<g id=\"edge47\" class=\"edge\">\n<title>139&#45;&gt;143</title>\n<path fill=\"none\" stroke=\"#000000\" d=\"M1665.9505,-71.9769C1673.4025,-62.7406 1681.3541,-52.8851 1688.3958,-44.1573\"/>\n<polygon fill=\"#000000\" stroke=\"#000000\" points=\"1691.2671,-46.1725 1694.8224,-36.192 1685.8191,-41.777 1691.2671,-46.1725\"/>\n</g>\n<!-- 152 -->\n<g id=\"node51\" class=\"node\">\n<title>152</title>\n<polygon fill=\"#e58139\" stroke=\"#000000\" points=\"1936,-132.5 1835,-132.5 1835,-79.5 1936,-79.5 1936,-132.5\"/>\n<text text-anchor=\"middle\" x=\"1885.5\" y=\"-117.3\" font-family=\"Helvetica,sans-Serif\" font-size=\"14.00\" fill=\"#000000\">entropy = 0.0</text>\n<text text-anchor=\"middle\" x=\"1885.5\" y=\"-102.3\" font-family=\"Helvetica,sans-Serif\" font-size=\"14.00\" fill=\"#000000\">samples = 3</text>\n<text text-anchor=\"middle\" x=\"1885.5\" y=\"-87.3\" font-family=\"Helvetica,sans-Serif\" font-size=\"14.00\" fill=\"#000000\">value = [3, 0]</text>\n</g>\n<!-- 151&#45;&gt;152 -->\n<g id=\"edge50\" class=\"edge\">\n<title>151&#45;&gt;152</title>\n<path fill=\"none\" stroke=\"#000000\" d=\"M1885.5,-175.9465C1885.5,-165.2621 1885.5,-153.4254 1885.5,-142.5742\"/>\n<polygon fill=\"#000000\" stroke=\"#000000\" points=\"1889.0001,-142.5421 1885.5,-132.5422 1882.0001,-142.5422 1889.0001,-142.5421\"/>\n</g>\n<!-- 153 -->\n<g id=\"node52\" class=\"node\">\n<title>153</title>\n<polygon fill=\"#88c4ef\" stroke=\"#000000\" points=\"2093,-140 1954,-140 1954,-72 2093,-72 2093,-140\"/>\n<text text-anchor=\"middle\" x=\"2023.5\" y=\"-124.8\" font-family=\"Helvetica,sans-Serif\" font-size=\"14.00\" fill=\"#000000\">embarked &lt;= &#45;0.71</text>\n<text text-anchor=\"middle\" x=\"2023.5\" y=\"-109.8\" font-family=\"Helvetica,sans-Serif\" font-size=\"14.00\" fill=\"#000000\">entropy = 0.863</text>\n<text text-anchor=\"middle\" x=\"2023.5\" y=\"-94.8\" font-family=\"Helvetica,sans-Serif\" font-size=\"14.00\" fill=\"#000000\">samples = 7</text>\n<text text-anchor=\"middle\" x=\"2023.5\" y=\"-79.8\" font-family=\"Helvetica,sans-Serif\" font-size=\"14.00\" fill=\"#000000\">value = [2, 5]</text>\n</g>\n<!-- 151&#45;&gt;153 -->\n<g id=\"edge51\" class=\"edge\">\n<title>151&#45;&gt;153</title>\n<path fill=\"none\" stroke=\"#000000\" d=\"M1930.6864,-175.9465C1943.315,-166.4293 1957.1567,-155.9978 1970.2068,-146.163\"/>\n<polygon fill=\"#000000\" stroke=\"#000000\" points=\"1972.3325,-148.9437 1978.2121,-140.13 1968.1195,-143.3534 1972.3325,-148.9437\"/>\n</g>\n<!-- 154 -->\n<g id=\"node53\" class=\"node\">\n<title>154</title>\n<polygon fill=\"#c0c0c0\" stroke=\"#000000\" points=\"2014.5,-36 1960.5,-36 1960.5,0 2014.5,0 2014.5,-36\"/>\n<text text-anchor=\"middle\" x=\"1987.5\" y=\"-14.3\" font-family=\"Helvetica,sans-Serif\" font-size=\"14.00\" fill=\"#000000\">(...)</text>\n</g>\n<!-- 153&#45;&gt;154 -->\n<g id=\"edge52\" class=\"edge\">\n<title>153&#45;&gt;154</title>\n<path fill=\"none\" stroke=\"#000000\" d=\"M2009.5815,-71.9769C2005.9977,-63.2167 2002.1862,-53.8995 1998.7564,-45.5157\"/>\n<polygon fill=\"#000000\" stroke=\"#000000\" points=\"2001.968,-44.1222 1994.9422,-36.192 1995.4891,-46.7727 2001.968,-44.1222\"/>\n</g>\n<!-- 163 -->\n<g id=\"node54\" class=\"node\">\n<title>163</title>\n<polygon fill=\"#c0c0c0\" stroke=\"#000000\" points=\"2086.5,-36 2032.5,-36 2032.5,0 2086.5,0 2086.5,-36\"/>\n<text text-anchor=\"middle\" x=\"2059.5\" y=\"-14.3\" font-family=\"Helvetica,sans-Serif\" font-size=\"14.00\" fill=\"#000000\">(...)</text>\n</g>\n<!-- 153&#45;&gt;163 -->\n<g id=\"edge53\" class=\"edge\">\n<title>153&#45;&gt;163</title>\n<path fill=\"none\" stroke=\"#000000\" d=\"M2037.4185,-71.9769C2041.0023,-63.2167 2044.8138,-53.8995 2048.2436,-45.5157\"/>\n<polygon fill=\"#000000\" stroke=\"#000000\" points=\"2051.5109,-46.7727 2052.0578,-36.192 2045.032,-44.1222 2051.5109,-46.7727\"/>\n</g>\n<!-- 165 -->\n<g id=\"node56\" class=\"node\">\n<title>165</title>\n<polygon fill=\"#c6e3f8\" stroke=\"#000000\" points=\"2217.5,-348 2101.5,-348 2101.5,-280 2217.5,-280 2217.5,-348\"/>\n<text text-anchor=\"middle\" x=\"2159.5\" y=\"-332.8\" font-family=\"Helvetica,sans-Serif\" font-size=\"14.00\" fill=\"#000000\">sibsp &lt;= 2.083</text>\n<text text-anchor=\"middle\" x=\"2159.5\" y=\"-317.8\" font-family=\"Helvetica,sans-Serif\" font-size=\"14.00\" fill=\"#000000\">entropy = 0.98</text>\n<text text-anchor=\"middle\" x=\"2159.5\" y=\"-302.8\" font-family=\"Helvetica,sans-Serif\" font-size=\"14.00\" fill=\"#000000\">samples = 24</text>\n<text text-anchor=\"middle\" x=\"2159.5\" y=\"-287.8\" font-family=\"Helvetica,sans-Serif\" font-size=\"14.00\" fill=\"#000000\">value = [10, 14]</text>\n</g>\n<!-- 164&#45;&gt;165 -->\n<g id=\"edge55\" class=\"edge\">\n<title>164&#45;&gt;165</title>\n<path fill=\"none\" stroke=\"#000000\" d=\"M2159.5,-383.9465C2159.5,-375.776 2159.5,-366.9318 2159.5,-358.3697\"/>\n<polygon fill=\"#000000\" stroke=\"#000000\" points=\"2163.0001,-358.13 2159.5,-348.13 2156.0001,-358.13 2163.0001,-358.13\"/>\n</g>\n<!-- 174 -->\n<g id=\"node63\" class=\"node\">\n<title>174</title>\n<polygon fill=\"#e89051\" stroke=\"#000000\" points=\"2585.5,-348 2461.5,-348 2461.5,-280 2585.5,-280 2585.5,-348\"/>\n<text text-anchor=\"middle\" x=\"2523.5\" y=\"-332.8\" font-family=\"Helvetica,sans-Serif\" font-size=\"14.00\" fill=\"#000000\">age &lt;= 0.21</text>\n<text text-anchor=\"middle\" x=\"2523.5\" y=\"-317.8\" font-family=\"Helvetica,sans-Serif\" font-size=\"14.00\" fill=\"#000000\">entropy = 0.498</text>\n<text text-anchor=\"middle\" x=\"2523.5\" y=\"-302.8\" font-family=\"Helvetica,sans-Serif\" font-size=\"14.00\" fill=\"#000000\">samples = 247</text>\n<text text-anchor=\"middle\" x=\"2523.5\" y=\"-287.8\" font-family=\"Helvetica,sans-Serif\" font-size=\"14.00\" fill=\"#000000\">value = [220, 27]</text>\n</g>\n<!-- 164&#45;&gt;174 -->\n<g id=\"edge62\" class=\"edge\">\n<title>164&#45;&gt;174</title>\n<path fill=\"none\" stroke=\"#000000\" d=\"M2221.6602,-400.2399C2285.4297,-382.0201 2384.534,-353.7046 2451.6323,-334.5336\"/>\n<polygon fill=\"#000000\" stroke=\"#000000\" points=\"2452.6381,-337.8864 2461.2917,-331.7738 2450.715,-331.1557 2452.6381,-337.8864\"/>\n</g>\n<!-- 166 -->\n<g id=\"node57\" class=\"node\">\n<title>166</title>\n<polygon fill=\"#399de5\" stroke=\"#000000\" points=\"2148,-236.5 2041,-236.5 2041,-183.5 2148,-183.5 2148,-236.5\"/>\n<text text-anchor=\"middle\" x=\"2094.5\" y=\"-221.3\" font-family=\"Helvetica,sans-Serif\" font-size=\"14.00\" fill=\"#000000\">entropy = 0.0</text>\n<text text-anchor=\"middle\" x=\"2094.5\" y=\"-206.3\" font-family=\"Helvetica,sans-Serif\" font-size=\"14.00\" fill=\"#000000\">samples = 13</text>\n<text text-anchor=\"middle\" x=\"2094.5\" y=\"-191.3\" font-family=\"Helvetica,sans-Serif\" font-size=\"14.00\" fill=\"#000000\">value = [0, 13]</text>\n</g>\n<!-- 165&#45;&gt;166 -->\n<g id=\"edge56\" class=\"edge\">\n<title>165&#45;&gt;166</title>\n<path fill=\"none\" stroke=\"#000000\" d=\"M2138.2166,-279.9465C2131.2634,-268.8215 2123.5295,-256.4473 2116.5231,-245.237\"/>\n<polygon fill=\"#000000\" stroke=\"#000000\" points=\"2119.3569,-243.1671 2111.0889,-236.5422 2113.4209,-246.8772 2119.3569,-243.1671\"/>\n</g>\n<!-- 167 -->\n<g id=\"node58\" class=\"node\">\n<title>167</title>\n<polygon fill=\"#e88e4d\" stroke=\"#000000\" points=\"2284.5,-244 2166.5,-244 2166.5,-176 2284.5,-176 2284.5,-244\"/>\n<text text-anchor=\"middle\" x=\"2225.5\" y=\"-228.8\" font-family=\"Helvetica,sans-Serif\" font-size=\"14.00\" fill=\"#000000\">parch &lt;= 1.172</text>\n<text text-anchor=\"middle\" x=\"2225.5\" y=\"-213.8\" font-family=\"Helvetica,sans-Serif\" font-size=\"14.00\" fill=\"#000000\">entropy = 0.439</text>\n<text text-anchor=\"middle\" x=\"2225.5\" y=\"-198.8\" font-family=\"Helvetica,sans-Serif\" font-size=\"14.00\" fill=\"#000000\">samples = 11</text>\n<text text-anchor=\"middle\" x=\"2225.5\" y=\"-183.8\" font-family=\"Helvetica,sans-Serif\" font-size=\"14.00\" fill=\"#000000\">value = [10, 1]</text>\n</g>\n<!-- 165&#45;&gt;167 -->\n<g id=\"edge57\" class=\"edge\">\n<title>165&#45;&gt;167</title>\n<path fill=\"none\" stroke=\"#000000\" d=\"M2181.1109,-279.9465C2186.6378,-271.2373 2192.6506,-261.7626 2198.4146,-252.6801\"/>\n<polygon fill=\"#000000\" stroke=\"#000000\" points=\"2201.4374,-254.4487 2203.8406,-244.13 2195.5271,-250.6979 2201.4374,-254.4487\"/>\n</g>\n<!-- 168 -->\n<g id=\"node59\" class=\"node\">\n<title>168</title>\n<polygon fill=\"#e58139\" stroke=\"#000000\" points=\"2212,-132.5 2111,-132.5 2111,-79.5 2212,-79.5 2212,-132.5\"/>\n<text text-anchor=\"middle\" x=\"2161.5\" y=\"-117.3\" font-family=\"Helvetica,sans-Serif\" font-size=\"14.00\" fill=\"#000000\">entropy = 0.0</text>\n<text text-anchor=\"middle\" x=\"2161.5\" y=\"-102.3\" font-family=\"Helvetica,sans-Serif\" font-size=\"14.00\" fill=\"#000000\">samples = 7</text>\n<text text-anchor=\"middle\" x=\"2161.5\" y=\"-87.3\" font-family=\"Helvetica,sans-Serif\" font-size=\"14.00\" fill=\"#000000\">value = [7, 0]</text>\n</g>\n<!-- 167&#45;&gt;168 -->\n<g id=\"edge58\" class=\"edge\">\n<title>167&#45;&gt;168</title>\n<path fill=\"none\" stroke=\"#000000\" d=\"M2204.544,-175.9465C2197.6978,-164.8215 2190.0829,-152.4473 2183.1843,-141.237\"/>\n<polygon fill=\"#000000\" stroke=\"#000000\" points=\"2186.0555,-139.2244 2177.8336,-132.5422 2180.0939,-142.8931 2186.0555,-139.2244\"/>\n</g>\n<!-- 169 -->\n<g id=\"node60\" class=\"node\">\n<title>169</title>\n<polygon fill=\"#eeab7b\" stroke=\"#000000\" points=\"2348.5,-140 2230.5,-140 2230.5,-72 2348.5,-72 2348.5,-140\"/>\n<text text-anchor=\"middle\" x=\"2289.5\" y=\"-124.8\" font-family=\"Helvetica,sans-Serif\" font-size=\"14.00\" fill=\"#000000\">age &lt;= &#45;1.815</text>\n<text text-anchor=\"middle\" x=\"2289.5\" y=\"-109.8\" font-family=\"Helvetica,sans-Serif\" font-size=\"14.00\" fill=\"#000000\">entropy = 0.811</text>\n<text text-anchor=\"middle\" x=\"2289.5\" y=\"-94.8\" font-family=\"Helvetica,sans-Serif\" font-size=\"14.00\" fill=\"#000000\">samples = 4</text>\n<text text-anchor=\"middle\" x=\"2289.5\" y=\"-79.8\" font-family=\"Helvetica,sans-Serif\" font-size=\"14.00\" fill=\"#000000\">value = [3, 1]</text>\n</g>\n<!-- 167&#45;&gt;169 -->\n<g id=\"edge59\" class=\"edge\">\n<title>167&#45;&gt;169</title>\n<path fill=\"none\" stroke=\"#000000\" d=\"M2246.456,-175.9465C2251.8155,-167.2373 2257.6461,-157.7626 2263.2353,-148.6801\"/>\n<polygon fill=\"#000000\" stroke=\"#000000\" points=\"2266.2367,-150.481 2268.4969,-140.13 2260.2751,-146.8122 2266.2367,-150.481\"/>\n</g>\n<!-- 170 -->\n<g id=\"node61\" class=\"node\">\n<title>170</title>\n<polygon fill=\"#c0c0c0\" stroke=\"#000000\" points=\"2280.5,-36 2226.5,-36 2226.5,0 2280.5,0 2280.5,-36\"/>\n<text text-anchor=\"middle\" x=\"2253.5\" y=\"-14.3\" font-family=\"Helvetica,sans-Serif\" font-size=\"14.00\" fill=\"#000000\">(...)</text>\n</g>\n<!-- 169&#45;&gt;170 -->\n<g id=\"edge60\" class=\"edge\">\n<title>169&#45;&gt;170</title>\n<path fill=\"none\" stroke=\"#000000\" d=\"M2275.5815,-71.9769C2271.9977,-63.2167 2268.1862,-53.8995 2264.7564,-45.5157\"/>\n<polygon fill=\"#000000\" stroke=\"#000000\" points=\"2267.968,-44.1222 2260.9422,-36.192 2261.4891,-46.7727 2267.968,-44.1222\"/>\n</g>\n<!-- 173 -->\n<g id=\"node62\" class=\"node\">\n<title>173</title>\n<polygon fill=\"#c0c0c0\" stroke=\"#000000\" points=\"2352.5,-36 2298.5,-36 2298.5,0 2352.5,0 2352.5,-36\"/>\n<text text-anchor=\"middle\" x=\"2325.5\" y=\"-14.3\" font-family=\"Helvetica,sans-Serif\" font-size=\"14.00\" fill=\"#000000\">(...)</text>\n</g>\n<!-- 169&#45;&gt;173 -->\n<g id=\"edge61\" class=\"edge\">\n<title>169&#45;&gt;173</title>\n<path fill=\"none\" stroke=\"#000000\" d=\"M2303.4185,-71.9769C2307.0023,-63.2167 2310.8138,-53.8995 2314.2436,-45.5157\"/>\n<polygon fill=\"#000000\" stroke=\"#000000\" points=\"2317.5109,-46.7727 2318.0578,-36.192 2311.032,-44.1222 2317.5109,-46.7727\"/>\n</g>\n<!-- 175 -->\n<g id=\"node64\" class=\"node\">\n<title>175</title>\n<polygon fill=\"#e99558\" stroke=\"#000000\" points=\"2585.5,-244 2461.5,-244 2461.5,-176 2585.5,-176 2585.5,-244\"/>\n<text text-anchor=\"middle\" x=\"2523.5\" y=\"-228.8\" font-family=\"Helvetica,sans-Serif\" font-size=\"14.00\" fill=\"#000000\">age &lt;= 0.104</text>\n<text text-anchor=\"middle\" x=\"2523.5\" y=\"-213.8\" font-family=\"Helvetica,sans-Serif\" font-size=\"14.00\" fill=\"#000000\">entropy = 0.574</text>\n<text text-anchor=\"middle\" x=\"2523.5\" y=\"-198.8\" font-family=\"Helvetica,sans-Serif\" font-size=\"14.00\" fill=\"#000000\">samples = 169</text>\n<text text-anchor=\"middle\" x=\"2523.5\" y=\"-183.8\" font-family=\"Helvetica,sans-Serif\" font-size=\"14.00\" fill=\"#000000\">value = [146, 23]</text>\n</g>\n<!-- 174&#45;&gt;175 -->\n<g id=\"edge63\" class=\"edge\">\n<title>174&#45;&gt;175</title>\n<path fill=\"none\" stroke=\"#000000\" d=\"M2523.5,-279.9465C2523.5,-271.776 2523.5,-262.9318 2523.5,-254.3697\"/>\n<polygon fill=\"#000000\" stroke=\"#000000\" points=\"2527.0001,-254.13 2523.5,-244.13 2520.0001,-254.13 2527.0001,-254.13\"/>\n</g>\n<!-- 240 -->\n<g id=\"node71\" class=\"node\">\n<title>240</title>\n<polygon fill=\"#e68844\" stroke=\"#000000\" points=\"2809.5,-244 2691.5,-244 2691.5,-176 2809.5,-176 2809.5,-244\"/>\n<text text-anchor=\"middle\" x=\"2750.5\" y=\"-228.8\" font-family=\"Helvetica,sans-Serif\" font-size=\"14.00\" fill=\"#000000\">age &lt;= 0.65</text>\n<text text-anchor=\"middle\" x=\"2750.5\" y=\"-213.8\" font-family=\"Helvetica,sans-Serif\" font-size=\"14.00\" fill=\"#000000\">entropy = 0.292</text>\n<text text-anchor=\"middle\" x=\"2750.5\" y=\"-198.8\" font-family=\"Helvetica,sans-Serif\" font-size=\"14.00\" fill=\"#000000\">samples = 78</text>\n<text text-anchor=\"middle\" x=\"2750.5\" y=\"-183.8\" font-family=\"Helvetica,sans-Serif\" font-size=\"14.00\" fill=\"#000000\">value = [74, 4]</text>\n</g>\n<!-- 174&#45;&gt;240 -->\n<g id=\"edge70\" class=\"edge\">\n<title>174&#45;&gt;240</title>\n<path fill=\"none\" stroke=\"#000000\" d=\"M2585.5287,-285.5815C2615.3887,-271.9012 2651.2786,-255.4582 2681.9469,-241.4076\"/>\n<polygon fill=\"#000000\" stroke=\"#000000\" points=\"2683.6511,-244.4767 2691.2845,-237.1296 2680.7354,-238.1128 2683.6511,-244.4767\"/>\n</g>\n<!-- 176 -->\n<g id=\"node65\" class=\"node\">\n<title>176</title>\n<polygon fill=\"#e89050\" stroke=\"#000000\" points=\"2514,-140 2367,-140 2367,-72 2514,-72 2514,-140\"/>\n<text text-anchor=\"middle\" x=\"2440.5\" y=\"-124.8\" font-family=\"Helvetica,sans-Serif\" font-size=\"14.00\" fill=\"#000000\">embarked &lt;= &#45;0.084</text>\n<text text-anchor=\"middle\" x=\"2440.5\" y=\"-109.8\" font-family=\"Helvetica,sans-Serif\" font-size=\"14.00\" fill=\"#000000\">entropy = 0.488</text>\n<text text-anchor=\"middle\" x=\"2440.5\" y=\"-94.8\" font-family=\"Helvetica,sans-Serif\" font-size=\"14.00\" fill=\"#000000\">samples = 151</text>\n<text text-anchor=\"middle\" x=\"2440.5\" y=\"-79.8\" font-family=\"Helvetica,sans-Serif\" font-size=\"14.00\" fill=\"#000000\">value = [135, 16]</text>\n</g>\n<!-- 175&#45;&gt;176 -->\n<g id=\"edge64\" class=\"edge\">\n<title>175&#45;&gt;176</title>\n<path fill=\"none\" stroke=\"#000000\" d=\"M2496.3227,-175.9465C2489.2288,-167.0578 2481.4985,-157.3716 2474.114,-148.1188\"/>\n<polygon fill=\"#000000\" stroke=\"#000000\" points=\"2476.7118,-145.7628 2467.7384,-140.13 2471.2406,-150.1293 2476.7118,-145.7628\"/>\n</g>\n<!-- 227 -->\n<g id=\"node68\" class=\"node\">\n<title>227</title>\n<polygon fill=\"#f6d1b7\" stroke=\"#000000\" points=\"2679,-140 2532,-140 2532,-72 2679,-72 2679,-140\"/>\n<text text-anchor=\"middle\" x=\"2605.5\" y=\"-124.8\" font-family=\"Helvetica,sans-Serif\" font-size=\"14.00\" fill=\"#000000\">embarked &lt;= &#45;0.084</text>\n<text text-anchor=\"middle\" x=\"2605.5\" y=\"-109.8\" font-family=\"Helvetica,sans-Serif\" font-size=\"14.00\" fill=\"#000000\">entropy = 0.964</text>\n<text text-anchor=\"middle\" x=\"2605.5\" y=\"-94.8\" font-family=\"Helvetica,sans-Serif\" font-size=\"14.00\" fill=\"#000000\">samples = 18</text>\n<text text-anchor=\"middle\" x=\"2605.5\" y=\"-79.8\" font-family=\"Helvetica,sans-Serif\" font-size=\"14.00\" fill=\"#000000\">value = [11, 7]</text>\n</g>\n<!-- 175&#45;&gt;227 -->\n<g id=\"edge67\" class=\"edge\">\n<title>175&#45;&gt;227</title>\n<path fill=\"none\" stroke=\"#000000\" d=\"M2550.3499,-175.9465C2557.3583,-167.0578 2564.9955,-157.3716 2572.291,-148.1188\"/>\n<polygon fill=\"#000000\" stroke=\"#000000\" points=\"2575.1467,-150.1498 2578.5898,-140.13 2569.6498,-145.8157 2575.1467,-150.1498\"/>\n</g>\n<!-- 177 -->\n<g id=\"node66\" class=\"node\">\n<title>177</title>\n<polygon fill=\"#c0c0c0\" stroke=\"#000000\" points=\"2446.5,-36 2392.5,-36 2392.5,0 2446.5,0 2446.5,-36\"/>\n<text text-anchor=\"middle\" x=\"2419.5\" y=\"-14.3\" font-family=\"Helvetica,sans-Serif\" font-size=\"14.00\" fill=\"#000000\">(...)</text>\n</g>\n<!-- 176&#45;&gt;177 -->\n<g id=\"edge65\" class=\"edge\">\n<title>176&#45;&gt;177</title>\n<path fill=\"none\" stroke=\"#000000\" d=\"M2432.3809,-71.9769C2430.3358,-63.4071 2428.1635,-54.3043 2426.197,-46.0638\"/>\n<polygon fill=\"#000000\" stroke=\"#000000\" points=\"2429.5669,-45.1064 2423.8413,-36.192 2422.7581,-46.7313 2429.5669,-45.1064\"/>\n</g>\n<!-- 198 -->\n<g id=\"node67\" class=\"node\">\n<title>198</title>\n<polygon fill=\"#c0c0c0\" stroke=\"#000000\" points=\"2518.5,-36 2464.5,-36 2464.5,0 2518.5,0 2518.5,-36\"/>\n<text text-anchor=\"middle\" x=\"2491.5\" y=\"-14.3\" font-family=\"Helvetica,sans-Serif\" font-size=\"14.00\" fill=\"#000000\">(...)</text>\n</g>\n<!-- 176&#45;&gt;198 -->\n<g id=\"edge66\" class=\"edge\">\n<title>176&#45;&gt;198</title>\n<path fill=\"none\" stroke=\"#000000\" d=\"M2460.2179,-71.9769C2465.4052,-63.0262 2470.9295,-53.4941 2475.8695,-44.9703\"/>\n<polygon fill=\"#000000\" stroke=\"#000000\" points=\"2478.9709,-46.599 2480.9569,-36.192 2472.9144,-43.089 2478.9709,-46.599\"/>\n</g>\n<!-- 228 -->\n<g id=\"node69\" class=\"node\">\n<title>228</title>\n<polygon fill=\"#c0c0c0\" stroke=\"#000000\" points=\"2622.5,-36 2568.5,-36 2568.5,0 2622.5,0 2622.5,-36\"/>\n<text text-anchor=\"middle\" x=\"2595.5\" y=\"-14.3\" font-family=\"Helvetica,sans-Serif\" font-size=\"14.00\" fill=\"#000000\">(...)</text>\n</g>\n<!-- 227&#45;&gt;228 -->\n<g id=\"edge68\" class=\"edge\">\n<title>227&#45;&gt;228</title>\n<path fill=\"none\" stroke=\"#000000\" d=\"M2601.6337,-71.9769C2600.6707,-63.5023 2599.6485,-54.5065 2598.7203,-46.3388\"/>\n<polygon fill=\"#000000\" stroke=\"#000000\" points=\"2602.1741,-45.7328 2597.5673,-36.192 2595.2188,-46.5232 2602.1741,-45.7328\"/>\n</g>\n<!-- 229 -->\n<g id=\"node70\" class=\"node\">\n<title>229</title>\n<polygon fill=\"#c0c0c0\" stroke=\"#000000\" points=\"2694.5,-36 2640.5,-36 2640.5,0 2694.5,0 2694.5,-36\"/>\n<text text-anchor=\"middle\" x=\"2667.5\" y=\"-14.3\" font-family=\"Helvetica,sans-Serif\" font-size=\"14.00\" fill=\"#000000\">(...)</text>\n</g>\n<!-- 227&#45;&gt;229 -->\n<g id=\"edge69\" class=\"edge\">\n<title>227&#45;&gt;229</title>\n<path fill=\"none\" stroke=\"#000000\" d=\"M2629.4708,-71.9769C2635.9111,-62.8358 2642.7787,-53.0883 2648.8806,-44.4276\"/>\n<polygon fill=\"#000000\" stroke=\"#000000\" points=\"2651.7846,-46.3826 2654.6829,-36.192 2646.0622,-42.3509 2651.7846,-46.3826\"/>\n</g>\n<!-- 241 -->\n<g id=\"node72\" class=\"node\">\n<title>241</title>\n<polygon fill=\"#e58139\" stroke=\"#000000\" points=\"2804,-132.5 2697,-132.5 2697,-79.5 2804,-79.5 2804,-132.5\"/>\n<text text-anchor=\"middle\" x=\"2750.5\" y=\"-117.3\" font-family=\"Helvetica,sans-Serif\" font-size=\"14.00\" fill=\"#000000\">entropy = 0.0</text>\n<text text-anchor=\"middle\" x=\"2750.5\" y=\"-102.3\" font-family=\"Helvetica,sans-Serif\" font-size=\"14.00\" fill=\"#000000\">samples = 29</text>\n<text text-anchor=\"middle\" x=\"2750.5\" y=\"-87.3\" font-family=\"Helvetica,sans-Serif\" font-size=\"14.00\" fill=\"#000000\">value = [29, 0]</text>\n</g>\n<!-- 240&#45;&gt;241 -->\n<g id=\"edge71\" class=\"edge\">\n<title>240&#45;&gt;241</title>\n<path fill=\"none\" stroke=\"#000000\" d=\"M2750.5,-175.9465C2750.5,-165.2621 2750.5,-153.4254 2750.5,-142.5742\"/>\n<polygon fill=\"#000000\" stroke=\"#000000\" points=\"2754.0001,-142.5421 2750.5,-132.5422 2747.0001,-142.5422 2754.0001,-142.5421\"/>\n</g>\n<!-- 242 -->\n<g id=\"node73\" class=\"node\">\n<title>242</title>\n<polygon fill=\"#e78c4b\" stroke=\"#000000\" points=\"2940.5,-140 2822.5,-140 2822.5,-72 2940.5,-72 2940.5,-140\"/>\n<text text-anchor=\"middle\" x=\"2881.5\" y=\"-124.8\" font-family=\"Helvetica,sans-Serif\" font-size=\"14.00\" fill=\"#000000\">sibsp &lt;= &#45;0.02</text>\n<text text-anchor=\"middle\" x=\"2881.5\" y=\"-109.8\" font-family=\"Helvetica,sans-Serif\" font-size=\"14.00\" fill=\"#000000\">entropy = 0.408</text>\n<text text-anchor=\"middle\" x=\"2881.5\" y=\"-94.8\" font-family=\"Helvetica,sans-Serif\" font-size=\"14.00\" fill=\"#000000\">samples = 49</text>\n<text text-anchor=\"middle\" x=\"2881.5\" y=\"-79.8\" font-family=\"Helvetica,sans-Serif\" font-size=\"14.00\" fill=\"#000000\">value = [45, 4]</text>\n</g>\n<!-- 240&#45;&gt;242 -->\n<g id=\"edge72\" class=\"edge\">\n<title>240&#45;&gt;242</title>\n<path fill=\"none\" stroke=\"#000000\" d=\"M2793.3943,-175.9465C2805.2693,-166.519 2818.2741,-156.1946 2830.5593,-146.4415\"/>\n<polygon fill=\"#000000\" stroke=\"#000000\" points=\"2832.8536,-149.089 2838.5093,-140.13 2828.5011,-143.6066 2832.8536,-149.089\"/>\n</g>\n<!-- 243 -->\n<g id=\"node74\" class=\"node\">\n<title>243</title>\n<polygon fill=\"#c0c0c0\" stroke=\"#000000\" points=\"2872.5,-36 2818.5,-36 2818.5,0 2872.5,0 2872.5,-36\"/>\n<text text-anchor=\"middle\" x=\"2845.5\" y=\"-14.3\" font-family=\"Helvetica,sans-Serif\" font-size=\"14.00\" fill=\"#000000\">(...)</text>\n</g>\n<!-- 242&#45;&gt;243 -->\n<g id=\"edge73\" class=\"edge\">\n<title>242&#45;&gt;243</title>\n<path fill=\"none\" stroke=\"#000000\" d=\"M2867.5815,-71.9769C2863.9977,-63.2167 2860.1862,-53.8995 2856.7564,-45.5157\"/>\n<polygon fill=\"#000000\" stroke=\"#000000\" points=\"2859.968,-44.1222 2852.9422,-36.192 2853.4891,-46.7727 2859.968,-44.1222\"/>\n</g>\n<!-- 258 -->\n<g id=\"node75\" class=\"node\">\n<title>258</title>\n<polygon fill=\"#c0c0c0\" stroke=\"#000000\" points=\"2944.5,-36 2890.5,-36 2890.5,0 2944.5,0 2944.5,-36\"/>\n<text text-anchor=\"middle\" x=\"2917.5\" y=\"-14.3\" font-family=\"Helvetica,sans-Serif\" font-size=\"14.00\" fill=\"#000000\">(...)</text>\n</g>\n<!-- 242&#45;&gt;258 -->\n<g id=\"edge74\" class=\"edge\">\n<title>242&#45;&gt;258</title>\n<path fill=\"none\" stroke=\"#000000\" d=\"M2895.4185,-71.9769C2899.0023,-63.2167 2902.8138,-53.8995 2906.2436,-45.5157\"/>\n<polygon fill=\"#000000\" stroke=\"#000000\" points=\"2909.5109,-46.7727 2910.0578,-36.192 2903.032,-44.1222 2909.5109,-46.7727\"/>\n</g>\n</g>\n</svg>\n"
          },
          "metadata": {},
          "execution_count": 203
        }
      ]
    },
    {
      "cell_type": "code",
      "source": [
        "dataset.head(5)"
      ],
      "metadata": {
        "id": "aheva1ieYD2Z"
      },
      "execution_count": null,
      "outputs": []
    }
  ]
}